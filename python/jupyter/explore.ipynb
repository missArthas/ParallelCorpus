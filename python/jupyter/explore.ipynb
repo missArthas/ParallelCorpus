{
 "cells": [
  {
   "cell_type": "code",
   "execution_count": 67,
   "metadata": {
    "ExecuteTime": {
     "end_time": "2018-02-26T08:02:30.119002Z",
     "start_time": "2018-02-26T08:02:29.167462Z"
    }
   },
   "outputs": [],
   "source": [
    "#coding=utf-8\n",
    "from bs4 import BeautifulSoup\n",
    "import pandas as pd\n",
    "import numpy as np\n",
    "import sys\n",
    "import random\n",
    "import math\n",
    "import os\n",
    "import glob\n",
    "import re"
   ]
  },
  {
   "cell_type": "code",
   "execution_count": 3,
   "metadata": {
    "ExecuteTime": {
     "end_time": "2018-02-26T08:02:30.125226Z",
     "start_time": "2018-02-26T08:02:30.121524Z"
    },
    "collapsed": true
   },
   "outputs": [],
   "source": [
    "web_path = '/Users/nali/github/ParallelCorpus/websites/'\n",
    "text_path = '/Users/nali/github/ParallelCorpus/texts/'"
   ]
  },
  {
   "cell_type": "code",
   "execution_count": 5,
   "metadata": {
    "ExecuteTime": {
     "end_time": "2018-02-27T06:30:07.066085Z",
     "start_time": "2018-02-27T06:30:07.050345Z"
    }
   },
   "outputs": [],
   "source": [
    "from pyltp import Segmentor\n",
    "from pyltp import NamedEntityRecognizer\n",
    "from pyltp import Postagger\n",
    "from pyltp import SentenceSplitter\n"
   ]
  },
  {
   "cell_type": "code",
   "execution_count": 6,
   "metadata": {
    "ExecuteTime": {
     "end_time": "2018-02-27T06:30:11.637600Z",
     "start_time": "2018-02-27T06:30:10.558790Z"
    }
   },
   "outputs": [
    {
     "name": "stdout",
     "output_type": "stream",
     "text": [
      "元芳你怎么看？\n",
      "['共和国', '反腐', '第一', '案', '，', '刘青山', '之', '子', '口述', '父亲', '枪毙', '内情', 'in', 'the', 'world']\n",
      "['n', 'v', 'm', 'n', 'wp', 'nh', 'u', 'n', 'v', 'n', 'v', 'n', 'ws', 'ws', 'ws']\n",
      "['O', 'O', 'O', 'O', 'O', 'S-Nh', 'O', 'O', 'O', 'O', 'O', 'O', 'O', 'O', 'O']\n"
     ]
    }
   ],
   "source": [
    "LTP_DATA_DIR = '/home/kevin/github/ParallelCorpus/nlp/pyltp/ltp_data_v3.4.0/'  # ltp模型目录的路径\n",
    "cws_model_path = os.path.join(LTP_DATA_DIR, 'cws.model')  # 分词模型路径，模型名称为`cws.model`\n",
    "ner_model_path = os.path.join(LTP_DATA_DIR, 'ner.model')  # 命名实体识别模型路径，模型名称为`pos.model`\n",
    "pos_model_path = os.path.join(LTP_DATA_DIR, 'pos.model')\n",
    "\n",
    "segmentor = Segmentor()  # 初始化实例\n",
    "segmentor.load(cws_model_path)  # 加载模型\n",
    "\n",
    "recognizer = NamedEntityRecognizer() # 初始化实例\n",
    "recognizer.load(ner_model_path)  # 加载模型\n",
    "\n",
    "postagger = Postagger() # 初始化实例\n",
    "postagger.load(pos_model_path)  # 加载模型\n",
    "\n",
    "sents = SentenceSplitter.split('元芳你怎么看？')  # 分句\n",
    "print('\\n'.join(sents))\n",
    "\n",
    "sentence = '共和国反腐第一案，刘青山之子口述父亲枪毙内情in the world'\n",
    "sentence2 = 'The first case of anti corruption in the Republic, the son of Liu Qingshan dictates the death of his father.'\n",
    "words = segmentor.segment(sentence)  # 分词\n",
    "print(list(words))\n",
    "postags = postagger.postag(segmentor.segment(sentence))\n",
    "print(list(postags))\n",
    "netags = recognizer.recognize(words, postags)  # 命名实体识别\n",
    "print(list(netags))\n",
    "recognizer.release()  # 释放模型"
   ]
  },
  {
   "cell_type": "code",
   "execution_count": 40,
   "metadata": {
    "ExecuteTime": {
     "end_time": "2018-02-27T06:30:14.455145Z",
     "start_time": "2018-02-27T06:30:14.439959Z"
    },
    "collapsed": true
   },
   "outputs": [],
   "source": [
    "import nltk  \n",
    "import nltk.data  \n",
    "from nltk.tokenize import WordPunctTokenizer    \n",
    "  \n",
    "def wordtokenizer(sentence):  \n",
    "    #分段  \n",
    "    words = WordPunctTokenizer().tokenize(sentence)  \n",
    "    return words \n",
    "  \n",
    "def splitSentence(paragraph):  \n",
    "    tokenizer = nltk.data.load('tokenizers/punkt/english.pickle')  \n",
    "    sentences = tokenizer.tokenize(paragraph)  \n",
    "    return sentences  \n",
    "  "
   ]
  },
  {
   "cell_type": "code",
   "execution_count": 41,
   "metadata": {
    "ExecuteTime": {
     "end_time": "2018-02-27T06:30:17.155964Z",
     "start_time": "2018-02-27T06:30:17.135745Z"
    }
   },
   "outputs": [
    {
     "name": "stdout",
     "output_type": "stream",
     "text": [
      "['My name is Tom.', 'I am a boy.', 'I like soccer!']\n"
     ]
    }
   ],
   "source": [
    "sentences = splitSentence(\"My name is Tom. I am a boy. I like soccer!\")\n",
    "print(sentences)"
   ]
  },
  {
   "cell_type": "code",
   "execution_count": 42,
   "metadata": {
    "ExecuteTime": {
     "end_time": "2018-02-27T06:30:19.530318Z",
     "start_time": "2018-02-27T06:30:19.518785Z"
    }
   },
   "outputs": [
    {
     "name": "stdout",
     "output_type": "stream",
     "text": [
      "['My', 'name', 'is', 'Tom', '.']\n",
      "['I', 'am', 'a', 'boy', '.']\n",
      "['I', 'like', 'soccer', '!']\n"
     ]
    }
   ],
   "source": [
    "for sentence in sentences:\n",
    "    print(wordtokenizer(sentence))"
   ]
  },
  {
   "cell_type": "code",
   "execution_count": 94,
   "metadata": {
    "ExecuteTime": {
     "end_time": "2018-02-28T02:45:15.224827Z",
     "start_time": "2018-02-28T02:45:15.192261Z"
    }
   },
   "outputs": [
    {
     "name": "stdout",
     "output_type": "stream",
     "text": [
      "2572\n"
     ]
    }
   ],
   "source": [
    "lst = glob.glob(r'/Users/nali/github/ParallelCorpus/texts/www.edb.gov.hk/en;sc/*.txt')\n",
    "print(len(lst))"
   ]
  },
  {
   "cell_type": "code",
   "execution_count": 32,
   "metadata": {
    "ExecuteTime": {
     "end_time": "2018-02-26T08:05:09.552181Z",
     "start_time": "2018-02-26T08:05:09.532772Z"
    }
   },
   "outputs": [
    {
     "ename": "IndexError",
     "evalue": "list index out of range",
     "traceback": [
      "\u001b[0;31m---------------------------------------------------------------------------\u001b[0m",
      "\u001b[0;31mIndexError\u001b[0m                                Traceback (most recent call last)",
      "\u001b[0;32m<ipython-input-32-c1ff8b3e6184>\u001b[0m in \u001b[0;36m<module>\u001b[0;34m()\u001b[0m\n\u001b[0;32m----> 1\u001b[0;31m \u001b[0mscfile\u001b[0m \u001b[0;34m=\u001b[0m \u001b[0mopen\u001b[0m\u001b[0;34m(\u001b[0m\u001b[0mlst\u001b[0m\u001b[0;34m[\u001b[0m\u001b[0;36m1\u001b[0m\u001b[0;34m]\u001b[0m\u001b[0;34m,\u001b[0m \u001b[0;34m'r'\u001b[0m\u001b[0;34m)\u001b[0m\u001b[0;34m\u001b[0m\u001b[0m\n\u001b[0m\u001b[1;32m      2\u001b[0m \u001b[0;32mfor\u001b[0m \u001b[0mline\u001b[0m \u001b[0;32min\u001b[0m \u001b[0mscfile\u001b[0m\u001b[0;34m.\u001b[0m\u001b[0mreadlines\u001b[0m\u001b[0;34m(\u001b[0m\u001b[0;34m)\u001b[0m\u001b[0;34m:\u001b[0m\u001b[0;34m\u001b[0m\u001b[0m\n\u001b[1;32m      3\u001b[0m     \u001b[0mlineStr\u001b[0m \u001b[0;34m=\u001b[0m \u001b[0mline\u001b[0m\u001b[0;34m.\u001b[0m\u001b[0mstrip\u001b[0m\u001b[0;34m(\u001b[0m\u001b[0;34m)\u001b[0m \u001b[0;31m# 把末尾的'\\n'删掉\u001b[0m\u001b[0;34m\u001b[0m\u001b[0m\n\u001b[1;32m      4\u001b[0m \u001b[0;31m#     print(lineStr)\u001b[0m\u001b[0;34m\u001b[0m\u001b[0;34m\u001b[0m\u001b[0m\n\u001b[1;32m      5\u001b[0m     \u001b[0msentences\u001b[0m \u001b[0;34m=\u001b[0m \u001b[0mSentenceSplitter\u001b[0m\u001b[0;34m.\u001b[0m\u001b[0msplit\u001b[0m\u001b[0;34m(\u001b[0m\u001b[0mlineStr\u001b[0m\u001b[0;34m)\u001b[0m\u001b[0;34m\u001b[0m\u001b[0m\n",
      "\u001b[0;31mIndexError\u001b[0m: list index out of range"
     ],
     "output_type": "error"
    }
   ],
   "source": [
    "scfile = open(lst[1], 'r')\n",
    "for line in scfile.readlines():\n",
    "    lineStr = line.strip() # 把末尾的'\\n'删掉\n",
    "#     print(lineStr)\n",
    "    sentences = SentenceSplitter.split(lineStr)\n",
    "    for sentence in sentences:\n",
    "        words = segmentor.segment(sentence)\n",
    "        postags = postagger.postag(words)\n",
    "        netags = recognizer.recognize(words, postags)  # 命名实体识别\n",
    "        \n",
    "        print(list(words))\n",
    "        print(list(postags))\n",
    "        print(list(netags))\n",
    "    "
   ]
  },
  {
   "cell_type": "code",
   "execution_count": 44,
   "metadata": {
    "ExecuteTime": {
     "end_time": "2018-02-27T06:30:41.132404Z",
     "start_time": "2018-02-27T06:30:41.128726Z"
    },
    "collapsed": true
   },
   "outputs": [],
   "source": [
    "from pytrie import SortedStringTrie as Trie"
   ]
  },
  {
   "cell_type": "code",
   "execution_count": 45,
   "metadata": {
    "ExecuteTime": {
     "end_time": "2018-02-27T06:30:42.732601Z",
     "start_time": "2018-02-27T06:30:42.721944Z"
    },
    "collapsed": true
   },
   "outputs": [],
   "source": [
    "t = Trie(a='哈', ab='哈哈', aba='我', c='特征', abc='123', aloe=5, are=6, be=7)"
   ]
  },
  {
   "cell_type": "code",
   "execution_count": 46,
   "metadata": {
    "ExecuteTime": {
     "end_time": "2018-02-27T06:30:43.242844Z",
     "start_time": "2018-02-27T06:30:43.237226Z"
    }
   },
   "outputs": [
    {
     "data": {
      "text/plain": [
       "['a', 'ab', 'aba', 'abc', 'aloe', 'are']"
      ]
     },
     "execution_count": 46,
     "metadata": {},
     "output_type": "execute_result"
    }
   ],
   "source": [
    "t.keys(prefix='a')"
   ]
  },
  {
   "cell_type": "code",
   "execution_count": 47,
   "metadata": {
    "ExecuteTime": {
     "end_time": "2018-02-27T06:30:45.797312Z",
     "start_time": "2018-02-27T06:30:45.793039Z"
    }
   },
   "outputs": [
    {
     "data": {
      "text/plain": [
       "'哈哈'"
      ]
     },
     "execution_count": 47,
     "metadata": {},
     "output_type": "execute_result"
    }
   ],
   "source": [
    "t.longest_prefix_value('abd', default='N/A')"
   ]
  },
  {
   "cell_type": "code",
   "execution_count": 48,
   "metadata": {
    "ExecuteTime": {
     "end_time": "2018-02-27T06:30:46.524622Z",
     "start_time": "2018-02-27T06:30:46.513988Z"
    },
    "collapsed": true
   },
   "outputs": [],
   "source": [
    "t = Trie({'a':{'啊','?'}, 'ab':'哈哈', 'aba':'我', 'c':'特征', 'abc':'123', 'aloe':5, 'are':6, 'be':7})"
   ]
  },
  {
   "cell_type": "code",
   "execution_count": 49,
   "metadata": {
    "ExecuteTime": {
     "end_time": "2018-02-27T06:30:48.338353Z",
     "start_time": "2018-02-27T06:30:48.333620Z"
    }
   },
   "outputs": [
    {
     "data": {
      "text/plain": [
       "'我'"
      ]
     },
     "execution_count": 49,
     "metadata": {},
     "output_type": "execute_result"
    }
   ],
   "source": [
    "t.longest_prefix_value('aba', default='N/A')\n",
    "# t.get('aba')"
   ]
  },
  {
   "cell_type": "code",
   "execution_count": 50,
   "metadata": {
    "ExecuteTime": {
     "end_time": "2018-02-27T06:30:51.071633Z",
     "start_time": "2018-02-27T06:30:50.967405Z"
    },
    "collapsed": true
   },
   "outputs": [],
   "source": [
    "import re\n",
    "write_file = open('/Users/nali/Downloads/final_dict.txt', 'w')\n",
    "\n",
    "with open(\"/Users/nali/Downloads/汉英词典_utf_8.txt\", 'r') as file:\n",
    "    lines =  file.readlines()\n",
    "    flag = 0 \n",
    "    for line in lines:\n",
    "        flag += 1\n",
    "        \n",
    "        words = line.split(\"\\t\")\n",
    "#         print(words[0])\n",
    "        if(len(words)>1):\n",
    "            trans = words[1].split(';')\n",
    "            w = \"\"\n",
    "            for i in trans:\n",
    "                w += (i.strip()+\";\")\n",
    "            write_file.write(words[0]+\"\\t\"+w+\"\\n\")    \n",
    "        else:\n",
    "            write_file.write(words[0]+\"\\n\")\n",
    "\n",
    "write_file.close()"
   ]
  },
  {
   "cell_type": "code",
   "execution_count": 91,
   "metadata": {
    "ExecuteTime": {
     "end_time": "2018-02-22T06:18:45.968938Z",
     "start_time": "2018-02-22T06:18:45.761800Z"
    },
    "collapsed": true
   },
   "outputs": [],
   "source": [
    "# write_file = open('/Users/nali/Downloads/汉英词典_utf_8_2.txt', 'w')\n",
    "\n",
    "# with open(\"/Users/nali/Downloads/汉英词典_utf_8.txt\", 'r') as file:\n",
    "#     lines = file.readlines()\n",
    "#     for line in lines:\n",
    "#         words = ' '.join(filter(lambda x: x, line.split(' ')))\n",
    "#         words = words.replace(\"\\\\n\",\" \")\n",
    "#         words = re.sub(r'\\(.*\\)', \"\", words)\n",
    "#         words = re.sub(r'<.*>', \"\", words)\n",
    "#         words = ' '.join(filter(lambda x: x, words.split(' ')))\n",
    "#         write_file.write(words)\n",
    "# #     write_file.writelines(lines)\n",
    "# write_file.close()"
   ]
  },
  {
   "cell_type": "code",
   "execution_count": 51,
   "metadata": {
    "ExecuteTime": {
     "end_time": "2018-02-27T06:31:26.432777Z",
     "start_time": "2018-02-27T06:31:26.429574Z"
    },
    "collapsed": true
   },
   "outputs": [],
   "source": [
    "word = '; ; word; ;'"
   ]
  },
  {
   "cell_type": "code",
   "execution_count": 51,
   "metadata": {
    "ExecuteTime": {
     "end_time": "2018-02-22T03:09:54.469827Z",
     "start_time": "2018-02-22T03:09:54.463706Z"
    }
   },
   "outputs": [
    {
     "data": {
      "text/plain": [
       "['', ' ', ' word', ' ', '']"
      ]
     },
     "execution_count": 51,
     "metadata": {},
     "output_type": "execute_result"
    }
   ],
   "source": [
    "l = word.split(';')\n",
    "l\n",
    "\n"
   ]
  },
  {
   "cell_type": "code",
   "execution_count": 56,
   "metadata": {
    "ExecuteTime": {
     "end_time": "2018-02-22T03:14:07.576342Z",
     "start_time": "2018-02-22T03:14:07.567723Z"
    }
   },
   "outputs": [
    {
     "data": {
      "text/plain": [
       "['word']"
      ]
     },
     "execution_count": 56,
     "metadata": {},
     "output_type": "execute_result"
    }
   ],
   "source": [
    "for i in range(len(l)):\n",
    "    l[i] = l[i].strip()\n",
    "    if (l[i] == '' or l[i] == ' '):\n",
    "        del l[i]\n",
    "#         i=i-1\n",
    "l"
   ]
  },
  {
   "cell_type": "code",
   "execution_count": 20,
   "metadata": {
    "ExecuteTime": {
     "end_time": "2018-02-26T08:03:29.167602Z",
     "start_time": "2018-02-26T08:03:29.161121Z"
    }
   },
   "outputs": [
    {
     "name": "stdout",
     "output_type": "stream",
     "text": [
      "Kong\n"
     ]
    }
   ],
   "source": [
    "from pytrie import SortedStringTrie as Trie\n",
    "t = Trie()\n",
    "t.get('a')\n",
    "\n",
    "if(t.get('a')==None):\n",
    "    print('Kong')\n",
    "else:\n",
    "    print('not null')"
   ]
  },
  {
   "cell_type": "code",
   "execution_count": 21,
   "metadata": {
    "ExecuteTime": {
     "end_time": "2018-02-26T08:03:31.345786Z",
     "start_time": "2018-02-26T08:03:31.338727Z"
    }
   },
   "outputs": [
    {
     "data": {
      "text/plain": [
       "SortedStringTrie({'ab': {'b', 'a', 'c'}})"
      ]
     },
     "execution_count": 21,
     "metadata": {},
     "output_type": "execute_result"
    }
   ],
   "source": [
    "t['ab']=set(['a','b'])\n",
    "# t['a']={'啊'}\n",
    "tmp=['b','a']\n",
    "t['ab'].add('c')\n",
    "t['ab'].add('b')\n",
    "t"
   ]
  },
  {
   "cell_type": "code",
   "execution_count": 22,
   "metadata": {
    "ExecuteTime": {
     "end_time": "2018-02-26T08:03:32.678971Z",
     "start_time": "2018-02-26T08:03:32.673864Z"
    }
   },
   "outputs": [
    {
     "data": {
      "text/plain": [
       "SortedStringTrie({'ab': {'b', 'a', 'c'}})"
      ]
     },
     "execution_count": 22,
     "metadata": {},
     "output_type": "execute_result"
    }
   ],
   "source": [
    "t"
   ]
  },
  {
   "cell_type": "code",
   "execution_count": 23,
   "metadata": {
    "ExecuteTime": {
     "end_time": "2018-02-26T08:03:35.825044Z",
     "start_time": "2018-02-26T08:03:35.818013Z"
    }
   },
   "outputs": [
    {
     "name": "stdout",
     "output_type": "stream",
     "text": [
      "['haha', 'h', '']\n"
     ]
    },
    {
     "data": {
      "text/plain": [
       "True"
      ]
     },
     "execution_count": 23,
     "metadata": {},
     "output_type": "execute_result"
    }
   ],
   "source": [
    "t = 'haha;h;'.split(';')\n",
    "print(t)\n",
    "t[2]==''"
   ]
  },
  {
   "cell_type": "code",
   "execution_count": 52,
   "metadata": {
    "ExecuteTime": {
     "end_time": "2018-02-27T06:32:39.799515Z",
     "start_time": "2018-02-27T06:32:35.192094Z"
    },
    "collapsed": true
   },
   "outputs": [],
   "source": [
    "from pytrie import SortedStringTrie as Trie\n",
    "trie = Trie()\n",
    "\n",
    "with open(\"/Users/nali/Downloads/final_dict.txt\", 'r') as file:\n",
    "    lines = file.readlines()\n",
    "    flag = 0\n",
    "    for line in lines:\n",
    "        flag +=1\n",
    "        parts = line.strip().split('\\t')\n",
    "        if(len(parts)>1):\n",
    "            words = parts[1].split(';')\n",
    "            for word in words:\n",
    "                if(word != ''):\n",
    "                    if(trie.get(word) == None):\n",
    "                        trie[word]=set()\n",
    "                        trie[word].add(parts[0])\n",
    "                    else:\n",
    "                        trie[word].add(parts[0])\n",
    "    "
   ]
  },
  {
   "cell_type": "code",
   "execution_count": null,
   "metadata": {
    "ExecuteTime": {
     "end_time": "2018-02-27T06:32:42.772335Z",
     "start_time": "2018-02-27T06:32:42.210087Z"
    }
   },
   "outputs": [],
   "source": []
  },
  {
   "cell_type": "code",
   "execution_count": 54,
   "metadata": {
    "ExecuteTime": {
     "end_time": "2018-02-27T06:32:47.986927Z",
     "start_time": "2018-02-27T06:32:47.982472Z"
    }
   },
   "outputs": [
    {
     "data": {
      "text/plain": [
       "{'典', '字典', '词典'}"
      ]
     },
     "execution_count": 54,
     "metadata": {},
     "output_type": "execute_result"
    }
   ],
   "source": [
    "trie.get('dictionary')"
   ]
  },
  {
   "cell_type": "code",
   "execution_count": 384,
   "metadata": {
    "ExecuteTime": {
     "end_time": "2018-02-24T06:26:57.570280Z",
     "start_time": "2018-02-24T06:26:57.553197Z"
    }
   },
   "outputs": [
    {
     "name": "stdout",
     "output_type": "stream",
     "text": [
      "333\n",
      "333\n",
      "Contact Us\n",
      "\n",
      "联络我们\n",
      "\n"
     ]
    }
   ],
   "source": [
    "en = open(\"/Users/nali/github/ParallelCorpus/texts/www.edb.gov.hk/en;sc/1;en.txt\", 'r')\n",
    "sc = open(\"/Users/nali/github/ParallelCorpus/texts/www.edb.gov.hk/en;sc/1;sc.txt\", 'r')\n",
    "enLines = en.readlines()\n",
    "scLines = sc.readlines()\n",
    "print(len(enLines))\n",
    "print(len(scLines))\n",
    "print(enLines[10])\n",
    "print(scLines[10])"
   ]
  },
  {
   "cell_type": "code",
   "execution_count": 105,
   "metadata": {
    "ExecuteTime": {
     "end_time": "2018-02-28T03:04:33.015564Z",
     "start_time": "2018-02-28T03:04:32.997169Z"
    }
   },
   "outputs": [
    {
     "name": "stdout",
     "output_type": "stream",
     "text": [
      "73\n",
      "78\n",
      "True\n",
      "中文\n",
      "\n",
      "Wechat\n",
      "\n",
      "Wechat\n",
      "\n",
      "\n"
     ]
    }
   ],
   "source": [
    "\n",
    "en = open(\"/Users/nali/github/ParallelCorpus/texts/www.interface.com.cn/lang=en;lang=zh-cn/1;lang=zh-cn.txt\", 'r')\n",
    "sc = open(\"/Users/nali/github/ParallelCorpus/texts/www.interface.com.cn/lang=en;lang=zh-cn/1;lang=en.txt\", 'r')\n",
    "enLines = en.readlines()\n",
    "scLines = sc.readlines()\n",
    "print(len(enLines))\n",
    "print(len(scLines))\n",
    "print(enLines[1]==scLines[1])\n",
    "print(scLines[1])\n",
    "print(enLines[-3])\n",
    "print(scLines[-3])"
   ]
  },
  {
   "cell_type": "code",
   "execution_count": 58,
   "metadata": {
    "ExecuteTime": {
     "end_time": "2018-02-27T06:33:37.096632Z",
     "start_time": "2018-02-27T06:33:37.080792Z"
    },
    "collapsed": true
   },
   "outputs": [],
   "source": [
    "left = 1\n",
    "right =1 \n",
    "while(left + right >0 ):\n",
    "    if(scLines[0]==enLines[0]):\n",
    "        del(scLines[0])\n",
    "        del(enLines[0])\n",
    "    else:\n",
    "        left = 0\n",
    "    \n",
    "    if(scLines[-1]==enLines[-1]):\n",
    "        del(scLines[-1])\n",
    "        del(enLines[-1])\n",
    "    else:\n",
    "        right = 0"
   ]
  },
  {
   "cell_type": "code",
   "execution_count": 59,
   "metadata": {
    "ExecuteTime": {
     "end_time": "2018-02-27T06:33:41.749381Z",
     "start_time": "2018-02-27T06:33:41.742114Z"
    }
   },
   "outputs": [
    {
     "name": "stdout",
     "output_type": "stream",
     "text": [
      "72\n",
      "67\n",
      "Samples\n",
      "\n",
      "样品袋\n",
      "\n",
      "Pinterest\n",
      "\n",
      "图片平台\n",
      "\n"
     ]
    }
   ],
   "source": [
    "print(len(scLines))\n",
    "print(len(enLines))\n",
    "print(scLines[0])\n",
    "print(enLines[0])\n",
    "print(scLines[-1])\n",
    "print(enLines[-1])"
   ]
  },
  {
   "cell_type": "code",
   "execution_count": 84,
   "metadata": {
    "ExecuteTime": {
     "end_time": "2018-02-28T02:40:56.610295Z",
     "start_time": "2018-02-28T02:40:56.599423Z"
    }
   },
   "outputs": [
    {
     "name": "stdout",
     "output_type": "stream",
     "text": [
      "333\n"
     ]
    }
   ],
   "source": [
    "print(len(open(\"/Users/nali/github/ParallelCorpus/texts/www.edb.gov.hk/en;sc/1;en.txt\", 'r').readlines()))"
   ]
  },
  {
   "cell_type": "code",
   "execution_count": 85,
   "metadata": {
    "ExecuteTime": {
     "end_time": "2018-02-28T02:40:58.636549Z",
     "start_time": "2018-02-28T02:40:58.630863Z"
    }
   },
   "outputs": [
    {
     "name": "stdout",
     "output_type": "stream",
     "text": [
      "0\n",
      "0\n"
     ]
    }
   ],
   "source": [
    "l1 = len(en.readlines())\n",
    "l2 = len(sc.readlines())\n",
    "print(l1)\n",
    "print(l2)"
   ]
  },
  {
   "cell_type": "code",
   "execution_count": 86,
   "metadata": {
    "ExecuteTime": {
     "end_time": "2018-02-28T02:41:00.628373Z",
     "start_time": "2018-02-28T02:41:00.621931Z"
    }
   },
   "outputs": [
    {
     "name": "stdout",
     "output_type": "stream",
     "text": [
      "4\n",
      "6\n"
     ]
    }
   ],
   "source": [
    "print(len(\"haha\"))\n",
    "print(len(\"哈哈haha\"))"
   ]
  },
  {
   "cell_type": "code",
   "execution_count": 80,
   "metadata": {
    "ExecuteTime": {
     "end_time": "2018-02-28T02:21:04.303836Z",
     "start_time": "2018-02-28T02:21:03.894212Z"
    }
   },
   "outputs": [],
   "source": [
    "LTP_DATA_DIR = '/Users/nali/nlp/pyltp/ltp_data_v3.4.0/'  # ltp模型目录的路径\n",
    "cws_model_path = os.path.join(LTP_DATA_DIR, 'cws.model')  # 分词模型路径，模型名称为`cws.model`\n",
    "ner_model_path = os.path.join(LTP_DATA_DIR, 'ner.model')  # 命名实体识别模型路径，模型名称为`pos.model`\n",
    "pos_model_path = os.path.join(LTP_DATA_DIR, 'pos.model')\n",
    "\n",
    "segmentor = Segmentor()  # 初始化实例\n",
    "segmentor.load(cws_model_path)  # 加载模型\n",
    "\n",
    "en = open(\"/Users/nali/github/ParallelCorpus/texts/www.edb.gov.hk/en;sc/1;en.txt\", 'r').read()\n",
    "sc = open(\"/Users/nali/github/ParallelCorpus/texts/www.edb.gov.hk/en;sc/1;sc.txt\", 'r').read()\n",
    "en_words = segmentor.segment(en)  # 分词\n",
    "sc_words = segmentor.segment(sc)"
   ]
  },
  {
   "cell_type": "code",
   "execution_count": 189,
   "metadata": {
    "ExecuteTime": {
     "end_time": "2018-03-01T09:22:49.053508Z",
     "start_time": "2018-03-01T09:22:48.947572Z"
    }
   },
   "outputs": [],
   "source": [
    "# for word in list(en_words):\n",
    "#     print(word, ':',trie.get(word), ',', trie.get(word.lower()))\n",
    "# #     print(word,trie.get(word))\n",
    "\n"
   ]
  },
  {
   "cell_type": "code",
   "execution_count": 79,
   "metadata": {
    "ExecuteTime": {
     "end_time": "2018-02-27T06:44:52.244337Z",
     "start_time": "2018-02-27T06:44:52.236444Z"
    }
   },
   "outputs": [
    {
     "name": "stdout",
     "output_type": "stream",
     "text": [
      "2125\n",
      "None\n",
      "{'教学', '教育'}\n",
      "None\n",
      "{'教学', '教育'}\n",
      "represent\n"
     ]
    }
   ],
   "source": [
    "print(len(words))\n",
    "print(trie.get('Education', default='None'))\n",
    "print(trie.get('education', default='None'))\n",
    "print(trie.longest_prefix_value('Education', default='None'))\n",
    "print(trie.longest_prefix_value('education', default='None'))\n",
    "print(trie.longest_prefix('representation'))"
   ]
  },
  {
   "cell_type": "code",
   "execution_count": 192,
   "metadata": {
    "ExecuteTime": {
     "end_time": "2018-03-01T09:31:19.865753Z",
     "start_time": "2018-03-01T09:24:47.878621Z"
    }
   },
   "outputs": [],
   "source": [
    "LTP_DATA_DIR = '/Users/nali/nlp/pyltp/ltp_data_v3.4.0/'  # ltp模型目录的路径\n",
    "cws_model_path = os.path.join(LTP_DATA_DIR, 'cws.model')  # 分词模型路径，模型名称为`cws.model`\n",
    "ner_model_path = os.path.join(LTP_DATA_DIR, 'ner.model')  # 命名实体识别模型路径，模型名称为`pos.model`\n",
    "pos_model_path = os.path.join(LTP_DATA_DIR, 'pos.model')\n",
    "segmentor = Segmentor()  # 初始化实例\n",
    "segmentor.load(cws_model_path)  # 加载模型\n",
    "\n",
    "with open(\"/Users/nali/jupyter/parallel_corpus.csv\",\"a+\") as csvfile: \n",
    "    writer = csv.writer(csvfile)\n",
    "    \n",
    "    enList = glob.glob(\"/Users/nali/github/ParallelCorpus/texts/www.interface.com.cn/lang=en;lang=zh-cn/*;lang=en.txt\")\n",
    "    scList = glob.glob(\"/Users/nali/github/ParallelCorpus/texts/www.interface.com.cn/lang=en;lang=zh-cn/*;lang=zh-cn.txt\")\n",
    "\n",
    "#     enList = glob.glob(\"/Users/nali/github/ParallelCorpus/texts/www.edb.gov.hk/en;sc/*;en.txt\")\n",
    "#     scList = glob.glob(\"/Users/nali/github/ParallelCorpus/texts/www.edb.gov.hk/en;sc/*;sc.txt\")\n",
    "\n",
    "    for index in range(len(enList)):\n",
    "        lineCmp = .0\n",
    "        enLineLength = 1\n",
    "        sameLineCmp = 0\n",
    "        charCmp = .0\n",
    "        wordCmp = .0\n",
    "        dictCmp = .0\n",
    "        \n",
    "        enLines = open(enList[index], 'r').readlines()\n",
    "        scLines = open(scList[index], 'r').readlines()\n",
    "        \n",
    "        enStr = open(enList[index], 'r').read()\n",
    "        scStr = open(scList[index], 'r').read()\n",
    "        \n",
    "        enLineLength = len(enLines)\n",
    "        scLineLength = len(scLines)\n",
    "        \n",
    "#         print(enList[index])\n",
    "        lineCmp = enLineLength * 1.0 / scLineLength\n",
    "        \n",
    "        left = 1\n",
    "        right =1\n",
    "        while(left + right >0 ):\n",
    "            if(len(scLines)>0):\n",
    "                if(scLines[0]==enLines[0]):\n",
    "                    sameLineCmp += 1\n",
    "                    del(scLines[0])\n",
    "                    del(enLines[0])\n",
    "                else:\n",
    "                    left = 0\n",
    "            else:\n",
    "                break \n",
    "            if(len(scLines)>0):\n",
    "                if(scLines[-1]==enLines[-1]):\n",
    "                    sameLineCmp += 1\n",
    "                    del(scLines[-1])\n",
    "                    del(enLines[-1])\n",
    "                else:\n",
    "                    right = 0\n",
    "            else:\n",
    "                break\n",
    "        sameLineCmp = sameLineCmp*1.0 / enLineLength\n",
    "        charCmp = len(enStr)*1.0 / len(scStr) \n",
    "        \n",
    "        en_words = segmentor.segment(enStr)  # 分词\n",
    "        sc_words = segmentor.segment(scStr)\n",
    "        \n",
    "        wordCmp = len(list(en_words))/len(list(sc_words))\n",
    "        \n",
    "#         writer.writerows([[1, lineCmp, sameLineCmp, charCmp, wordCmp, 1]])\n",
    "#         if(lineCmp>5):\n",
    "#             print(\"!!!\")\n",
    "#             print(1, lineCmp, sameLineCmp, charCmp, wordCmp)\n",
    "#         print(1, lineCmp, sameLineCmp, charCmp, wordCmp)\n",
    "            "
   ]
  },
  {
   "cell_type": "code",
   "execution_count": 184,
   "metadata": {
    "ExecuteTime": {
     "end_time": "2018-03-01T06:35:49.514430Z",
     "start_time": "2018-03-01T06:35:49.505121Z"
    },
    "collapsed": true
   },
   "outputs": [],
   "source": [
    "enLines = open(\"/Users/nali/github/ParallelCorpus/texts/www.edb.gov.hk/en;sc/795;en.txt\", 'r').readlines()\n",
    "scLines = open(\"/Users/nali/github/ParallelCorpus/texts/www.edb.gov.hk/en;sc/795;sc.txt\", 'r').readlines()"
   ]
  },
  {
   "cell_type": "code",
   "execution_count": 185,
   "metadata": {
    "ExecuteTime": {
     "end_time": "2018-03-01T06:35:50.080005Z",
     "start_time": "2018-03-01T06:35:50.074899Z"
    }
   },
   "outputs": [
    {
     "name": "stdout",
     "output_type": "stream",
     "text": [
      "142\n",
      "151\n"
     ]
    }
   ],
   "source": [
    "print(len(enLines))\n",
    "print(len(scLines))"
   ]
  },
  {
   "cell_type": "code",
   "execution_count": 155,
   "metadata": {
    "ExecuteTime": {
     "end_time": "2018-02-28T07:56:57.772120Z",
     "start_time": "2018-02-28T07:56:57.752715Z"
    }
   },
   "outputs": [
    {
     "name": "stdout",
     "output_type": "stream",
     "text": [
      "0\n"
     ]
    }
   ],
   "source": [
    "left = 1\n",
    "right =1\n",
    "count = 0\n",
    "while(left + right >0):\n",
    "    if(len(scLines) > 0):\n",
    "        if(scLines[0]==enLines[0]):\n",
    "            sameLineCmp += 1\n",
    "            del(scLines[0])\n",
    "            del(enLines[0])\n",
    "            count+=1\n",
    "        else:\n",
    "            left = 0\n",
    "            \n",
    "        if(scLines[-1]==enLines[-1]):\n",
    "            count += 1\n",
    "            del(scLines[-1])\n",
    "            del(enLines[-1])\n",
    "        else:\n",
    "            right = 0\n",
    "    else:\n",
    "        break\n",
    "print(count)"
   ]
  },
  {
   "cell_type": "code",
   "execution_count": 157,
   "metadata": {
    "ExecuteTime": {
     "end_time": "2018-02-28T07:57:14.051094Z",
     "start_time": "2018-02-28T07:57:14.045639Z"
    }
   },
   "outputs": [
    {
     "name": "stdout",
     "output_type": "stream",
     "text": [
      "Important Notices\n",
      "\n",
      "重要告示\n",
      "\n"
     ]
    }
   ],
   "source": [
    "print(enLines[0])\n",
    "print(scLines[0])"
   ]
  },
  {
   "cell_type": "code",
   "execution_count": 160,
   "metadata": {
    "ExecuteTime": {
     "end_time": "2018-02-28T07:57:57.318349Z",
     "start_time": "2018-02-28T07:57:57.313406Z"
    }
   },
   "outputs": [
    {
     "data": {
      "text/plain": [
       "{'要', '要紧', '重大', '重要'}"
      ]
     },
     "execution_count": 160,
     "metadata": {},
     "output_type": "execute_result"
    }
   ],
   "source": [
    "trie.get(\"important\")"
   ]
  },
  {
   "cell_type": "code",
   "execution_count": 2,
   "metadata": {
    "ExecuteTime": {
     "end_time": "2018-02-28T09:12:44.064751Z",
     "start_time": "2018-02-28T09:12:44.051570Z"
    }
   },
   "outputs": [],
   "source": [
    "import csv\n",
    "\n",
    "#python2可以用file替代open\n",
    "with open(\"/home/kevin/jupyter/parallel_corpus.csv\",\"w+\") as csvfile: \n",
    "    writer = csv.writer(csvfile)\n",
    "\n",
    "    #先写入columns_name\n",
    "    writer.writerow([\"urlPattern\", \"lineCmp\", \"sameLineCmp\", \"charCmp\", \"wordCmp\", \"label\"])\n",
    "    #写入多行用writerows\n",
    "#     writer.writerows([[1, 1.0421052631578946, 0.0, 2.577777777777778, 1.1812865497076024, 1]])"
   ]
  },
  {
   "cell_type": "code",
   "execution_count": 69,
   "metadata": {
    "ExecuteTime": {
     "end_time": "2018-03-01T03:27:03.012858Z",
     "start_time": "2018-03-01T03:27:02.278672Z"
    }
   },
   "outputs": [
    {
     "name": "stdout",
     "output_type": "stream",
     "text": [
      "/home/kevin/github/ParallelCorpus/texts/www.qimi.hk/en;zh-cn/1;en.txt\n",
      "/home/kevin/github/ParallelCorpus/texts/www.qimi.hk/en;zh-cn/2;en.txt\n",
      "/home/kevin/github/ParallelCorpus/texts/www.qimi.hk/en;zh-cn/3;en.txt\n",
      "/home/kevin/github/ParallelCorpus/texts/www.qimi.hk/en;zh-cn/4;en.txt\n",
      "/home/kevin/github/ParallelCorpus/texts/www.qimi.hk/en;zh-cn/5;en.txt\n",
      "/home/kevin/github/ParallelCorpus/texts/www.qimi.hk/en;zh-cn/6;en.txt\n",
      "/home/kevin/github/ParallelCorpus/texts/www.qimi.hk/en;zh-cn/7;en.txt\n",
      "/home/kevin/github/ParallelCorpus/texts/www.qimi.hk/en;zh-cn/8;en.txt\n",
      "/home/kevin/github/ParallelCorpus/texts/www.qimi.hk/en;zh-cn/9;en.txt\n",
      "/home/kevin/github/ParallelCorpus/texts/www.qimi.hk/en;zh-cn/10;en.txt\n",
      "/home/kevin/github/ParallelCorpus/texts/www.qimi.hk/en;zh-cn/11;en.txt\n",
      "/home/kevin/github/ParallelCorpus/texts/www.qimi.hk/en;zh-cn/12;en.txt\n",
      "/home/kevin/github/ParallelCorpus/texts/www.qimi.hk/en;zh-cn/13;en.txt\n",
      "/home/kevin/github/ParallelCorpus/texts/www.qimi.hk/en;zh-cn/14;en.txt\n",
      "/home/kevin/github/ParallelCorpus/texts/www.qimi.hk/en;zh-cn/15;en.txt\n",
      "/home/kevin/github/ParallelCorpus/texts/www.qimi.hk/en;zh-cn/16;en.txt\n",
      "/home/kevin/github/ParallelCorpus/texts/www.qimi.hk/en;zh-cn/17;en.txt\n",
      "/home/kevin/github/ParallelCorpus/texts/www.qimi.hk/en;zh-cn/18;en.txt\n",
      "/home/kevin/github/ParallelCorpus/texts/www.qimi.hk/en;zh-cn/19;en.txt\n",
      "/home/kevin/github/ParallelCorpus/texts/www.qimi.hk/en;zh-cn/20;en.txt\n",
      "/home/kevin/github/ParallelCorpus/texts/www.qimi.hk/en;zh-cn/21;en.txt\n",
      "/home/kevin/github/ParallelCorpus/texts/www.qimi.hk/en;zh-cn/22;en.txt\n",
      "/home/kevin/github/ParallelCorpus/texts/www.qimi.hk/en;zh-cn/23;en.txt\n",
      "/home/kevin/github/ParallelCorpus/texts/www.qimi.hk/en;zh-cn/24;en.txt\n",
      "/home/kevin/github/ParallelCorpus/texts/www.qimi.hk/en;zh-cn/25;en.txt\n",
      "/home/kevin/github/ParallelCorpus/texts/www.qimi.hk/en;zh-cn/26;en.txt\n",
      "/home/kevin/github/ParallelCorpus/texts/www.qimi.hk/en;zh-cn/27;en.txt\n",
      "/home/kevin/github/ParallelCorpus/texts/www.qimi.hk/en;zh-cn/28;en.txt\n",
      "/home/kevin/github/ParallelCorpus/texts/www.qimi.hk/en;zh-cn/29;en.txt\n",
      "/home/kevin/github/ParallelCorpus/texts/www.qimi.hk/en;zh-cn/30;en.txt\n",
      "/home/kevin/github/ParallelCorpus/texts/www.qimi.hk/en;zh-cn/31;en.txt\n",
      "/home/kevin/github/ParallelCorpus/texts/www.qimi.hk/en;zh-cn/32;en.txt\n",
      "/home/kevin/github/ParallelCorpus/texts/www.qimi.hk/en;zh-cn/33;en.txt\n",
      "/home/kevin/github/ParallelCorpus/texts/www.qimi.hk/en;zh-cn/34;en.txt\n",
      "/home/kevin/github/ParallelCorpus/texts/www.qimi.hk/en;zh-cn/35;en.txt\n",
      "/home/kevin/github/ParallelCorpus/texts/www.qimi.hk/en;zh-cn/36;en.txt\n",
      "/home/kevin/github/ParallelCorpus/texts/www.qimi.hk/en;zh-cn/37;en.txt\n",
      "/home/kevin/github/ParallelCorpus/texts/www.qimi.hk/en;zh-cn/38;en.txt\n",
      "/home/kevin/github/ParallelCorpus/texts/www.qimi.hk/en;zh-cn/39;en.txt\n"
     ]
    }
   ],
   "source": [
    "#coding=utf-8\n",
    "from bs4 import BeautifulSoup\n",
    "import pandas as pd\n",
    "import numpy as np\n",
    "import sys\n",
    "import random\n",
    "import math\n",
    "import os\n",
    "import glob\n",
    "\n",
    "from pyltp import Segmentor\n",
    "from pyltp import NamedEntityRecognizer\n",
    "from pyltp import Postagger\n",
    "from pyltp import SentenceSplitter\n",
    "\n",
    "LTP_DATA_DIR = '/home/kevin/github/ParallelCorpus/nlp/pyltp/ltp_data_v3.4.0/'  # ltp模型目录的路径\n",
    "cws_model_path = os.path.join(LTP_DATA_DIR, 'cws.model')  # 分词模型路径，模型名称为`cws.model`\n",
    "ner_model_path = os.path.join(LTP_DATA_DIR, 'ner.model')  # 命名实体识别模型路径，模型名称为`pos.model`\n",
    "pos_model_path = os.path.join(LTP_DATA_DIR, 'pos.model')\n",
    "segmentor = Segmentor()  # 初始化实例\n",
    "segmentor.load(cws_model_path)  # 加载模型\n",
    "\n",
    "def reversed_cmp(x):\n",
    "    a = re.search(r'[1-9]\\d*', x).group(0)\n",
    "    return int(a)\n",
    "\n",
    "with open(\"/home/kevin/github/ParallelCorpus/www.qimi.hk.features.csv\",\"a+\") as csvfile: \n",
    "    writer = csv.writer(csvfile)\n",
    "    \n",
    "#     enList = glob.glob(\"/Users/nali/github/ParallelCorpus/texts/www.interface.com.cn/lang=en;lang=zh-cn/*;lang=en.txt\")\n",
    "#     scList = glob.glob(\"/Users/nali/github/ParallelCorpus/texts/www.interface.com.cn/lang=en;lang=zh-cn/*;lang=zh-cn.txt\")\n",
    "\n",
    "#     enList = glob.glob(\"/home/kevin/github/ParallelCorpus/texts/www.edb.gov.hk/en;sc/*;en.txt\")\n",
    "#     scList = glob.glob(\"/home/kevin/github/ParallelCorpus/texts/www.edb.gov.hk/en;sc/*;sc.txt\")\n",
    "    \n",
    "    enList = glob.glob(\"/home/kevin/github/ParallelCorpus/texts/www.qimi.hk/en;zh-cn/*;en.txt\")\n",
    "    scList = glob.glob(\"/home/kevin/github/ParallelCorpus/texts/www.qimi.hk/en;zh-cn/*;zh-cn.txt\")\n",
    "    \n",
    "    \n",
    "    \n",
    "    enList = sorted(enList, key=reversed_cmp)\n",
    "    scList = sorted(scList, key=reversed_cmp)\n",
    "    \n",
    "    for index in range(len(enList)):\n",
    "        lineCmp = .0\n",
    "        enLineLength = 1\n",
    "        sameLineCmp = 0\n",
    "        charCmp = .0\n",
    "        wordCmp = .0\n",
    "        dictCmp = .0\n",
    "        \n",
    "        enLines = open(enList[index], 'r').readlines()\n",
    "        scLines = open(scList[index], 'r').readlines()\n",
    "        \n",
    "        enStr = open(enList[index], 'r').read()\n",
    "        scStr = open(scList[index], 'r').read()\n",
    "        \n",
    "        enLineLength = len(enLines)\n",
    "        scLineLength = len(scLines)\n",
    "        \n",
    "    #     print(enList[index])\n",
    "        lineCmp = enLineLength * 1.0 / scLineLength\n",
    "        \n",
    "        left = 1\n",
    "        right =1\n",
    "        while(left + right >0 ):\n",
    "            if(len(scLines)>0):\n",
    "                if(scLines[0]==enLines[0]):\n",
    "                    sameLineCmp += 1\n",
    "                    del(scLines[0])\n",
    "                    del(enLines[0])\n",
    "                else:\n",
    "                    left = 0\n",
    "            else:\n",
    "                break \n",
    "            if(len(scLines)>0):\n",
    "                if(scLines[-1]==enLines[-1]):\n",
    "                    sameLineCmp += 1\n",
    "                    del(scLines[-1])\n",
    "                    del(enLines[-1])\n",
    "                else:\n",
    "                    right = 0\n",
    "            else:\n",
    "                break\n",
    "        sameLineCmp = sameLineCmp*1.0 / enLineLength\n",
    "        charCmp = len(enStr)*1.0 / len(scStr) \n",
    "        \n",
    "        en_words = segmentor.segment(enStr)  # 分词\n",
    "        sc_words = segmentor.segment(scStr)\n",
    "        \n",
    "        wordCmp = len(list(en_words))/len(list(sc_words))\n",
    "        \n",
    "        print(enList[index])\n",
    "        writer.writerows([[1, lineCmp, sameLineCmp, charCmp, wordCmp, 0]])\n",
    "#         print(lineCmp, sameLineCmp, charCmp, wordCmp)\n",
    "            "
   ]
  },
  {
   "cell_type": "code",
   "execution_count": 66,
   "metadata": {},
   "outputs": [
    {
     "name": "stdout",
     "output_type": "stream",
     "text": [
      "416\n",
      "/home/kevin/github/ParallelCorpus/texts/www.edb.gov.hk/en;sc/1;en.txt\n",
      "/home/kevin/github/ParallelCorpus/texts/www.edb.gov.hk/en;sc/2;en.txt\n",
      "/home/kevin/github/ParallelCorpus/texts/www.edb.gov.hk/en;sc/3;en.txt\n",
      "/home/kevin/github/ParallelCorpus/texts/www.edb.gov.hk/en;sc/4;en.txt\n",
      "/home/kevin/github/ParallelCorpus/texts/www.edb.gov.hk/en;sc/5;en.txt\n",
      "/home/kevin/github/ParallelCorpus/texts/www.edb.gov.hk/en;sc/6;en.txt\n",
      "/home/kevin/github/ParallelCorpus/texts/www.edb.gov.hk/en;sc/7;en.txt\n",
      "/home/kevin/github/ParallelCorpus/texts/www.edb.gov.hk/en;sc/8;en.txt\n",
      "/home/kevin/github/ParallelCorpus/texts/www.edb.gov.hk/en;sc/9;en.txt\n",
      "/home/kevin/github/ParallelCorpus/texts/www.edb.gov.hk/en;sc/10;en.txt\n",
      "/home/kevin/github/ParallelCorpus/texts/www.edb.gov.hk/en;sc/11;en.txt\n",
      "/home/kevin/github/ParallelCorpus/texts/www.edb.gov.hk/en;sc/12;en.txt\n",
      "/home/kevin/github/ParallelCorpus/texts/www.edb.gov.hk/en;sc/13;en.txt\n",
      "/home/kevin/github/ParallelCorpus/texts/www.edb.gov.hk/en;sc/14;en.txt\n",
      "/home/kevin/github/ParallelCorpus/texts/www.edb.gov.hk/en;sc/15;en.txt\n",
      "/home/kevin/github/ParallelCorpus/texts/www.edb.gov.hk/en;sc/16;en.txt\n",
      "/home/kevin/github/ParallelCorpus/texts/www.edb.gov.hk/en;sc/17;en.txt\n",
      "/home/kevin/github/ParallelCorpus/texts/www.edb.gov.hk/en;sc/18;en.txt\n",
      "/home/kevin/github/ParallelCorpus/texts/www.edb.gov.hk/en;sc/19;en.txt\n",
      "/home/kevin/github/ParallelCorpus/texts/www.edb.gov.hk/en;sc/20;en.txt\n",
      "/home/kevin/github/ParallelCorpus/texts/www.edb.gov.hk/en;sc/21;en.txt\n",
      "/home/kevin/github/ParallelCorpus/texts/www.edb.gov.hk/en;sc/22;en.txt\n",
      "/home/kevin/github/ParallelCorpus/texts/www.edb.gov.hk/en;sc/23;en.txt\n",
      "/home/kevin/github/ParallelCorpus/texts/www.edb.gov.hk/en;sc/24;en.txt\n",
      "/home/kevin/github/ParallelCorpus/texts/www.edb.gov.hk/en;sc/25;en.txt\n",
      "/home/kevin/github/ParallelCorpus/texts/www.edb.gov.hk/en;sc/26;en.txt\n",
      "/home/kevin/github/ParallelCorpus/texts/www.edb.gov.hk/en;sc/27;en.txt\n",
      "/home/kevin/github/ParallelCorpus/texts/www.edb.gov.hk/en;sc/28;en.txt\n",
      "/home/kevin/github/ParallelCorpus/texts/www.edb.gov.hk/en;sc/29;en.txt\n",
      "/home/kevin/github/ParallelCorpus/texts/www.edb.gov.hk/en;sc/30;en.txt\n",
      "/home/kevin/github/ParallelCorpus/texts/www.edb.gov.hk/en;sc/31;en.txt\n",
      "/home/kevin/github/ParallelCorpus/texts/www.edb.gov.hk/en;sc/32;en.txt\n",
      "/home/kevin/github/ParallelCorpus/texts/www.edb.gov.hk/en;sc/33;en.txt\n",
      "/home/kevin/github/ParallelCorpus/texts/www.edb.gov.hk/en;sc/34;en.txt\n",
      "/home/kevin/github/ParallelCorpus/texts/www.edb.gov.hk/en;sc/35;en.txt\n",
      "/home/kevin/github/ParallelCorpus/texts/www.edb.gov.hk/en;sc/36;en.txt\n",
      "/home/kevin/github/ParallelCorpus/texts/www.edb.gov.hk/en;sc/37;en.txt\n",
      "/home/kevin/github/ParallelCorpus/texts/www.edb.gov.hk/en;sc/38;en.txt\n",
      "/home/kevin/github/ParallelCorpus/texts/www.edb.gov.hk/en;sc/39;en.txt\n",
      "/home/kevin/github/ParallelCorpus/texts/www.edb.gov.hk/en;sc/40;en.txt\n",
      "/home/kevin/github/ParallelCorpus/texts/www.edb.gov.hk/en;sc/41;en.txt\n",
      "/home/kevin/github/ParallelCorpus/texts/www.edb.gov.hk/en;sc/42;en.txt\n",
      "/home/kevin/github/ParallelCorpus/texts/www.edb.gov.hk/en;sc/43;en.txt\n",
      "/home/kevin/github/ParallelCorpus/texts/www.edb.gov.hk/en;sc/44;en.txt\n",
      "/home/kevin/github/ParallelCorpus/texts/www.edb.gov.hk/en;sc/45;en.txt\n",
      "/home/kevin/github/ParallelCorpus/texts/www.edb.gov.hk/en;sc/46;en.txt\n",
      "/home/kevin/github/ParallelCorpus/texts/www.edb.gov.hk/en;sc/47;en.txt\n",
      "/home/kevin/github/ParallelCorpus/texts/www.edb.gov.hk/en;sc/48;en.txt\n",
      "/home/kevin/github/ParallelCorpus/texts/www.edb.gov.hk/en;sc/49;en.txt\n",
      "/home/kevin/github/ParallelCorpus/texts/www.edb.gov.hk/en;sc/50;en.txt\n",
      "/home/kevin/github/ParallelCorpus/texts/www.edb.gov.hk/en;sc/51;en.txt\n",
      "/home/kevin/github/ParallelCorpus/texts/www.edb.gov.hk/en;sc/52;en.txt\n",
      "/home/kevin/github/ParallelCorpus/texts/www.edb.gov.hk/en;sc/53;en.txt\n",
      "/home/kevin/github/ParallelCorpus/texts/www.edb.gov.hk/en;sc/54;en.txt\n",
      "/home/kevin/github/ParallelCorpus/texts/www.edb.gov.hk/en;sc/55;en.txt\n",
      "/home/kevin/github/ParallelCorpus/texts/www.edb.gov.hk/en;sc/56;en.txt\n",
      "/home/kevin/github/ParallelCorpus/texts/www.edb.gov.hk/en;sc/57;en.txt\n",
      "/home/kevin/github/ParallelCorpus/texts/www.edb.gov.hk/en;sc/58;en.txt\n",
      "/home/kevin/github/ParallelCorpus/texts/www.edb.gov.hk/en;sc/59;en.txt\n",
      "/home/kevin/github/ParallelCorpus/texts/www.edb.gov.hk/en;sc/60;en.txt\n",
      "/home/kevin/github/ParallelCorpus/texts/www.edb.gov.hk/en;sc/61;en.txt\n",
      "/home/kevin/github/ParallelCorpus/texts/www.edb.gov.hk/en;sc/62;en.txt\n",
      "/home/kevin/github/ParallelCorpus/texts/www.edb.gov.hk/en;sc/63;en.txt\n",
      "/home/kevin/github/ParallelCorpus/texts/www.edb.gov.hk/en;sc/64;en.txt\n",
      "/home/kevin/github/ParallelCorpus/texts/www.edb.gov.hk/en;sc/65;en.txt\n",
      "/home/kevin/github/ParallelCorpus/texts/www.edb.gov.hk/en;sc/66;en.txt\n",
      "/home/kevin/github/ParallelCorpus/texts/www.edb.gov.hk/en;sc/67;en.txt\n",
      "/home/kevin/github/ParallelCorpus/texts/www.edb.gov.hk/en;sc/68;en.txt\n",
      "/home/kevin/github/ParallelCorpus/texts/www.edb.gov.hk/en;sc/69;en.txt\n",
      "/home/kevin/github/ParallelCorpus/texts/www.edb.gov.hk/en;sc/70;en.txt\n",
      "/home/kevin/github/ParallelCorpus/texts/www.edb.gov.hk/en;sc/71;en.txt\n",
      "/home/kevin/github/ParallelCorpus/texts/www.edb.gov.hk/en;sc/72;en.txt\n",
      "/home/kevin/github/ParallelCorpus/texts/www.edb.gov.hk/en;sc/73;en.txt\n",
      "/home/kevin/github/ParallelCorpus/texts/www.edb.gov.hk/en;sc/74;en.txt\n",
      "/home/kevin/github/ParallelCorpus/texts/www.edb.gov.hk/en;sc/75;en.txt\n",
      "/home/kevin/github/ParallelCorpus/texts/www.edb.gov.hk/en;sc/76;en.txt\n",
      "/home/kevin/github/ParallelCorpus/texts/www.edb.gov.hk/en;sc/77;en.txt\n",
      "/home/kevin/github/ParallelCorpus/texts/www.edb.gov.hk/en;sc/78;en.txt\n",
      "/home/kevin/github/ParallelCorpus/texts/www.edb.gov.hk/en;sc/79;en.txt\n",
      "/home/kevin/github/ParallelCorpus/texts/www.edb.gov.hk/en;sc/80;en.txt\n",
      "/home/kevin/github/ParallelCorpus/texts/www.edb.gov.hk/en;sc/81;en.txt\n",
      "/home/kevin/github/ParallelCorpus/texts/www.edb.gov.hk/en;sc/82;en.txt\n",
      "/home/kevin/github/ParallelCorpus/texts/www.edb.gov.hk/en;sc/83;en.txt\n",
      "/home/kevin/github/ParallelCorpus/texts/www.edb.gov.hk/en;sc/84;en.txt\n",
      "/home/kevin/github/ParallelCorpus/texts/www.edb.gov.hk/en;sc/85;en.txt\n",
      "/home/kevin/github/ParallelCorpus/texts/www.edb.gov.hk/en;sc/86;en.txt\n",
      "/home/kevin/github/ParallelCorpus/texts/www.edb.gov.hk/en;sc/87;en.txt\n",
      "/home/kevin/github/ParallelCorpus/texts/www.edb.gov.hk/en;sc/88;en.txt\n",
      "/home/kevin/github/ParallelCorpus/texts/www.edb.gov.hk/en;sc/89;en.txt\n",
      "/home/kevin/github/ParallelCorpus/texts/www.edb.gov.hk/en;sc/90;en.txt\n",
      "/home/kevin/github/ParallelCorpus/texts/www.edb.gov.hk/en;sc/91;en.txt\n",
      "/home/kevin/github/ParallelCorpus/texts/www.edb.gov.hk/en;sc/92;en.txt\n",
      "/home/kevin/github/ParallelCorpus/texts/www.edb.gov.hk/en;sc/93;en.txt\n",
      "/home/kevin/github/ParallelCorpus/texts/www.edb.gov.hk/en;sc/94;en.txt\n",
      "/home/kevin/github/ParallelCorpus/texts/www.edb.gov.hk/en;sc/95;en.txt\n",
      "/home/kevin/github/ParallelCorpus/texts/www.edb.gov.hk/en;sc/96;en.txt\n",
      "/home/kevin/github/ParallelCorpus/texts/www.edb.gov.hk/en;sc/97;en.txt\n",
      "/home/kevin/github/ParallelCorpus/texts/www.edb.gov.hk/en;sc/98;en.txt\n",
      "/home/kevin/github/ParallelCorpus/texts/www.edb.gov.hk/en;sc/99;en.txt\n",
      "/home/kevin/github/ParallelCorpus/texts/www.edb.gov.hk/en;sc/100;en.txt\n",
      "/home/kevin/github/ParallelCorpus/texts/www.edb.gov.hk/en;sc/101;en.txt\n",
      "/home/kevin/github/ParallelCorpus/texts/www.edb.gov.hk/en;sc/102;en.txt\n",
      "/home/kevin/github/ParallelCorpus/texts/www.edb.gov.hk/en;sc/103;en.txt\n",
      "/home/kevin/github/ParallelCorpus/texts/www.edb.gov.hk/en;sc/104;en.txt\n",
      "/home/kevin/github/ParallelCorpus/texts/www.edb.gov.hk/en;sc/105;en.txt\n",
      "/home/kevin/github/ParallelCorpus/texts/www.edb.gov.hk/en;sc/106;en.txt\n",
      "/home/kevin/github/ParallelCorpus/texts/www.edb.gov.hk/en;sc/107;en.txt\n",
      "/home/kevin/github/ParallelCorpus/texts/www.edb.gov.hk/en;sc/108;en.txt\n",
      "/home/kevin/github/ParallelCorpus/texts/www.edb.gov.hk/en;sc/109;en.txt\n",
      "/home/kevin/github/ParallelCorpus/texts/www.edb.gov.hk/en;sc/110;en.txt\n",
      "/home/kevin/github/ParallelCorpus/texts/www.edb.gov.hk/en;sc/111;en.txt\n",
      "/home/kevin/github/ParallelCorpus/texts/www.edb.gov.hk/en;sc/112;en.txt\n",
      "/home/kevin/github/ParallelCorpus/texts/www.edb.gov.hk/en;sc/113;en.txt\n",
      "/home/kevin/github/ParallelCorpus/texts/www.edb.gov.hk/en;sc/114;en.txt\n",
      "/home/kevin/github/ParallelCorpus/texts/www.edb.gov.hk/en;sc/115;en.txt\n",
      "/home/kevin/github/ParallelCorpus/texts/www.edb.gov.hk/en;sc/116;en.txt\n",
      "/home/kevin/github/ParallelCorpus/texts/www.edb.gov.hk/en;sc/117;en.txt\n",
      "/home/kevin/github/ParallelCorpus/texts/www.edb.gov.hk/en;sc/118;en.txt\n",
      "/home/kevin/github/ParallelCorpus/texts/www.edb.gov.hk/en;sc/119;en.txt\n",
      "/home/kevin/github/ParallelCorpus/texts/www.edb.gov.hk/en;sc/120;en.txt\n",
      "/home/kevin/github/ParallelCorpus/texts/www.edb.gov.hk/en;sc/121;en.txt\n",
      "/home/kevin/github/ParallelCorpus/texts/www.edb.gov.hk/en;sc/122;en.txt\n",
      "/home/kevin/github/ParallelCorpus/texts/www.edb.gov.hk/en;sc/123;en.txt\n",
      "/home/kevin/github/ParallelCorpus/texts/www.edb.gov.hk/en;sc/124;en.txt\n",
      "/home/kevin/github/ParallelCorpus/texts/www.edb.gov.hk/en;sc/125;en.txt\n",
      "/home/kevin/github/ParallelCorpus/texts/www.edb.gov.hk/en;sc/126;en.txt\n",
      "/home/kevin/github/ParallelCorpus/texts/www.edb.gov.hk/en;sc/127;en.txt\n",
      "/home/kevin/github/ParallelCorpus/texts/www.edb.gov.hk/en;sc/128;en.txt\n",
      "/home/kevin/github/ParallelCorpus/texts/www.edb.gov.hk/en;sc/129;en.txt\n",
      "/home/kevin/github/ParallelCorpus/texts/www.edb.gov.hk/en;sc/130;en.txt\n",
      "/home/kevin/github/ParallelCorpus/texts/www.edb.gov.hk/en;sc/131;en.txt\n",
      "/home/kevin/github/ParallelCorpus/texts/www.edb.gov.hk/en;sc/132;en.txt\n",
      "/home/kevin/github/ParallelCorpus/texts/www.edb.gov.hk/en;sc/133;en.txt\n",
      "/home/kevin/github/ParallelCorpus/texts/www.edb.gov.hk/en;sc/134;en.txt\n",
      "/home/kevin/github/ParallelCorpus/texts/www.edb.gov.hk/en;sc/135;en.txt\n",
      "/home/kevin/github/ParallelCorpus/texts/www.edb.gov.hk/en;sc/136;en.txt\n",
      "/home/kevin/github/ParallelCorpus/texts/www.edb.gov.hk/en;sc/137;en.txt\n",
      "/home/kevin/github/ParallelCorpus/texts/www.edb.gov.hk/en;sc/138;en.txt\n",
      "/home/kevin/github/ParallelCorpus/texts/www.edb.gov.hk/en;sc/139;en.txt\n",
      "/home/kevin/github/ParallelCorpus/texts/www.edb.gov.hk/en;sc/140;en.txt\n",
      "/home/kevin/github/ParallelCorpus/texts/www.edb.gov.hk/en;sc/141;en.txt\n",
      "/home/kevin/github/ParallelCorpus/texts/www.edb.gov.hk/en;sc/142;en.txt\n",
      "/home/kevin/github/ParallelCorpus/texts/www.edb.gov.hk/en;sc/143;en.txt\n",
      "/home/kevin/github/ParallelCorpus/texts/www.edb.gov.hk/en;sc/144;en.txt\n",
      "/home/kevin/github/ParallelCorpus/texts/www.edb.gov.hk/en;sc/145;en.txt\n",
      "/home/kevin/github/ParallelCorpus/texts/www.edb.gov.hk/en;sc/146;en.txt\n",
      "/home/kevin/github/ParallelCorpus/texts/www.edb.gov.hk/en;sc/147;en.txt\n",
      "/home/kevin/github/ParallelCorpus/texts/www.edb.gov.hk/en;sc/148;en.txt\n",
      "/home/kevin/github/ParallelCorpus/texts/www.edb.gov.hk/en;sc/149;en.txt\n",
      "/home/kevin/github/ParallelCorpus/texts/www.edb.gov.hk/en;sc/150;en.txt\n",
      "/home/kevin/github/ParallelCorpus/texts/www.edb.gov.hk/en;sc/151;en.txt\n",
      "/home/kevin/github/ParallelCorpus/texts/www.edb.gov.hk/en;sc/152;en.txt\n",
      "/home/kevin/github/ParallelCorpus/texts/www.edb.gov.hk/en;sc/153;en.txt\n",
      "/home/kevin/github/ParallelCorpus/texts/www.edb.gov.hk/en;sc/154;en.txt\n",
      "/home/kevin/github/ParallelCorpus/texts/www.edb.gov.hk/en;sc/155;en.txt\n",
      "/home/kevin/github/ParallelCorpus/texts/www.edb.gov.hk/en;sc/156;en.txt\n",
      "/home/kevin/github/ParallelCorpus/texts/www.edb.gov.hk/en;sc/157;en.txt\n",
      "/home/kevin/github/ParallelCorpus/texts/www.edb.gov.hk/en;sc/158;en.txt\n",
      "/home/kevin/github/ParallelCorpus/texts/www.edb.gov.hk/en;sc/159;en.txt\n",
      "/home/kevin/github/ParallelCorpus/texts/www.edb.gov.hk/en;sc/160;en.txt\n",
      "/home/kevin/github/ParallelCorpus/texts/www.edb.gov.hk/en;sc/161;en.txt\n",
      "/home/kevin/github/ParallelCorpus/texts/www.edb.gov.hk/en;sc/162;en.txt\n",
      "/home/kevin/github/ParallelCorpus/texts/www.edb.gov.hk/en;sc/163;en.txt\n",
      "/home/kevin/github/ParallelCorpus/texts/www.edb.gov.hk/en;sc/164;en.txt\n",
      "/home/kevin/github/ParallelCorpus/texts/www.edb.gov.hk/en;sc/165;en.txt\n",
      "/home/kevin/github/ParallelCorpus/texts/www.edb.gov.hk/en;sc/166;en.txt\n",
      "/home/kevin/github/ParallelCorpus/texts/www.edb.gov.hk/en;sc/167;en.txt\n",
      "/home/kevin/github/ParallelCorpus/texts/www.edb.gov.hk/en;sc/168;en.txt\n",
      "/home/kevin/github/ParallelCorpus/texts/www.edb.gov.hk/en;sc/169;en.txt\n",
      "/home/kevin/github/ParallelCorpus/texts/www.edb.gov.hk/en;sc/170;en.txt\n",
      "/home/kevin/github/ParallelCorpus/texts/www.edb.gov.hk/en;sc/171;en.txt\n",
      "/home/kevin/github/ParallelCorpus/texts/www.edb.gov.hk/en;sc/172;en.txt\n",
      "/home/kevin/github/ParallelCorpus/texts/www.edb.gov.hk/en;sc/173;en.txt\n",
      "/home/kevin/github/ParallelCorpus/texts/www.edb.gov.hk/en;sc/174;en.txt\n",
      "/home/kevin/github/ParallelCorpus/texts/www.edb.gov.hk/en;sc/175;en.txt\n",
      "/home/kevin/github/ParallelCorpus/texts/www.edb.gov.hk/en;sc/176;en.txt\n",
      "/home/kevin/github/ParallelCorpus/texts/www.edb.gov.hk/en;sc/177;en.txt\n",
      "/home/kevin/github/ParallelCorpus/texts/www.edb.gov.hk/en;sc/178;en.txt\n",
      "/home/kevin/github/ParallelCorpus/texts/www.edb.gov.hk/en;sc/179;en.txt\n",
      "/home/kevin/github/ParallelCorpus/texts/www.edb.gov.hk/en;sc/180;en.txt\n",
      "/home/kevin/github/ParallelCorpus/texts/www.edb.gov.hk/en;sc/181;en.txt\n",
      "/home/kevin/github/ParallelCorpus/texts/www.edb.gov.hk/en;sc/182;en.txt\n",
      "/home/kevin/github/ParallelCorpus/texts/www.edb.gov.hk/en;sc/183;en.txt\n",
      "/home/kevin/github/ParallelCorpus/texts/www.edb.gov.hk/en;sc/184;en.txt\n",
      "/home/kevin/github/ParallelCorpus/texts/www.edb.gov.hk/en;sc/185;en.txt\n",
      "/home/kevin/github/ParallelCorpus/texts/www.edb.gov.hk/en;sc/186;en.txt\n",
      "/home/kevin/github/ParallelCorpus/texts/www.edb.gov.hk/en;sc/187;en.txt\n",
      "/home/kevin/github/ParallelCorpus/texts/www.edb.gov.hk/en;sc/188;en.txt\n",
      "/home/kevin/github/ParallelCorpus/texts/www.edb.gov.hk/en;sc/189;en.txt\n",
      "/home/kevin/github/ParallelCorpus/texts/www.edb.gov.hk/en;sc/190;en.txt\n",
      "/home/kevin/github/ParallelCorpus/texts/www.edb.gov.hk/en;sc/191;en.txt\n",
      "/home/kevin/github/ParallelCorpus/texts/www.edb.gov.hk/en;sc/192;en.txt\n",
      "/home/kevin/github/ParallelCorpus/texts/www.edb.gov.hk/en;sc/193;en.txt\n",
      "/home/kevin/github/ParallelCorpus/texts/www.edb.gov.hk/en;sc/194;en.txt\n",
      "/home/kevin/github/ParallelCorpus/texts/www.edb.gov.hk/en;sc/195;en.txt\n",
      "/home/kevin/github/ParallelCorpus/texts/www.edb.gov.hk/en;sc/196;en.txt\n",
      "/home/kevin/github/ParallelCorpus/texts/www.edb.gov.hk/en;sc/197;en.txt\n",
      "/home/kevin/github/ParallelCorpus/texts/www.edb.gov.hk/en;sc/198;en.txt\n",
      "/home/kevin/github/ParallelCorpus/texts/www.edb.gov.hk/en;sc/199;en.txt\n",
      "/home/kevin/github/ParallelCorpus/texts/www.edb.gov.hk/en;sc/200;en.txt\n",
      "/home/kevin/github/ParallelCorpus/texts/www.edb.gov.hk/en;sc/201;en.txt\n",
      "/home/kevin/github/ParallelCorpus/texts/www.edb.gov.hk/en;sc/202;en.txt\n",
      "/home/kevin/github/ParallelCorpus/texts/www.edb.gov.hk/en;sc/203;en.txt\n",
      "/home/kevin/github/ParallelCorpus/texts/www.edb.gov.hk/en;sc/204;en.txt\n",
      "/home/kevin/github/ParallelCorpus/texts/www.edb.gov.hk/en;sc/205;en.txt\n",
      "/home/kevin/github/ParallelCorpus/texts/www.edb.gov.hk/en;sc/206;en.txt\n",
      "/home/kevin/github/ParallelCorpus/texts/www.edb.gov.hk/en;sc/207;en.txt\n",
      "/home/kevin/github/ParallelCorpus/texts/www.edb.gov.hk/en;sc/208;en.txt\n",
      "/home/kevin/github/ParallelCorpus/texts/www.edb.gov.hk/en;sc/209;en.txt\n",
      "/home/kevin/github/ParallelCorpus/texts/www.edb.gov.hk/en;sc/210;en.txt\n",
      "/home/kevin/github/ParallelCorpus/texts/www.edb.gov.hk/en;sc/211;en.txt\n",
      "/home/kevin/github/ParallelCorpus/texts/www.edb.gov.hk/en;sc/212;en.txt\n",
      "/home/kevin/github/ParallelCorpus/texts/www.edb.gov.hk/en;sc/213;en.txt\n",
      "/home/kevin/github/ParallelCorpus/texts/www.edb.gov.hk/en;sc/214;en.txt\n",
      "/home/kevin/github/ParallelCorpus/texts/www.edb.gov.hk/en;sc/215;en.txt\n",
      "/home/kevin/github/ParallelCorpus/texts/www.edb.gov.hk/en;sc/216;en.txt\n",
      "/home/kevin/github/ParallelCorpus/texts/www.edb.gov.hk/en;sc/217;en.txt\n",
      "/home/kevin/github/ParallelCorpus/texts/www.edb.gov.hk/en;sc/218;en.txt\n",
      "/home/kevin/github/ParallelCorpus/texts/www.edb.gov.hk/en;sc/219;en.txt\n",
      "/home/kevin/github/ParallelCorpus/texts/www.edb.gov.hk/en;sc/220;en.txt\n",
      "/home/kevin/github/ParallelCorpus/texts/www.edb.gov.hk/en;sc/221;en.txt\n",
      "/home/kevin/github/ParallelCorpus/texts/www.edb.gov.hk/en;sc/222;en.txt\n",
      "/home/kevin/github/ParallelCorpus/texts/www.edb.gov.hk/en;sc/223;en.txt\n",
      "/home/kevin/github/ParallelCorpus/texts/www.edb.gov.hk/en;sc/224;en.txt\n",
      "/home/kevin/github/ParallelCorpus/texts/www.edb.gov.hk/en;sc/225;en.txt\n",
      "/home/kevin/github/ParallelCorpus/texts/www.edb.gov.hk/en;sc/226;en.txt\n",
      "/home/kevin/github/ParallelCorpus/texts/www.edb.gov.hk/en;sc/227;en.txt\n",
      "/home/kevin/github/ParallelCorpus/texts/www.edb.gov.hk/en;sc/228;en.txt\n",
      "/home/kevin/github/ParallelCorpus/texts/www.edb.gov.hk/en;sc/229;en.txt\n",
      "/home/kevin/github/ParallelCorpus/texts/www.edb.gov.hk/en;sc/230;en.txt\n",
      "/home/kevin/github/ParallelCorpus/texts/www.edb.gov.hk/en;sc/231;en.txt\n",
      "/home/kevin/github/ParallelCorpus/texts/www.edb.gov.hk/en;sc/232;en.txt\n",
      "/home/kevin/github/ParallelCorpus/texts/www.edb.gov.hk/en;sc/233;en.txt\n",
      "/home/kevin/github/ParallelCorpus/texts/www.edb.gov.hk/en;sc/234;en.txt\n",
      "/home/kevin/github/ParallelCorpus/texts/www.edb.gov.hk/en;sc/235;en.txt\n",
      "/home/kevin/github/ParallelCorpus/texts/www.edb.gov.hk/en;sc/236;en.txt\n",
      "/home/kevin/github/ParallelCorpus/texts/www.edb.gov.hk/en;sc/237;en.txt\n",
      "/home/kevin/github/ParallelCorpus/texts/www.edb.gov.hk/en;sc/238;en.txt\n",
      "/home/kevin/github/ParallelCorpus/texts/www.edb.gov.hk/en;sc/239;en.txt\n",
      "/home/kevin/github/ParallelCorpus/texts/www.edb.gov.hk/en;sc/240;en.txt\n",
      "/home/kevin/github/ParallelCorpus/texts/www.edb.gov.hk/en;sc/241;en.txt\n",
      "/home/kevin/github/ParallelCorpus/texts/www.edb.gov.hk/en;sc/242;en.txt\n",
      "/home/kevin/github/ParallelCorpus/texts/www.edb.gov.hk/en;sc/243;en.txt\n",
      "/home/kevin/github/ParallelCorpus/texts/www.edb.gov.hk/en;sc/244;en.txt\n",
      "/home/kevin/github/ParallelCorpus/texts/www.edb.gov.hk/en;sc/245;en.txt\n",
      "/home/kevin/github/ParallelCorpus/texts/www.edb.gov.hk/en;sc/246;en.txt\n",
      "/home/kevin/github/ParallelCorpus/texts/www.edb.gov.hk/en;sc/247;en.txt\n",
      "/home/kevin/github/ParallelCorpus/texts/www.edb.gov.hk/en;sc/248;en.txt\n",
      "/home/kevin/github/ParallelCorpus/texts/www.edb.gov.hk/en;sc/249;en.txt\n",
      "/home/kevin/github/ParallelCorpus/texts/www.edb.gov.hk/en;sc/250;en.txt\n",
      "/home/kevin/github/ParallelCorpus/texts/www.edb.gov.hk/en;sc/251;en.txt\n",
      "/home/kevin/github/ParallelCorpus/texts/www.edb.gov.hk/en;sc/252;en.txt\n",
      "/home/kevin/github/ParallelCorpus/texts/www.edb.gov.hk/en;sc/253;en.txt\n",
      "/home/kevin/github/ParallelCorpus/texts/www.edb.gov.hk/en;sc/254;en.txt\n",
      "/home/kevin/github/ParallelCorpus/texts/www.edb.gov.hk/en;sc/255;en.txt\n",
      "/home/kevin/github/ParallelCorpus/texts/www.edb.gov.hk/en;sc/256;en.txt\n",
      "/home/kevin/github/ParallelCorpus/texts/www.edb.gov.hk/en;sc/257;en.txt\n",
      "/home/kevin/github/ParallelCorpus/texts/www.edb.gov.hk/en;sc/258;en.txt\n",
      "/home/kevin/github/ParallelCorpus/texts/www.edb.gov.hk/en;sc/259;en.txt\n",
      "/home/kevin/github/ParallelCorpus/texts/www.edb.gov.hk/en;sc/260;en.txt\n",
      "/home/kevin/github/ParallelCorpus/texts/www.edb.gov.hk/en;sc/261;en.txt\n",
      "/home/kevin/github/ParallelCorpus/texts/www.edb.gov.hk/en;sc/262;en.txt\n",
      "/home/kevin/github/ParallelCorpus/texts/www.edb.gov.hk/en;sc/263;en.txt\n",
      "/home/kevin/github/ParallelCorpus/texts/www.edb.gov.hk/en;sc/264;en.txt\n",
      "/home/kevin/github/ParallelCorpus/texts/www.edb.gov.hk/en;sc/265;en.txt\n",
      "/home/kevin/github/ParallelCorpus/texts/www.edb.gov.hk/en;sc/266;en.txt\n",
      "/home/kevin/github/ParallelCorpus/texts/www.edb.gov.hk/en;sc/267;en.txt\n",
      "/home/kevin/github/ParallelCorpus/texts/www.edb.gov.hk/en;sc/268;en.txt\n",
      "/home/kevin/github/ParallelCorpus/texts/www.edb.gov.hk/en;sc/269;en.txt\n",
      "/home/kevin/github/ParallelCorpus/texts/www.edb.gov.hk/en;sc/270;en.txt\n",
      "/home/kevin/github/ParallelCorpus/texts/www.edb.gov.hk/en;sc/271;en.txt\n",
      "/home/kevin/github/ParallelCorpus/texts/www.edb.gov.hk/en;sc/272;en.txt\n",
      "/home/kevin/github/ParallelCorpus/texts/www.edb.gov.hk/en;sc/273;en.txt\n",
      "/home/kevin/github/ParallelCorpus/texts/www.edb.gov.hk/en;sc/274;en.txt\n",
      "/home/kevin/github/ParallelCorpus/texts/www.edb.gov.hk/en;sc/275;en.txt\n",
      "/home/kevin/github/ParallelCorpus/texts/www.edb.gov.hk/en;sc/276;en.txt\n",
      "/home/kevin/github/ParallelCorpus/texts/www.edb.gov.hk/en;sc/277;en.txt\n",
      "/home/kevin/github/ParallelCorpus/texts/www.edb.gov.hk/en;sc/278;en.txt\n",
      "/home/kevin/github/ParallelCorpus/texts/www.edb.gov.hk/en;sc/279;en.txt\n",
      "/home/kevin/github/ParallelCorpus/texts/www.edb.gov.hk/en;sc/280;en.txt\n",
      "/home/kevin/github/ParallelCorpus/texts/www.edb.gov.hk/en;sc/281;en.txt\n",
      "/home/kevin/github/ParallelCorpus/texts/www.edb.gov.hk/en;sc/282;en.txt\n",
      "/home/kevin/github/ParallelCorpus/texts/www.edb.gov.hk/en;sc/283;en.txt\n",
      "/home/kevin/github/ParallelCorpus/texts/www.edb.gov.hk/en;sc/284;en.txt\n",
      "/home/kevin/github/ParallelCorpus/texts/www.edb.gov.hk/en;sc/285;en.txt\n",
      "/home/kevin/github/ParallelCorpus/texts/www.edb.gov.hk/en;sc/286;en.txt\n",
      "/home/kevin/github/ParallelCorpus/texts/www.edb.gov.hk/en;sc/287;en.txt\n",
      "/home/kevin/github/ParallelCorpus/texts/www.edb.gov.hk/en;sc/288;en.txt\n",
      "/home/kevin/github/ParallelCorpus/texts/www.edb.gov.hk/en;sc/289;en.txt\n",
      "/home/kevin/github/ParallelCorpus/texts/www.edb.gov.hk/en;sc/290;en.txt\n",
      "/home/kevin/github/ParallelCorpus/texts/www.edb.gov.hk/en;sc/291;en.txt\n",
      "/home/kevin/github/ParallelCorpus/texts/www.edb.gov.hk/en;sc/292;en.txt\n",
      "/home/kevin/github/ParallelCorpus/texts/www.edb.gov.hk/en;sc/293;en.txt\n",
      "/home/kevin/github/ParallelCorpus/texts/www.edb.gov.hk/en;sc/294;en.txt\n",
      "/home/kevin/github/ParallelCorpus/texts/www.edb.gov.hk/en;sc/295;en.txt\n",
      "/home/kevin/github/ParallelCorpus/texts/www.edb.gov.hk/en;sc/296;en.txt\n",
      "/home/kevin/github/ParallelCorpus/texts/www.edb.gov.hk/en;sc/297;en.txt\n",
      "/home/kevin/github/ParallelCorpus/texts/www.edb.gov.hk/en;sc/298;en.txt\n",
      "/home/kevin/github/ParallelCorpus/texts/www.edb.gov.hk/en;sc/299;en.txt\n",
      "/home/kevin/github/ParallelCorpus/texts/www.edb.gov.hk/en;sc/300;en.txt\n",
      "/home/kevin/github/ParallelCorpus/texts/www.edb.gov.hk/en;sc/301;en.txt\n",
      "/home/kevin/github/ParallelCorpus/texts/www.edb.gov.hk/en;sc/302;en.txt\n",
      "/home/kevin/github/ParallelCorpus/texts/www.edb.gov.hk/en;sc/303;en.txt\n",
      "/home/kevin/github/ParallelCorpus/texts/www.edb.gov.hk/en;sc/304;en.txt\n",
      "/home/kevin/github/ParallelCorpus/texts/www.edb.gov.hk/en;sc/305;en.txt\n",
      "/home/kevin/github/ParallelCorpus/texts/www.edb.gov.hk/en;sc/306;en.txt\n",
      "/home/kevin/github/ParallelCorpus/texts/www.edb.gov.hk/en;sc/307;en.txt\n",
      "/home/kevin/github/ParallelCorpus/texts/www.edb.gov.hk/en;sc/308;en.txt\n",
      "/home/kevin/github/ParallelCorpus/texts/www.edb.gov.hk/en;sc/309;en.txt\n",
      "/home/kevin/github/ParallelCorpus/texts/www.edb.gov.hk/en;sc/310;en.txt\n",
      "/home/kevin/github/ParallelCorpus/texts/www.edb.gov.hk/en;sc/311;en.txt\n",
      "/home/kevin/github/ParallelCorpus/texts/www.edb.gov.hk/en;sc/312;en.txt\n",
      "/home/kevin/github/ParallelCorpus/texts/www.edb.gov.hk/en;sc/313;en.txt\n",
      "/home/kevin/github/ParallelCorpus/texts/www.edb.gov.hk/en;sc/314;en.txt\n",
      "/home/kevin/github/ParallelCorpus/texts/www.edb.gov.hk/en;sc/315;en.txt\n",
      "/home/kevin/github/ParallelCorpus/texts/www.edb.gov.hk/en;sc/316;en.txt\n",
      "/home/kevin/github/ParallelCorpus/texts/www.edb.gov.hk/en;sc/317;en.txt\n",
      "/home/kevin/github/ParallelCorpus/texts/www.edb.gov.hk/en;sc/318;en.txt\n",
      "/home/kevin/github/ParallelCorpus/texts/www.edb.gov.hk/en;sc/319;en.txt\n",
      "/home/kevin/github/ParallelCorpus/texts/www.edb.gov.hk/en;sc/320;en.txt\n",
      "/home/kevin/github/ParallelCorpus/texts/www.edb.gov.hk/en;sc/321;en.txt\n",
      "/home/kevin/github/ParallelCorpus/texts/www.edb.gov.hk/en;sc/322;en.txt\n",
      "/home/kevin/github/ParallelCorpus/texts/www.edb.gov.hk/en;sc/323;en.txt\n",
      "/home/kevin/github/ParallelCorpus/texts/www.edb.gov.hk/en;sc/324;en.txt\n",
      "/home/kevin/github/ParallelCorpus/texts/www.edb.gov.hk/en;sc/325;en.txt\n",
      "/home/kevin/github/ParallelCorpus/texts/www.edb.gov.hk/en;sc/326;en.txt\n",
      "/home/kevin/github/ParallelCorpus/texts/www.edb.gov.hk/en;sc/327;en.txt\n",
      "/home/kevin/github/ParallelCorpus/texts/www.edb.gov.hk/en;sc/328;en.txt\n",
      "/home/kevin/github/ParallelCorpus/texts/www.edb.gov.hk/en;sc/329;en.txt\n",
      "/home/kevin/github/ParallelCorpus/texts/www.edb.gov.hk/en;sc/330;en.txt\n",
      "/home/kevin/github/ParallelCorpus/texts/www.edb.gov.hk/en;sc/331;en.txt\n",
      "/home/kevin/github/ParallelCorpus/texts/www.edb.gov.hk/en;sc/332;en.txt\n",
      "/home/kevin/github/ParallelCorpus/texts/www.edb.gov.hk/en;sc/333;en.txt\n",
      "/home/kevin/github/ParallelCorpus/texts/www.edb.gov.hk/en;sc/334;en.txt\n",
      "/home/kevin/github/ParallelCorpus/texts/www.edb.gov.hk/en;sc/335;en.txt\n",
      "/home/kevin/github/ParallelCorpus/texts/www.edb.gov.hk/en;sc/336;en.txt\n",
      "/home/kevin/github/ParallelCorpus/texts/www.edb.gov.hk/en;sc/337;en.txt\n",
      "/home/kevin/github/ParallelCorpus/texts/www.edb.gov.hk/en;sc/338;en.txt\n",
      "/home/kevin/github/ParallelCorpus/texts/www.edb.gov.hk/en;sc/339;en.txt\n",
      "/home/kevin/github/ParallelCorpus/texts/www.edb.gov.hk/en;sc/340;en.txt\n",
      "/home/kevin/github/ParallelCorpus/texts/www.edb.gov.hk/en;sc/341;en.txt\n",
      "/home/kevin/github/ParallelCorpus/texts/www.edb.gov.hk/en;sc/342;en.txt\n",
      "/home/kevin/github/ParallelCorpus/texts/www.edb.gov.hk/en;sc/343;en.txt\n",
      "/home/kevin/github/ParallelCorpus/texts/www.edb.gov.hk/en;sc/344;en.txt\n",
      "/home/kevin/github/ParallelCorpus/texts/www.edb.gov.hk/en;sc/345;en.txt\n",
      "/home/kevin/github/ParallelCorpus/texts/www.edb.gov.hk/en;sc/346;en.txt\n",
      "/home/kevin/github/ParallelCorpus/texts/www.edb.gov.hk/en;sc/347;en.txt\n",
      "/home/kevin/github/ParallelCorpus/texts/www.edb.gov.hk/en;sc/348;en.txt\n",
      "/home/kevin/github/ParallelCorpus/texts/www.edb.gov.hk/en;sc/349;en.txt\n",
      "/home/kevin/github/ParallelCorpus/texts/www.edb.gov.hk/en;sc/350;en.txt\n",
      "/home/kevin/github/ParallelCorpus/texts/www.edb.gov.hk/en;sc/351;en.txt\n",
      "/home/kevin/github/ParallelCorpus/texts/www.edb.gov.hk/en;sc/352;en.txt\n",
      "/home/kevin/github/ParallelCorpus/texts/www.edb.gov.hk/en;sc/353;en.txt\n",
      "/home/kevin/github/ParallelCorpus/texts/www.edb.gov.hk/en;sc/354;en.txt\n",
      "/home/kevin/github/ParallelCorpus/texts/www.edb.gov.hk/en;sc/355;en.txt\n",
      "/home/kevin/github/ParallelCorpus/texts/www.edb.gov.hk/en;sc/356;en.txt\n",
      "/home/kevin/github/ParallelCorpus/texts/www.edb.gov.hk/en;sc/357;en.txt\n",
      "/home/kevin/github/ParallelCorpus/texts/www.edb.gov.hk/en;sc/358;en.txt\n",
      "/home/kevin/github/ParallelCorpus/texts/www.edb.gov.hk/en;sc/359;en.txt\n",
      "/home/kevin/github/ParallelCorpus/texts/www.edb.gov.hk/en;sc/360;en.txt\n",
      "/home/kevin/github/ParallelCorpus/texts/www.edb.gov.hk/en;sc/361;en.txt\n",
      "/home/kevin/github/ParallelCorpus/texts/www.edb.gov.hk/en;sc/362;en.txt\n",
      "/home/kevin/github/ParallelCorpus/texts/www.edb.gov.hk/en;sc/363;en.txt\n",
      "/home/kevin/github/ParallelCorpus/texts/www.edb.gov.hk/en;sc/364;en.txt\n",
      "/home/kevin/github/ParallelCorpus/texts/www.edb.gov.hk/en;sc/365;en.txt\n",
      "/home/kevin/github/ParallelCorpus/texts/www.edb.gov.hk/en;sc/366;en.txt\n",
      "/home/kevin/github/ParallelCorpus/texts/www.edb.gov.hk/en;sc/367;en.txt\n",
      "/home/kevin/github/ParallelCorpus/texts/www.edb.gov.hk/en;sc/368;en.txt\n",
      "/home/kevin/github/ParallelCorpus/texts/www.edb.gov.hk/en;sc/369;en.txt\n",
      "/home/kevin/github/ParallelCorpus/texts/www.edb.gov.hk/en;sc/370;en.txt\n",
      "/home/kevin/github/ParallelCorpus/texts/www.edb.gov.hk/en;sc/371;en.txt\n",
      "/home/kevin/github/ParallelCorpus/texts/www.edb.gov.hk/en;sc/372;en.txt\n",
      "/home/kevin/github/ParallelCorpus/texts/www.edb.gov.hk/en;sc/373;en.txt\n",
      "/home/kevin/github/ParallelCorpus/texts/www.edb.gov.hk/en;sc/374;en.txt\n",
      "/home/kevin/github/ParallelCorpus/texts/www.edb.gov.hk/en;sc/375;en.txt\n",
      "/home/kevin/github/ParallelCorpus/texts/www.edb.gov.hk/en;sc/376;en.txt\n",
      "/home/kevin/github/ParallelCorpus/texts/www.edb.gov.hk/en;sc/377;en.txt\n",
      "/home/kevin/github/ParallelCorpus/texts/www.edb.gov.hk/en;sc/378;en.txt\n",
      "/home/kevin/github/ParallelCorpus/texts/www.edb.gov.hk/en;sc/379;en.txt\n",
      "/home/kevin/github/ParallelCorpus/texts/www.edb.gov.hk/en;sc/380;en.txt\n",
      "/home/kevin/github/ParallelCorpus/texts/www.edb.gov.hk/en;sc/381;en.txt\n",
      "/home/kevin/github/ParallelCorpus/texts/www.edb.gov.hk/en;sc/382;en.txt\n",
      "/home/kevin/github/ParallelCorpus/texts/www.edb.gov.hk/en;sc/383;en.txt\n",
      "/home/kevin/github/ParallelCorpus/texts/www.edb.gov.hk/en;sc/384;en.txt\n",
      "/home/kevin/github/ParallelCorpus/texts/www.edb.gov.hk/en;sc/385;en.txt\n",
      "/home/kevin/github/ParallelCorpus/texts/www.edb.gov.hk/en;sc/386;en.txt\n",
      "/home/kevin/github/ParallelCorpus/texts/www.edb.gov.hk/en;sc/387;en.txt\n",
      "/home/kevin/github/ParallelCorpus/texts/www.edb.gov.hk/en;sc/388;en.txt\n",
      "/home/kevin/github/ParallelCorpus/texts/www.edb.gov.hk/en;sc/389;en.txt\n",
      "/home/kevin/github/ParallelCorpus/texts/www.edb.gov.hk/en;sc/390;en.txt\n",
      "/home/kevin/github/ParallelCorpus/texts/www.edb.gov.hk/en;sc/391;en.txt\n",
      "/home/kevin/github/ParallelCorpus/texts/www.edb.gov.hk/en;sc/392;en.txt\n",
      "/home/kevin/github/ParallelCorpus/texts/www.edb.gov.hk/en;sc/393;en.txt\n",
      "/home/kevin/github/ParallelCorpus/texts/www.edb.gov.hk/en;sc/394;en.txt\n",
      "/home/kevin/github/ParallelCorpus/texts/www.edb.gov.hk/en;sc/395;en.txt\n",
      "/home/kevin/github/ParallelCorpus/texts/www.edb.gov.hk/en;sc/396;en.txt\n",
      "/home/kevin/github/ParallelCorpus/texts/www.edb.gov.hk/en;sc/397;en.txt\n",
      "/home/kevin/github/ParallelCorpus/texts/www.edb.gov.hk/en;sc/398;en.txt\n",
      "/home/kevin/github/ParallelCorpus/texts/www.edb.gov.hk/en;sc/399;en.txt\n",
      "/home/kevin/github/ParallelCorpus/texts/www.edb.gov.hk/en;sc/400;en.txt\n",
      "/home/kevin/github/ParallelCorpus/texts/www.edb.gov.hk/en;sc/401;en.txt\n",
      "/home/kevin/github/ParallelCorpus/texts/www.edb.gov.hk/en;sc/402;en.txt\n",
      "/home/kevin/github/ParallelCorpus/texts/www.edb.gov.hk/en;sc/403;en.txt\n",
      "/home/kevin/github/ParallelCorpus/texts/www.edb.gov.hk/en;sc/404;en.txt\n",
      "/home/kevin/github/ParallelCorpus/texts/www.edb.gov.hk/en;sc/405;en.txt\n",
      "/home/kevin/github/ParallelCorpus/texts/www.edb.gov.hk/en;sc/406;en.txt\n",
      "/home/kevin/github/ParallelCorpus/texts/www.edb.gov.hk/en;sc/407;en.txt\n",
      "/home/kevin/github/ParallelCorpus/texts/www.edb.gov.hk/en;sc/408;en.txt\n",
      "/home/kevin/github/ParallelCorpus/texts/www.edb.gov.hk/en;sc/409;en.txt\n",
      "/home/kevin/github/ParallelCorpus/texts/www.edb.gov.hk/en;sc/410;en.txt\n",
      "/home/kevin/github/ParallelCorpus/texts/www.edb.gov.hk/en;sc/411;en.txt\n",
      "/home/kevin/github/ParallelCorpus/texts/www.edb.gov.hk/en;sc/412;en.txt\n",
      "/home/kevin/github/ParallelCorpus/texts/www.edb.gov.hk/en;sc/413;en.txt\n",
      "/home/kevin/github/ParallelCorpus/texts/www.edb.gov.hk/en;sc/414;en.txt\n",
      "/home/kevin/github/ParallelCorpus/texts/www.edb.gov.hk/en;sc/415;en.txt\n",
      "/home/kevin/github/ParallelCorpus/texts/www.edb.gov.hk/en;sc/416;en.txt\n",
      "/home/kevin/github/ParallelCorpus/texts/www.edb.gov.hk/en;sc/417;en.txt\n",
      "/home/kevin/github/ParallelCorpus/texts/www.edb.gov.hk/en;sc/418;en.txt\n",
      "/home/kevin/github/ParallelCorpus/texts/www.edb.gov.hk/en;sc/419;en.txt\n",
      "/home/kevin/github/ParallelCorpus/texts/www.edb.gov.hk/en;sc/420;en.txt\n",
      "/home/kevin/github/ParallelCorpus/texts/www.edb.gov.hk/en;sc/421;en.txt\n",
      "/home/kevin/github/ParallelCorpus/texts/www.edb.gov.hk/en;sc/422;en.txt\n",
      "/home/kevin/github/ParallelCorpus/texts/www.edb.gov.hk/en;sc/423;en.txt\n",
      "/home/kevin/github/ParallelCorpus/texts/www.edb.gov.hk/en;sc/424;en.txt\n",
      "/home/kevin/github/ParallelCorpus/texts/www.edb.gov.hk/en;sc/425;en.txt\n",
      "/home/kevin/github/ParallelCorpus/texts/www.edb.gov.hk/en;sc/426;en.txt\n",
      "/home/kevin/github/ParallelCorpus/texts/www.edb.gov.hk/en;sc/427;en.txt\n",
      "/home/kevin/github/ParallelCorpus/texts/www.edb.gov.hk/en;sc/428;en.txt\n",
      "/home/kevin/github/ParallelCorpus/texts/www.edb.gov.hk/en;sc/429;en.txt\n",
      "/home/kevin/github/ParallelCorpus/texts/www.edb.gov.hk/en;sc/430;en.txt\n",
      "/home/kevin/github/ParallelCorpus/texts/www.edb.gov.hk/en;sc/431;en.txt\n",
      "/home/kevin/github/ParallelCorpus/texts/www.edb.gov.hk/en;sc/432;en.txt\n",
      "/home/kevin/github/ParallelCorpus/texts/www.edb.gov.hk/en;sc/433;en.txt\n",
      "/home/kevin/github/ParallelCorpus/texts/www.edb.gov.hk/en;sc/434;en.txt\n",
      "/home/kevin/github/ParallelCorpus/texts/www.edb.gov.hk/en;sc/435;en.txt\n",
      "/home/kevin/github/ParallelCorpus/texts/www.edb.gov.hk/en;sc/436;en.txt\n",
      "/home/kevin/github/ParallelCorpus/texts/www.edb.gov.hk/en;sc/437;en.txt\n",
      "/home/kevin/github/ParallelCorpus/texts/www.edb.gov.hk/en;sc/438;en.txt\n",
      "/home/kevin/github/ParallelCorpus/texts/www.edb.gov.hk/en;sc/439;en.txt\n",
      "/home/kevin/github/ParallelCorpus/texts/www.edb.gov.hk/en;sc/440;en.txt\n",
      "/home/kevin/github/ParallelCorpus/texts/www.edb.gov.hk/en;sc/441;en.txt\n",
      "/home/kevin/github/ParallelCorpus/texts/www.edb.gov.hk/en;sc/442;en.txt\n",
      "/home/kevin/github/ParallelCorpus/texts/www.edb.gov.hk/en;sc/443;en.txt\n",
      "/home/kevin/github/ParallelCorpus/texts/www.edb.gov.hk/en;sc/444;en.txt\n",
      "/home/kevin/github/ParallelCorpus/texts/www.edb.gov.hk/en;sc/445;en.txt\n",
      "/home/kevin/github/ParallelCorpus/texts/www.edb.gov.hk/en;sc/446;en.txt\n",
      "/home/kevin/github/ParallelCorpus/texts/www.edb.gov.hk/en;sc/447;en.txt\n",
      "/home/kevin/github/ParallelCorpus/texts/www.edb.gov.hk/en;sc/448;en.txt\n",
      "/home/kevin/github/ParallelCorpus/texts/www.edb.gov.hk/en;sc/449;en.txt\n",
      "/home/kevin/github/ParallelCorpus/texts/www.edb.gov.hk/en;sc/450;en.txt\n",
      "/home/kevin/github/ParallelCorpus/texts/www.edb.gov.hk/en;sc/451;en.txt\n",
      "/home/kevin/github/ParallelCorpus/texts/www.edb.gov.hk/en;sc/452;en.txt\n",
      "/home/kevin/github/ParallelCorpus/texts/www.edb.gov.hk/en;sc/453;en.txt\n",
      "/home/kevin/github/ParallelCorpus/texts/www.edb.gov.hk/en;sc/454;en.txt\n",
      "/home/kevin/github/ParallelCorpus/texts/www.edb.gov.hk/en;sc/455;en.txt\n",
      "/home/kevin/github/ParallelCorpus/texts/www.edb.gov.hk/en;sc/456;en.txt\n",
      "/home/kevin/github/ParallelCorpus/texts/www.edb.gov.hk/en;sc/457;en.txt\n",
      "/home/kevin/github/ParallelCorpus/texts/www.edb.gov.hk/en;sc/458;en.txt\n",
      "/home/kevin/github/ParallelCorpus/texts/www.edb.gov.hk/en;sc/459;en.txt\n",
      "/home/kevin/github/ParallelCorpus/texts/www.edb.gov.hk/en;sc/460;en.txt\n",
      "/home/kevin/github/ParallelCorpus/texts/www.edb.gov.hk/en;sc/461;en.txt\n",
      "/home/kevin/github/ParallelCorpus/texts/www.edb.gov.hk/en;sc/462;en.txt\n",
      "/home/kevin/github/ParallelCorpus/texts/www.edb.gov.hk/en;sc/463;en.txt\n",
      "/home/kevin/github/ParallelCorpus/texts/www.edb.gov.hk/en;sc/464;en.txt\n",
      "/home/kevin/github/ParallelCorpus/texts/www.edb.gov.hk/en;sc/465;en.txt\n",
      "/home/kevin/github/ParallelCorpus/texts/www.edb.gov.hk/en;sc/466;en.txt\n",
      "/home/kevin/github/ParallelCorpus/texts/www.edb.gov.hk/en;sc/467;en.txt\n",
      "/home/kevin/github/ParallelCorpus/texts/www.edb.gov.hk/en;sc/468;en.txt\n",
      "/home/kevin/github/ParallelCorpus/texts/www.edb.gov.hk/en;sc/469;en.txt\n",
      "/home/kevin/github/ParallelCorpus/texts/www.edb.gov.hk/en;sc/470;en.txt\n",
      "/home/kevin/github/ParallelCorpus/texts/www.edb.gov.hk/en;sc/471;en.txt\n",
      "/home/kevin/github/ParallelCorpus/texts/www.edb.gov.hk/en;sc/472;en.txt\n",
      "/home/kevin/github/ParallelCorpus/texts/www.edb.gov.hk/en;sc/473;en.txt\n",
      "/home/kevin/github/ParallelCorpus/texts/www.edb.gov.hk/en;sc/474;en.txt\n",
      "/home/kevin/github/ParallelCorpus/texts/www.edb.gov.hk/en;sc/475;en.txt\n",
      "/home/kevin/github/ParallelCorpus/texts/www.edb.gov.hk/en;sc/476;en.txt\n",
      "/home/kevin/github/ParallelCorpus/texts/www.edb.gov.hk/en;sc/477;en.txt\n",
      "/home/kevin/github/ParallelCorpus/texts/www.edb.gov.hk/en;sc/478;en.txt\n",
      "/home/kevin/github/ParallelCorpus/texts/www.edb.gov.hk/en;sc/479;en.txt\n",
      "/home/kevin/github/ParallelCorpus/texts/www.edb.gov.hk/en;sc/480;en.txt\n",
      "/home/kevin/github/ParallelCorpus/texts/www.edb.gov.hk/en;sc/481;en.txt\n",
      "/home/kevin/github/ParallelCorpus/texts/www.edb.gov.hk/en;sc/482;en.txt\n",
      "/home/kevin/github/ParallelCorpus/texts/www.edb.gov.hk/en;sc/483;en.txt\n",
      "/home/kevin/github/ParallelCorpus/texts/www.edb.gov.hk/en;sc/484;en.txt\n",
      "/home/kevin/github/ParallelCorpus/texts/www.edb.gov.hk/en;sc/485;en.txt\n",
      "/home/kevin/github/ParallelCorpus/texts/www.edb.gov.hk/en;sc/486;en.txt\n",
      "/home/kevin/github/ParallelCorpus/texts/www.edb.gov.hk/en;sc/487;en.txt\n",
      "/home/kevin/github/ParallelCorpus/texts/www.edb.gov.hk/en;sc/488;en.txt\n",
      "/home/kevin/github/ParallelCorpus/texts/www.edb.gov.hk/en;sc/489;en.txt\n",
      "/home/kevin/github/ParallelCorpus/texts/www.edb.gov.hk/en;sc/490;en.txt\n",
      "/home/kevin/github/ParallelCorpus/texts/www.edb.gov.hk/en;sc/491;en.txt\n",
      "/home/kevin/github/ParallelCorpus/texts/www.edb.gov.hk/en;sc/492;en.txt\n",
      "/home/kevin/github/ParallelCorpus/texts/www.edb.gov.hk/en;sc/493;en.txt\n",
      "/home/kevin/github/ParallelCorpus/texts/www.edb.gov.hk/en;sc/494;en.txt\n",
      "/home/kevin/github/ParallelCorpus/texts/www.edb.gov.hk/en;sc/495;en.txt\n",
      "/home/kevin/github/ParallelCorpus/texts/www.edb.gov.hk/en;sc/496;en.txt\n",
      "/home/kevin/github/ParallelCorpus/texts/www.edb.gov.hk/en;sc/497;en.txt\n",
      "/home/kevin/github/ParallelCorpus/texts/www.edb.gov.hk/en;sc/498;en.txt\n",
      "/home/kevin/github/ParallelCorpus/texts/www.edb.gov.hk/en;sc/499;en.txt\n",
      "/home/kevin/github/ParallelCorpus/texts/www.edb.gov.hk/en;sc/500;en.txt\n",
      "/home/kevin/github/ParallelCorpus/texts/www.edb.gov.hk/en;sc/501;en.txt\n",
      "/home/kevin/github/ParallelCorpus/texts/www.edb.gov.hk/en;sc/502;en.txt\n",
      "/home/kevin/github/ParallelCorpus/texts/www.edb.gov.hk/en;sc/503;en.txt\n",
      "/home/kevin/github/ParallelCorpus/texts/www.edb.gov.hk/en;sc/504;en.txt\n",
      "/home/kevin/github/ParallelCorpus/texts/www.edb.gov.hk/en;sc/505;en.txt\n",
      "/home/kevin/github/ParallelCorpus/texts/www.edb.gov.hk/en;sc/506;en.txt\n",
      "/home/kevin/github/ParallelCorpus/texts/www.edb.gov.hk/en;sc/507;en.txt\n",
      "/home/kevin/github/ParallelCorpus/texts/www.edb.gov.hk/en;sc/508;en.txt\n",
      "/home/kevin/github/ParallelCorpus/texts/www.edb.gov.hk/en;sc/509;en.txt\n",
      "/home/kevin/github/ParallelCorpus/texts/www.edb.gov.hk/en;sc/510;en.txt\n",
      "/home/kevin/github/ParallelCorpus/texts/www.edb.gov.hk/en;sc/511;en.txt\n",
      "/home/kevin/github/ParallelCorpus/texts/www.edb.gov.hk/en;sc/512;en.txt\n",
      "/home/kevin/github/ParallelCorpus/texts/www.edb.gov.hk/en;sc/513;en.txt\n",
      "/home/kevin/github/ParallelCorpus/texts/www.edb.gov.hk/en;sc/514;en.txt\n",
      "/home/kevin/github/ParallelCorpus/texts/www.edb.gov.hk/en;sc/515;en.txt\n",
      "/home/kevin/github/ParallelCorpus/texts/www.edb.gov.hk/en;sc/516;en.txt\n",
      "/home/kevin/github/ParallelCorpus/texts/www.edb.gov.hk/en;sc/517;en.txt\n",
      "/home/kevin/github/ParallelCorpus/texts/www.edb.gov.hk/en;sc/518;en.txt\n",
      "/home/kevin/github/ParallelCorpus/texts/www.edb.gov.hk/en;sc/519;en.txt\n",
      "/home/kevin/github/ParallelCorpus/texts/www.edb.gov.hk/en;sc/520;en.txt\n",
      "/home/kevin/github/ParallelCorpus/texts/www.edb.gov.hk/en;sc/521;en.txt\n",
      "/home/kevin/github/ParallelCorpus/texts/www.edb.gov.hk/en;sc/522;en.txt\n",
      "/home/kevin/github/ParallelCorpus/texts/www.edb.gov.hk/en;sc/523;en.txt\n",
      "/home/kevin/github/ParallelCorpus/texts/www.edb.gov.hk/en;sc/524;en.txt\n",
      "/home/kevin/github/ParallelCorpus/texts/www.edb.gov.hk/en;sc/525;en.txt\n",
      "/home/kevin/github/ParallelCorpus/texts/www.edb.gov.hk/en;sc/526;en.txt\n",
      "/home/kevin/github/ParallelCorpus/texts/www.edb.gov.hk/en;sc/527;en.txt\n",
      "/home/kevin/github/ParallelCorpus/texts/www.edb.gov.hk/en;sc/528;en.txt\n",
      "/home/kevin/github/ParallelCorpus/texts/www.edb.gov.hk/en;sc/529;en.txt\n",
      "/home/kevin/github/ParallelCorpus/texts/www.edb.gov.hk/en;sc/530;en.txt\n",
      "/home/kevin/github/ParallelCorpus/texts/www.edb.gov.hk/en;sc/531;en.txt\n",
      "/home/kevin/github/ParallelCorpus/texts/www.edb.gov.hk/en;sc/532;en.txt\n",
      "/home/kevin/github/ParallelCorpus/texts/www.edb.gov.hk/en;sc/533;en.txt\n",
      "/home/kevin/github/ParallelCorpus/texts/www.edb.gov.hk/en;sc/534;en.txt\n",
      "/home/kevin/github/ParallelCorpus/texts/www.edb.gov.hk/en;sc/535;en.txt\n",
      "/home/kevin/github/ParallelCorpus/texts/www.edb.gov.hk/en;sc/536;en.txt\n",
      "/home/kevin/github/ParallelCorpus/texts/www.edb.gov.hk/en;sc/537;en.txt\n",
      "/home/kevin/github/ParallelCorpus/texts/www.edb.gov.hk/en;sc/538;en.txt\n",
      "/home/kevin/github/ParallelCorpus/texts/www.edb.gov.hk/en;sc/539;en.txt\n",
      "/home/kevin/github/ParallelCorpus/texts/www.edb.gov.hk/en;sc/540;en.txt\n",
      "/home/kevin/github/ParallelCorpus/texts/www.edb.gov.hk/en;sc/541;en.txt\n",
      "/home/kevin/github/ParallelCorpus/texts/www.edb.gov.hk/en;sc/542;en.txt\n",
      "/home/kevin/github/ParallelCorpus/texts/www.edb.gov.hk/en;sc/543;en.txt\n",
      "/home/kevin/github/ParallelCorpus/texts/www.edb.gov.hk/en;sc/544;en.txt\n",
      "/home/kevin/github/ParallelCorpus/texts/www.edb.gov.hk/en;sc/545;en.txt\n",
      "/home/kevin/github/ParallelCorpus/texts/www.edb.gov.hk/en;sc/546;en.txt\n",
      "/home/kevin/github/ParallelCorpus/texts/www.edb.gov.hk/en;sc/547;en.txt\n",
      "/home/kevin/github/ParallelCorpus/texts/www.edb.gov.hk/en;sc/548;en.txt\n",
      "/home/kevin/github/ParallelCorpus/texts/www.edb.gov.hk/en;sc/549;en.txt\n",
      "/home/kevin/github/ParallelCorpus/texts/www.edb.gov.hk/en;sc/550;en.txt\n",
      "/home/kevin/github/ParallelCorpus/texts/www.edb.gov.hk/en;sc/551;en.txt\n",
      "/home/kevin/github/ParallelCorpus/texts/www.edb.gov.hk/en;sc/552;en.txt\n",
      "/home/kevin/github/ParallelCorpus/texts/www.edb.gov.hk/en;sc/553;en.txt\n",
      "/home/kevin/github/ParallelCorpus/texts/www.edb.gov.hk/en;sc/554;en.txt\n",
      "/home/kevin/github/ParallelCorpus/texts/www.edb.gov.hk/en;sc/555;en.txt\n",
      "/home/kevin/github/ParallelCorpus/texts/www.edb.gov.hk/en;sc/556;en.txt\n",
      "/home/kevin/github/ParallelCorpus/texts/www.edb.gov.hk/en;sc/557;en.txt\n",
      "/home/kevin/github/ParallelCorpus/texts/www.edb.gov.hk/en;sc/558;en.txt\n",
      "/home/kevin/github/ParallelCorpus/texts/www.edb.gov.hk/en;sc/559;en.txt\n",
      "/home/kevin/github/ParallelCorpus/texts/www.edb.gov.hk/en;sc/560;en.txt\n",
      "/home/kevin/github/ParallelCorpus/texts/www.edb.gov.hk/en;sc/561;en.txt\n",
      "/home/kevin/github/ParallelCorpus/texts/www.edb.gov.hk/en;sc/562;en.txt\n",
      "/home/kevin/github/ParallelCorpus/texts/www.edb.gov.hk/en;sc/563;en.txt\n",
      "/home/kevin/github/ParallelCorpus/texts/www.edb.gov.hk/en;sc/564;en.txt\n",
      "/home/kevin/github/ParallelCorpus/texts/www.edb.gov.hk/en;sc/565;en.txt\n",
      "/home/kevin/github/ParallelCorpus/texts/www.edb.gov.hk/en;sc/566;en.txt\n",
      "/home/kevin/github/ParallelCorpus/texts/www.edb.gov.hk/en;sc/567;en.txt\n",
      "/home/kevin/github/ParallelCorpus/texts/www.edb.gov.hk/en;sc/568;en.txt\n",
      "/home/kevin/github/ParallelCorpus/texts/www.edb.gov.hk/en;sc/569;en.txt\n",
      "/home/kevin/github/ParallelCorpus/texts/www.edb.gov.hk/en;sc/570;en.txt\n",
      "/home/kevin/github/ParallelCorpus/texts/www.edb.gov.hk/en;sc/571;en.txt\n",
      "/home/kevin/github/ParallelCorpus/texts/www.edb.gov.hk/en;sc/572;en.txt\n",
      "/home/kevin/github/ParallelCorpus/texts/www.edb.gov.hk/en;sc/573;en.txt\n",
      "/home/kevin/github/ParallelCorpus/texts/www.edb.gov.hk/en;sc/574;en.txt\n",
      "/home/kevin/github/ParallelCorpus/texts/www.edb.gov.hk/en;sc/575;en.txt\n",
      "/home/kevin/github/ParallelCorpus/texts/www.edb.gov.hk/en;sc/576;en.txt\n",
      "/home/kevin/github/ParallelCorpus/texts/www.edb.gov.hk/en;sc/577;en.txt\n",
      "/home/kevin/github/ParallelCorpus/texts/www.edb.gov.hk/en;sc/578;en.txt\n",
      "/home/kevin/github/ParallelCorpus/texts/www.edb.gov.hk/en;sc/579;en.txt\n",
      "/home/kevin/github/ParallelCorpus/texts/www.edb.gov.hk/en;sc/580;en.txt\n",
      "/home/kevin/github/ParallelCorpus/texts/www.edb.gov.hk/en;sc/581;en.txt\n",
      "/home/kevin/github/ParallelCorpus/texts/www.edb.gov.hk/en;sc/582;en.txt\n",
      "/home/kevin/github/ParallelCorpus/texts/www.edb.gov.hk/en;sc/583;en.txt\n",
      "/home/kevin/github/ParallelCorpus/texts/www.edb.gov.hk/en;sc/584;en.txt\n",
      "/home/kevin/github/ParallelCorpus/texts/www.edb.gov.hk/en;sc/585;en.txt\n",
      "/home/kevin/github/ParallelCorpus/texts/www.edb.gov.hk/en;sc/586;en.txt\n",
      "/home/kevin/github/ParallelCorpus/texts/www.edb.gov.hk/en;sc/587;en.txt\n",
      "/home/kevin/github/ParallelCorpus/texts/www.edb.gov.hk/en;sc/588;en.txt\n",
      "/home/kevin/github/ParallelCorpus/texts/www.edb.gov.hk/en;sc/589;en.txt\n",
      "/home/kevin/github/ParallelCorpus/texts/www.edb.gov.hk/en;sc/590;en.txt\n",
      "/home/kevin/github/ParallelCorpus/texts/www.edb.gov.hk/en;sc/591;en.txt\n",
      "/home/kevin/github/ParallelCorpus/texts/www.edb.gov.hk/en;sc/592;en.txt\n",
      "/home/kevin/github/ParallelCorpus/texts/www.edb.gov.hk/en;sc/593;en.txt\n",
      "/home/kevin/github/ParallelCorpus/texts/www.edb.gov.hk/en;sc/594;en.txt\n",
      "/home/kevin/github/ParallelCorpus/texts/www.edb.gov.hk/en;sc/595;en.txt\n",
      "/home/kevin/github/ParallelCorpus/texts/www.edb.gov.hk/en;sc/596;en.txt\n",
      "/home/kevin/github/ParallelCorpus/texts/www.edb.gov.hk/en;sc/597;en.txt\n",
      "/home/kevin/github/ParallelCorpus/texts/www.edb.gov.hk/en;sc/598;en.txt\n",
      "/home/kevin/github/ParallelCorpus/texts/www.edb.gov.hk/en;sc/599;en.txt\n",
      "/home/kevin/github/ParallelCorpus/texts/www.edb.gov.hk/en;sc/600;en.txt\n",
      "/home/kevin/github/ParallelCorpus/texts/www.edb.gov.hk/en;sc/601;en.txt\n",
      "/home/kevin/github/ParallelCorpus/texts/www.edb.gov.hk/en;sc/602;en.txt\n",
      "/home/kevin/github/ParallelCorpus/texts/www.edb.gov.hk/en;sc/603;en.txt\n",
      "/home/kevin/github/ParallelCorpus/texts/www.edb.gov.hk/en;sc/604;en.txt\n",
      "/home/kevin/github/ParallelCorpus/texts/www.edb.gov.hk/en;sc/605;en.txt\n",
      "/home/kevin/github/ParallelCorpus/texts/www.edb.gov.hk/en;sc/606;en.txt\n",
      "/home/kevin/github/ParallelCorpus/texts/www.edb.gov.hk/en;sc/607;en.txt\n",
      "/home/kevin/github/ParallelCorpus/texts/www.edb.gov.hk/en;sc/608;en.txt\n",
      "/home/kevin/github/ParallelCorpus/texts/www.edb.gov.hk/en;sc/609;en.txt\n",
      "/home/kevin/github/ParallelCorpus/texts/www.edb.gov.hk/en;sc/610;en.txt\n",
      "/home/kevin/github/ParallelCorpus/texts/www.edb.gov.hk/en;sc/611;en.txt\n",
      "/home/kevin/github/ParallelCorpus/texts/www.edb.gov.hk/en;sc/612;en.txt\n",
      "/home/kevin/github/ParallelCorpus/texts/www.edb.gov.hk/en;sc/613;en.txt\n",
      "/home/kevin/github/ParallelCorpus/texts/www.edb.gov.hk/en;sc/614;en.txt\n",
      "/home/kevin/github/ParallelCorpus/texts/www.edb.gov.hk/en;sc/615;en.txt\n",
      "/home/kevin/github/ParallelCorpus/texts/www.edb.gov.hk/en;sc/616;en.txt\n",
      "/home/kevin/github/ParallelCorpus/texts/www.edb.gov.hk/en;sc/617;en.txt\n",
      "/home/kevin/github/ParallelCorpus/texts/www.edb.gov.hk/en;sc/618;en.txt\n",
      "/home/kevin/github/ParallelCorpus/texts/www.edb.gov.hk/en;sc/619;en.txt\n",
      "/home/kevin/github/ParallelCorpus/texts/www.edb.gov.hk/en;sc/620;en.txt\n",
      "/home/kevin/github/ParallelCorpus/texts/www.edb.gov.hk/en;sc/621;en.txt\n",
      "/home/kevin/github/ParallelCorpus/texts/www.edb.gov.hk/en;sc/622;en.txt\n",
      "/home/kevin/github/ParallelCorpus/texts/www.edb.gov.hk/en;sc/623;en.txt\n",
      "/home/kevin/github/ParallelCorpus/texts/www.edb.gov.hk/en;sc/624;en.txt\n",
      "/home/kevin/github/ParallelCorpus/texts/www.edb.gov.hk/en;sc/625;en.txt\n",
      "/home/kevin/github/ParallelCorpus/texts/www.edb.gov.hk/en;sc/626;en.txt\n",
      "/home/kevin/github/ParallelCorpus/texts/www.edb.gov.hk/en;sc/627;en.txt\n",
      "/home/kevin/github/ParallelCorpus/texts/www.edb.gov.hk/en;sc/628;en.txt\n",
      "/home/kevin/github/ParallelCorpus/texts/www.edb.gov.hk/en;sc/629;en.txt\n",
      "/home/kevin/github/ParallelCorpus/texts/www.edb.gov.hk/en;sc/630;en.txt\n",
      "/home/kevin/github/ParallelCorpus/texts/www.edb.gov.hk/en;sc/631;en.txt\n",
      "/home/kevin/github/ParallelCorpus/texts/www.edb.gov.hk/en;sc/632;en.txt\n",
      "/home/kevin/github/ParallelCorpus/texts/www.edb.gov.hk/en;sc/633;en.txt\n",
      "/home/kevin/github/ParallelCorpus/texts/www.edb.gov.hk/en;sc/634;en.txt\n",
      "/home/kevin/github/ParallelCorpus/texts/www.edb.gov.hk/en;sc/635;en.txt\n",
      "/home/kevin/github/ParallelCorpus/texts/www.edb.gov.hk/en;sc/636;en.txt\n",
      "/home/kevin/github/ParallelCorpus/texts/www.edb.gov.hk/en;sc/637;en.txt\n",
      "/home/kevin/github/ParallelCorpus/texts/www.edb.gov.hk/en;sc/638;en.txt\n",
      "/home/kevin/github/ParallelCorpus/texts/www.edb.gov.hk/en;sc/639;en.txt\n",
      "/home/kevin/github/ParallelCorpus/texts/www.edb.gov.hk/en;sc/640;en.txt\n",
      "/home/kevin/github/ParallelCorpus/texts/www.edb.gov.hk/en;sc/641;en.txt\n",
      "/home/kevin/github/ParallelCorpus/texts/www.edb.gov.hk/en;sc/642;en.txt\n",
      "/home/kevin/github/ParallelCorpus/texts/www.edb.gov.hk/en;sc/643;en.txt\n",
      "/home/kevin/github/ParallelCorpus/texts/www.edb.gov.hk/en;sc/644;en.txt\n",
      "/home/kevin/github/ParallelCorpus/texts/www.edb.gov.hk/en;sc/645;en.txt\n",
      "/home/kevin/github/ParallelCorpus/texts/www.edb.gov.hk/en;sc/646;en.txt\n",
      "/home/kevin/github/ParallelCorpus/texts/www.edb.gov.hk/en;sc/647;en.txt\n",
      "/home/kevin/github/ParallelCorpus/texts/www.edb.gov.hk/en;sc/648;en.txt\n",
      "/home/kevin/github/ParallelCorpus/texts/www.edb.gov.hk/en;sc/649;en.txt\n",
      "/home/kevin/github/ParallelCorpus/texts/www.edb.gov.hk/en;sc/650;en.txt\n",
      "/home/kevin/github/ParallelCorpus/texts/www.edb.gov.hk/en;sc/651;en.txt\n",
      "/home/kevin/github/ParallelCorpus/texts/www.edb.gov.hk/en;sc/652;en.txt\n",
      "/home/kevin/github/ParallelCorpus/texts/www.edb.gov.hk/en;sc/653;en.txt\n",
      "/home/kevin/github/ParallelCorpus/texts/www.edb.gov.hk/en;sc/654;en.txt\n",
      "/home/kevin/github/ParallelCorpus/texts/www.edb.gov.hk/en;sc/655;en.txt\n",
      "/home/kevin/github/ParallelCorpus/texts/www.edb.gov.hk/en;sc/656;en.txt\n",
      "/home/kevin/github/ParallelCorpus/texts/www.edb.gov.hk/en;sc/657;en.txt\n",
      "/home/kevin/github/ParallelCorpus/texts/www.edb.gov.hk/en;sc/658;en.txt\n",
      "/home/kevin/github/ParallelCorpus/texts/www.edb.gov.hk/en;sc/659;en.txt\n",
      "/home/kevin/github/ParallelCorpus/texts/www.edb.gov.hk/en;sc/660;en.txt\n",
      "/home/kevin/github/ParallelCorpus/texts/www.edb.gov.hk/en;sc/661;en.txt\n",
      "/home/kevin/github/ParallelCorpus/texts/www.edb.gov.hk/en;sc/662;en.txt\n",
      "/home/kevin/github/ParallelCorpus/texts/www.edb.gov.hk/en;sc/663;en.txt\n",
      "/home/kevin/github/ParallelCorpus/texts/www.edb.gov.hk/en;sc/664;en.txt\n",
      "/home/kevin/github/ParallelCorpus/texts/www.edb.gov.hk/en;sc/665;en.txt\n",
      "/home/kevin/github/ParallelCorpus/texts/www.edb.gov.hk/en;sc/666;en.txt\n",
      "/home/kevin/github/ParallelCorpus/texts/www.edb.gov.hk/en;sc/667;en.txt\n",
      "/home/kevin/github/ParallelCorpus/texts/www.edb.gov.hk/en;sc/668;en.txt\n",
      "/home/kevin/github/ParallelCorpus/texts/www.edb.gov.hk/en;sc/669;en.txt\n",
      "/home/kevin/github/ParallelCorpus/texts/www.edb.gov.hk/en;sc/670;en.txt\n",
      "/home/kevin/github/ParallelCorpus/texts/www.edb.gov.hk/en;sc/671;en.txt\n",
      "/home/kevin/github/ParallelCorpus/texts/www.edb.gov.hk/en;sc/672;en.txt\n",
      "/home/kevin/github/ParallelCorpus/texts/www.edb.gov.hk/en;sc/673;en.txt\n",
      "/home/kevin/github/ParallelCorpus/texts/www.edb.gov.hk/en;sc/674;en.txt\n",
      "/home/kevin/github/ParallelCorpus/texts/www.edb.gov.hk/en;sc/675;en.txt\n",
      "/home/kevin/github/ParallelCorpus/texts/www.edb.gov.hk/en;sc/676;en.txt\n",
      "/home/kevin/github/ParallelCorpus/texts/www.edb.gov.hk/en;sc/677;en.txt\n",
      "/home/kevin/github/ParallelCorpus/texts/www.edb.gov.hk/en;sc/678;en.txt\n",
      "/home/kevin/github/ParallelCorpus/texts/www.edb.gov.hk/en;sc/679;en.txt\n",
      "/home/kevin/github/ParallelCorpus/texts/www.edb.gov.hk/en;sc/680;en.txt\n",
      "/home/kevin/github/ParallelCorpus/texts/www.edb.gov.hk/en;sc/681;en.txt\n",
      "/home/kevin/github/ParallelCorpus/texts/www.edb.gov.hk/en;sc/682;en.txt\n",
      "/home/kevin/github/ParallelCorpus/texts/www.edb.gov.hk/en;sc/683;en.txt\n",
      "/home/kevin/github/ParallelCorpus/texts/www.edb.gov.hk/en;sc/684;en.txt\n",
      "/home/kevin/github/ParallelCorpus/texts/www.edb.gov.hk/en;sc/685;en.txt\n",
      "/home/kevin/github/ParallelCorpus/texts/www.edb.gov.hk/en;sc/686;en.txt\n",
      "/home/kevin/github/ParallelCorpus/texts/www.edb.gov.hk/en;sc/687;en.txt\n",
      "/home/kevin/github/ParallelCorpus/texts/www.edb.gov.hk/en;sc/688;en.txt\n",
      "/home/kevin/github/ParallelCorpus/texts/www.edb.gov.hk/en;sc/689;en.txt\n",
      "/home/kevin/github/ParallelCorpus/texts/www.edb.gov.hk/en;sc/690;en.txt\n",
      "/home/kevin/github/ParallelCorpus/texts/www.edb.gov.hk/en;sc/691;en.txt\n",
      "/home/kevin/github/ParallelCorpus/texts/www.edb.gov.hk/en;sc/692;en.txt\n",
      "/home/kevin/github/ParallelCorpus/texts/www.edb.gov.hk/en;sc/693;en.txt\n",
      "/home/kevin/github/ParallelCorpus/texts/www.edb.gov.hk/en;sc/694;en.txt\n",
      "/home/kevin/github/ParallelCorpus/texts/www.edb.gov.hk/en;sc/695;en.txt\n",
      "/home/kevin/github/ParallelCorpus/texts/www.edb.gov.hk/en;sc/696;en.txt\n",
      "/home/kevin/github/ParallelCorpus/texts/www.edb.gov.hk/en;sc/697;en.txt\n",
      "/home/kevin/github/ParallelCorpus/texts/www.edb.gov.hk/en;sc/698;en.txt\n",
      "/home/kevin/github/ParallelCorpus/texts/www.edb.gov.hk/en;sc/699;en.txt\n",
      "/home/kevin/github/ParallelCorpus/texts/www.edb.gov.hk/en;sc/700;en.txt\n",
      "/home/kevin/github/ParallelCorpus/texts/www.edb.gov.hk/en;sc/701;en.txt\n",
      "/home/kevin/github/ParallelCorpus/texts/www.edb.gov.hk/en;sc/702;en.txt\n",
      "/home/kevin/github/ParallelCorpus/texts/www.edb.gov.hk/en;sc/703;en.txt\n",
      "/home/kevin/github/ParallelCorpus/texts/www.edb.gov.hk/en;sc/704;en.txt\n",
      "/home/kevin/github/ParallelCorpus/texts/www.edb.gov.hk/en;sc/705;en.txt\n",
      "/home/kevin/github/ParallelCorpus/texts/www.edb.gov.hk/en;sc/706;en.txt\n",
      "/home/kevin/github/ParallelCorpus/texts/www.edb.gov.hk/en;sc/707;en.txt\n",
      "/home/kevin/github/ParallelCorpus/texts/www.edb.gov.hk/en;sc/708;en.txt\n",
      "/home/kevin/github/ParallelCorpus/texts/www.edb.gov.hk/en;sc/709;en.txt\n",
      "/home/kevin/github/ParallelCorpus/texts/www.edb.gov.hk/en;sc/710;en.txt\n",
      "/home/kevin/github/ParallelCorpus/texts/www.edb.gov.hk/en;sc/711;en.txt\n",
      "/home/kevin/github/ParallelCorpus/texts/www.edb.gov.hk/en;sc/712;en.txt\n",
      "/home/kevin/github/ParallelCorpus/texts/www.edb.gov.hk/en;sc/713;en.txt\n",
      "/home/kevin/github/ParallelCorpus/texts/www.edb.gov.hk/en;sc/714;en.txt\n",
      "/home/kevin/github/ParallelCorpus/texts/www.edb.gov.hk/en;sc/715;en.txt\n",
      "/home/kevin/github/ParallelCorpus/texts/www.edb.gov.hk/en;sc/716;en.txt\n",
      "/home/kevin/github/ParallelCorpus/texts/www.edb.gov.hk/en;sc/717;en.txt\n",
      "/home/kevin/github/ParallelCorpus/texts/www.edb.gov.hk/en;sc/718;en.txt\n",
      "/home/kevin/github/ParallelCorpus/texts/www.edb.gov.hk/en;sc/719;en.txt\n",
      "/home/kevin/github/ParallelCorpus/texts/www.edb.gov.hk/en;sc/720;en.txt\n",
      "/home/kevin/github/ParallelCorpus/texts/www.edb.gov.hk/en;sc/721;en.txt\n",
      "/home/kevin/github/ParallelCorpus/texts/www.edb.gov.hk/en;sc/722;en.txt\n",
      "/home/kevin/github/ParallelCorpus/texts/www.edb.gov.hk/en;sc/723;en.txt\n",
      "/home/kevin/github/ParallelCorpus/texts/www.edb.gov.hk/en;sc/724;en.txt\n",
      "/home/kevin/github/ParallelCorpus/texts/www.edb.gov.hk/en;sc/725;en.txt\n",
      "/home/kevin/github/ParallelCorpus/texts/www.edb.gov.hk/en;sc/726;en.txt\n",
      "/home/kevin/github/ParallelCorpus/texts/www.edb.gov.hk/en;sc/727;en.txt\n",
      "/home/kevin/github/ParallelCorpus/texts/www.edb.gov.hk/en;sc/728;en.txt\n",
      "/home/kevin/github/ParallelCorpus/texts/www.edb.gov.hk/en;sc/729;en.txt\n",
      "/home/kevin/github/ParallelCorpus/texts/www.edb.gov.hk/en;sc/730;en.txt\n",
      "/home/kevin/github/ParallelCorpus/texts/www.edb.gov.hk/en;sc/731;en.txt\n",
      "/home/kevin/github/ParallelCorpus/texts/www.edb.gov.hk/en;sc/732;en.txt\n",
      "/home/kevin/github/ParallelCorpus/texts/www.edb.gov.hk/en;sc/733;en.txt\n",
      "/home/kevin/github/ParallelCorpus/texts/www.edb.gov.hk/en;sc/734;en.txt\n",
      "/home/kevin/github/ParallelCorpus/texts/www.edb.gov.hk/en;sc/735;en.txt\n",
      "/home/kevin/github/ParallelCorpus/texts/www.edb.gov.hk/en;sc/736;en.txt\n",
      "/home/kevin/github/ParallelCorpus/texts/www.edb.gov.hk/en;sc/737;en.txt\n",
      "/home/kevin/github/ParallelCorpus/texts/www.edb.gov.hk/en;sc/738;en.txt\n",
      "/home/kevin/github/ParallelCorpus/texts/www.edb.gov.hk/en;sc/739;en.txt\n",
      "/home/kevin/github/ParallelCorpus/texts/www.edb.gov.hk/en;sc/740;en.txt\n",
      "/home/kevin/github/ParallelCorpus/texts/www.edb.gov.hk/en;sc/741;en.txt\n",
      "/home/kevin/github/ParallelCorpus/texts/www.edb.gov.hk/en;sc/742;en.txt\n",
      "/home/kevin/github/ParallelCorpus/texts/www.edb.gov.hk/en;sc/743;en.txt\n",
      "/home/kevin/github/ParallelCorpus/texts/www.edb.gov.hk/en;sc/744;en.txt\n",
      "/home/kevin/github/ParallelCorpus/texts/www.edb.gov.hk/en;sc/745;en.txt\n",
      "/home/kevin/github/ParallelCorpus/texts/www.edb.gov.hk/en;sc/746;en.txt\n",
      "/home/kevin/github/ParallelCorpus/texts/www.edb.gov.hk/en;sc/747;en.txt\n",
      "/home/kevin/github/ParallelCorpus/texts/www.edb.gov.hk/en;sc/748;en.txt\n",
      "/home/kevin/github/ParallelCorpus/texts/www.edb.gov.hk/en;sc/749;en.txt\n",
      "/home/kevin/github/ParallelCorpus/texts/www.edb.gov.hk/en;sc/750;en.txt\n",
      "/home/kevin/github/ParallelCorpus/texts/www.edb.gov.hk/en;sc/751;en.txt\n",
      "/home/kevin/github/ParallelCorpus/texts/www.edb.gov.hk/en;sc/752;en.txt\n",
      "/home/kevin/github/ParallelCorpus/texts/www.edb.gov.hk/en;sc/753;en.txt\n",
      "/home/kevin/github/ParallelCorpus/texts/www.edb.gov.hk/en;sc/754;en.txt\n",
      "/home/kevin/github/ParallelCorpus/texts/www.edb.gov.hk/en;sc/755;en.txt\n",
      "/home/kevin/github/ParallelCorpus/texts/www.edb.gov.hk/en;sc/756;en.txt\n",
      "/home/kevin/github/ParallelCorpus/texts/www.edb.gov.hk/en;sc/757;en.txt\n",
      "/home/kevin/github/ParallelCorpus/texts/www.edb.gov.hk/en;sc/758;en.txt\n",
      "/home/kevin/github/ParallelCorpus/texts/www.edb.gov.hk/en;sc/759;en.txt\n",
      "/home/kevin/github/ParallelCorpus/texts/www.edb.gov.hk/en;sc/760;en.txt\n",
      "/home/kevin/github/ParallelCorpus/texts/www.edb.gov.hk/en;sc/761;en.txt\n",
      "/home/kevin/github/ParallelCorpus/texts/www.edb.gov.hk/en;sc/762;en.txt\n",
      "/home/kevin/github/ParallelCorpus/texts/www.edb.gov.hk/en;sc/763;en.txt\n",
      "/home/kevin/github/ParallelCorpus/texts/www.edb.gov.hk/en;sc/764;en.txt\n",
      "/home/kevin/github/ParallelCorpus/texts/www.edb.gov.hk/en;sc/765;en.txt\n",
      "/home/kevin/github/ParallelCorpus/texts/www.edb.gov.hk/en;sc/766;en.txt\n",
      "/home/kevin/github/ParallelCorpus/texts/www.edb.gov.hk/en;sc/767;en.txt\n",
      "/home/kevin/github/ParallelCorpus/texts/www.edb.gov.hk/en;sc/768;en.txt\n",
      "/home/kevin/github/ParallelCorpus/texts/www.edb.gov.hk/en;sc/769;en.txt\n",
      "/home/kevin/github/ParallelCorpus/texts/www.edb.gov.hk/en;sc/770;en.txt\n",
      "/home/kevin/github/ParallelCorpus/texts/www.edb.gov.hk/en;sc/771;en.txt\n",
      "/home/kevin/github/ParallelCorpus/texts/www.edb.gov.hk/en;sc/772;en.txt\n",
      "/home/kevin/github/ParallelCorpus/texts/www.edb.gov.hk/en;sc/773;en.txt\n",
      "/home/kevin/github/ParallelCorpus/texts/www.edb.gov.hk/en;sc/774;en.txt\n",
      "/home/kevin/github/ParallelCorpus/texts/www.edb.gov.hk/en;sc/775;en.txt\n",
      "/home/kevin/github/ParallelCorpus/texts/www.edb.gov.hk/en;sc/776;en.txt\n",
      "/home/kevin/github/ParallelCorpus/texts/www.edb.gov.hk/en;sc/777;en.txt\n",
      "/home/kevin/github/ParallelCorpus/texts/www.edb.gov.hk/en;sc/778;en.txt\n",
      "/home/kevin/github/ParallelCorpus/texts/www.edb.gov.hk/en;sc/779;en.txt\n",
      "/home/kevin/github/ParallelCorpus/texts/www.edb.gov.hk/en;sc/780;en.txt\n",
      "/home/kevin/github/ParallelCorpus/texts/www.edb.gov.hk/en;sc/781;en.txt\n",
      "/home/kevin/github/ParallelCorpus/texts/www.edb.gov.hk/en;sc/782;en.txt\n",
      "/home/kevin/github/ParallelCorpus/texts/www.edb.gov.hk/en;sc/783;en.txt\n",
      "/home/kevin/github/ParallelCorpus/texts/www.edb.gov.hk/en;sc/784;en.txt\n",
      "/home/kevin/github/ParallelCorpus/texts/www.edb.gov.hk/en;sc/785;en.txt\n",
      "/home/kevin/github/ParallelCorpus/texts/www.edb.gov.hk/en;sc/786;en.txt\n",
      "/home/kevin/github/ParallelCorpus/texts/www.edb.gov.hk/en;sc/787;en.txt\n",
      "/home/kevin/github/ParallelCorpus/texts/www.edb.gov.hk/en;sc/788;en.txt\n",
      "/home/kevin/github/ParallelCorpus/texts/www.edb.gov.hk/en;sc/789;en.txt\n",
      "/home/kevin/github/ParallelCorpus/texts/www.edb.gov.hk/en;sc/790;en.txt\n",
      "/home/kevin/github/ParallelCorpus/texts/www.edb.gov.hk/en;sc/791;en.txt\n",
      "/home/kevin/github/ParallelCorpus/texts/www.edb.gov.hk/en;sc/792;en.txt\n",
      "/home/kevin/github/ParallelCorpus/texts/www.edb.gov.hk/en;sc/793;en.txt\n",
      "/home/kevin/github/ParallelCorpus/texts/www.edb.gov.hk/en;sc/794;en.txt\n",
      "/home/kevin/github/ParallelCorpus/texts/www.edb.gov.hk/en;sc/795;en.txt\n",
      "/home/kevin/github/ParallelCorpus/texts/www.edb.gov.hk/en;sc/796;en.txt\n",
      "/home/kevin/github/ParallelCorpus/texts/www.edb.gov.hk/en;sc/797;en.txt\n",
      "/home/kevin/github/ParallelCorpus/texts/www.edb.gov.hk/en;sc/798;en.txt\n",
      "/home/kevin/github/ParallelCorpus/texts/www.edb.gov.hk/en;sc/799;en.txt\n",
      "/home/kevin/github/ParallelCorpus/texts/www.edb.gov.hk/en;sc/800;en.txt\n",
      "/home/kevin/github/ParallelCorpus/texts/www.edb.gov.hk/en;sc/801;en.txt\n",
      "/home/kevin/github/ParallelCorpus/texts/www.edb.gov.hk/en;sc/802;en.txt\n",
      "/home/kevin/github/ParallelCorpus/texts/www.edb.gov.hk/en;sc/803;en.txt\n",
      "/home/kevin/github/ParallelCorpus/texts/www.edb.gov.hk/en;sc/804;en.txt\n",
      "/home/kevin/github/ParallelCorpus/texts/www.edb.gov.hk/en;sc/805;en.txt\n",
      "/home/kevin/github/ParallelCorpus/texts/www.edb.gov.hk/en;sc/806;en.txt\n",
      "/home/kevin/github/ParallelCorpus/texts/www.edb.gov.hk/en;sc/807;en.txt\n",
      "/home/kevin/github/ParallelCorpus/texts/www.edb.gov.hk/en;sc/808;en.txt\n",
      "/home/kevin/github/ParallelCorpus/texts/www.edb.gov.hk/en;sc/809;en.txt\n",
      "/home/kevin/github/ParallelCorpus/texts/www.edb.gov.hk/en;sc/810;en.txt\n",
      "/home/kevin/github/ParallelCorpus/texts/www.edb.gov.hk/en;sc/811;en.txt\n",
      "/home/kevin/github/ParallelCorpus/texts/www.edb.gov.hk/en;sc/812;en.txt\n",
      "/home/kevin/github/ParallelCorpus/texts/www.edb.gov.hk/en;sc/813;en.txt\n",
      "/home/kevin/github/ParallelCorpus/texts/www.edb.gov.hk/en;sc/814;en.txt\n",
      "/home/kevin/github/ParallelCorpus/texts/www.edb.gov.hk/en;sc/815;en.txt\n",
      "/home/kevin/github/ParallelCorpus/texts/www.edb.gov.hk/en;sc/816;en.txt\n",
      "/home/kevin/github/ParallelCorpus/texts/www.edb.gov.hk/en;sc/817;en.txt\n",
      "/home/kevin/github/ParallelCorpus/texts/www.edb.gov.hk/en;sc/818;en.txt\n",
      "/home/kevin/github/ParallelCorpus/texts/www.edb.gov.hk/en;sc/819;en.txt\n",
      "/home/kevin/github/ParallelCorpus/texts/www.edb.gov.hk/en;sc/820;en.txt\n",
      "/home/kevin/github/ParallelCorpus/texts/www.edb.gov.hk/en;sc/821;en.txt\n",
      "/home/kevin/github/ParallelCorpus/texts/www.edb.gov.hk/en;sc/822;en.txt\n",
      "/home/kevin/github/ParallelCorpus/texts/www.edb.gov.hk/en;sc/823;en.txt\n",
      "/home/kevin/github/ParallelCorpus/texts/www.edb.gov.hk/en;sc/824;en.txt\n",
      "/home/kevin/github/ParallelCorpus/texts/www.edb.gov.hk/en;sc/825;en.txt\n",
      "/home/kevin/github/ParallelCorpus/texts/www.edb.gov.hk/en;sc/826;en.txt\n",
      "/home/kevin/github/ParallelCorpus/texts/www.edb.gov.hk/en;sc/827;en.txt\n",
      "/home/kevin/github/ParallelCorpus/texts/www.edb.gov.hk/en;sc/828;en.txt\n",
      "/home/kevin/github/ParallelCorpus/texts/www.edb.gov.hk/en;sc/829;en.txt\n",
      "/home/kevin/github/ParallelCorpus/texts/www.edb.gov.hk/en;sc/830;en.txt\n",
      "/home/kevin/github/ParallelCorpus/texts/www.edb.gov.hk/en;sc/831;en.txt\n",
      "/home/kevin/github/ParallelCorpus/texts/www.edb.gov.hk/en;sc/832;en.txt\n",
      "/home/kevin/github/ParallelCorpus/texts/www.edb.gov.hk/en;sc/833;en.txt\n",
      "/home/kevin/github/ParallelCorpus/texts/www.edb.gov.hk/en;sc/834;en.txt\n",
      "/home/kevin/github/ParallelCorpus/texts/www.edb.gov.hk/en;sc/835;en.txt\n",
      "/home/kevin/github/ParallelCorpus/texts/www.edb.gov.hk/en;sc/836;en.txt\n",
      "/home/kevin/github/ParallelCorpus/texts/www.edb.gov.hk/en;sc/837;en.txt\n",
      "/home/kevin/github/ParallelCorpus/texts/www.edb.gov.hk/en;sc/838;en.txt\n",
      "/home/kevin/github/ParallelCorpus/texts/www.edb.gov.hk/en;sc/839;en.txt\n",
      "/home/kevin/github/ParallelCorpus/texts/www.edb.gov.hk/en;sc/840;en.txt\n",
      "/home/kevin/github/ParallelCorpus/texts/www.edb.gov.hk/en;sc/841;en.txt\n",
      "/home/kevin/github/ParallelCorpus/texts/www.edb.gov.hk/en;sc/842;en.txt\n",
      "/home/kevin/github/ParallelCorpus/texts/www.edb.gov.hk/en;sc/843;en.txt\n",
      "/home/kevin/github/ParallelCorpus/texts/www.edb.gov.hk/en;sc/844;en.txt\n",
      "/home/kevin/github/ParallelCorpus/texts/www.edb.gov.hk/en;sc/845;en.txt\n",
      "/home/kevin/github/ParallelCorpus/texts/www.edb.gov.hk/en;sc/846;en.txt\n",
      "/home/kevin/github/ParallelCorpus/texts/www.edb.gov.hk/en;sc/847;en.txt\n",
      "/home/kevin/github/ParallelCorpus/texts/www.edb.gov.hk/en;sc/848;en.txt\n",
      "/home/kevin/github/ParallelCorpus/texts/www.edb.gov.hk/en;sc/849;en.txt\n",
      "/home/kevin/github/ParallelCorpus/texts/www.edb.gov.hk/en;sc/850;en.txt\n",
      "/home/kevin/github/ParallelCorpus/texts/www.edb.gov.hk/en;sc/851;en.txt\n",
      "/home/kevin/github/ParallelCorpus/texts/www.edb.gov.hk/en;sc/852;en.txt\n",
      "/home/kevin/github/ParallelCorpus/texts/www.edb.gov.hk/en;sc/853;en.txt\n",
      "/home/kevin/github/ParallelCorpus/texts/www.edb.gov.hk/en;sc/854;en.txt\n",
      "/home/kevin/github/ParallelCorpus/texts/www.edb.gov.hk/en;sc/855;en.txt\n",
      "/home/kevin/github/ParallelCorpus/texts/www.edb.gov.hk/en;sc/856;en.txt\n",
      "/home/kevin/github/ParallelCorpus/texts/www.edb.gov.hk/en;sc/857;en.txt\n",
      "/home/kevin/github/ParallelCorpus/texts/www.edb.gov.hk/en;sc/858;en.txt\n",
      "/home/kevin/github/ParallelCorpus/texts/www.edb.gov.hk/en;sc/859;en.txt\n",
      "/home/kevin/github/ParallelCorpus/texts/www.edb.gov.hk/en;sc/860;en.txt\n",
      "/home/kevin/github/ParallelCorpus/texts/www.edb.gov.hk/en;sc/861;en.txt\n",
      "/home/kevin/github/ParallelCorpus/texts/www.edb.gov.hk/en;sc/862;en.txt\n",
      "/home/kevin/github/ParallelCorpus/texts/www.edb.gov.hk/en;sc/863;en.txt\n",
      "/home/kevin/github/ParallelCorpus/texts/www.edb.gov.hk/en;sc/864;en.txt\n",
      "/home/kevin/github/ParallelCorpus/texts/www.edb.gov.hk/en;sc/865;en.txt\n",
      "/home/kevin/github/ParallelCorpus/texts/www.edb.gov.hk/en;sc/866;en.txt\n",
      "/home/kevin/github/ParallelCorpus/texts/www.edb.gov.hk/en;sc/867;en.txt\n",
      "/home/kevin/github/ParallelCorpus/texts/www.edb.gov.hk/en;sc/868;en.txt\n",
      "/home/kevin/github/ParallelCorpus/texts/www.edb.gov.hk/en;sc/869;en.txt\n",
      "/home/kevin/github/ParallelCorpus/texts/www.edb.gov.hk/en;sc/870;en.txt\n",
      "/home/kevin/github/ParallelCorpus/texts/www.edb.gov.hk/en;sc/871;en.txt\n",
      "/home/kevin/github/ParallelCorpus/texts/www.edb.gov.hk/en;sc/872;en.txt\n",
      "/home/kevin/github/ParallelCorpus/texts/www.edb.gov.hk/en;sc/873;en.txt\n",
      "/home/kevin/github/ParallelCorpus/texts/www.edb.gov.hk/en;sc/874;en.txt\n",
      "/home/kevin/github/ParallelCorpus/texts/www.edb.gov.hk/en;sc/875;en.txt\n",
      "/home/kevin/github/ParallelCorpus/texts/www.edb.gov.hk/en;sc/876;en.txt\n",
      "/home/kevin/github/ParallelCorpus/texts/www.edb.gov.hk/en;sc/877;en.txt\n",
      "/home/kevin/github/ParallelCorpus/texts/www.edb.gov.hk/en;sc/878;en.txt\n",
      "/home/kevin/github/ParallelCorpus/texts/www.edb.gov.hk/en;sc/879;en.txt\n",
      "/home/kevin/github/ParallelCorpus/texts/www.edb.gov.hk/en;sc/880;en.txt\n",
      "/home/kevin/github/ParallelCorpus/texts/www.edb.gov.hk/en;sc/881;en.txt\n",
      "/home/kevin/github/ParallelCorpus/texts/www.edb.gov.hk/en;sc/882;en.txt\n",
      "/home/kevin/github/ParallelCorpus/texts/www.edb.gov.hk/en;sc/883;en.txt\n",
      "/home/kevin/github/ParallelCorpus/texts/www.edb.gov.hk/en;sc/884;en.txt\n",
      "/home/kevin/github/ParallelCorpus/texts/www.edb.gov.hk/en;sc/885;en.txt\n",
      "/home/kevin/github/ParallelCorpus/texts/www.edb.gov.hk/en;sc/886;en.txt\n",
      "/home/kevin/github/ParallelCorpus/texts/www.edb.gov.hk/en;sc/887;en.txt\n",
      "/home/kevin/github/ParallelCorpus/texts/www.edb.gov.hk/en;sc/888;en.txt\n",
      "/home/kevin/github/ParallelCorpus/texts/www.edb.gov.hk/en;sc/889;en.txt\n",
      "/home/kevin/github/ParallelCorpus/texts/www.edb.gov.hk/en;sc/890;en.txt\n",
      "/home/kevin/github/ParallelCorpus/texts/www.edb.gov.hk/en;sc/891;en.txt\n",
      "/home/kevin/github/ParallelCorpus/texts/www.edb.gov.hk/en;sc/892;en.txt\n",
      "/home/kevin/github/ParallelCorpus/texts/www.edb.gov.hk/en;sc/893;en.txt\n",
      "/home/kevin/github/ParallelCorpus/texts/www.edb.gov.hk/en;sc/894;en.txt\n",
      "/home/kevin/github/ParallelCorpus/texts/www.edb.gov.hk/en;sc/895;en.txt\n",
      "/home/kevin/github/ParallelCorpus/texts/www.edb.gov.hk/en;sc/896;en.txt\n",
      "/home/kevin/github/ParallelCorpus/texts/www.edb.gov.hk/en;sc/897;en.txt\n",
      "/home/kevin/github/ParallelCorpus/texts/www.edb.gov.hk/en;sc/898;en.txt\n",
      "/home/kevin/github/ParallelCorpus/texts/www.edb.gov.hk/en;sc/899;en.txt\n",
      "/home/kevin/github/ParallelCorpus/texts/www.edb.gov.hk/en;sc/900;en.txt\n",
      "/home/kevin/github/ParallelCorpus/texts/www.edb.gov.hk/en;sc/901;en.txt\n",
      "/home/kevin/github/ParallelCorpus/texts/www.edb.gov.hk/en;sc/902;en.txt\n",
      "/home/kevin/github/ParallelCorpus/texts/www.edb.gov.hk/en;sc/903;en.txt\n",
      "/home/kevin/github/ParallelCorpus/texts/www.edb.gov.hk/en;sc/904;en.txt\n",
      "/home/kevin/github/ParallelCorpus/texts/www.edb.gov.hk/en;sc/905;en.txt\n",
      "/home/kevin/github/ParallelCorpus/texts/www.edb.gov.hk/en;sc/906;en.txt\n",
      "/home/kevin/github/ParallelCorpus/texts/www.edb.gov.hk/en;sc/907;en.txt\n",
      "/home/kevin/github/ParallelCorpus/texts/www.edb.gov.hk/en;sc/908;en.txt\n",
      "/home/kevin/github/ParallelCorpus/texts/www.edb.gov.hk/en;sc/909;en.txt\n",
      "/home/kevin/github/ParallelCorpus/texts/www.edb.gov.hk/en;sc/910;en.txt\n",
      "/home/kevin/github/ParallelCorpus/texts/www.edb.gov.hk/en;sc/911;en.txt\n",
      "/home/kevin/github/ParallelCorpus/texts/www.edb.gov.hk/en;sc/912;en.txt\n",
      "/home/kevin/github/ParallelCorpus/texts/www.edb.gov.hk/en;sc/913;en.txt\n",
      "/home/kevin/github/ParallelCorpus/texts/www.edb.gov.hk/en;sc/914;en.txt\n",
      "/home/kevin/github/ParallelCorpus/texts/www.edb.gov.hk/en;sc/915;en.txt\n",
      "/home/kevin/github/ParallelCorpus/texts/www.edb.gov.hk/en;sc/916;en.txt\n",
      "/home/kevin/github/ParallelCorpus/texts/www.edb.gov.hk/en;sc/917;en.txt\n",
      "/home/kevin/github/ParallelCorpus/texts/www.edb.gov.hk/en;sc/918;en.txt\n",
      "/home/kevin/github/ParallelCorpus/texts/www.edb.gov.hk/en;sc/919;en.txt\n",
      "/home/kevin/github/ParallelCorpus/texts/www.edb.gov.hk/en;sc/920;en.txt\n",
      "/home/kevin/github/ParallelCorpus/texts/www.edb.gov.hk/en;sc/921;en.txt\n",
      "/home/kevin/github/ParallelCorpus/texts/www.edb.gov.hk/en;sc/922;en.txt\n",
      "/home/kevin/github/ParallelCorpus/texts/www.edb.gov.hk/en;sc/923;en.txt\n",
      "/home/kevin/github/ParallelCorpus/texts/www.edb.gov.hk/en;sc/924;en.txt\n",
      "/home/kevin/github/ParallelCorpus/texts/www.edb.gov.hk/en;sc/925;en.txt\n",
      "/home/kevin/github/ParallelCorpus/texts/www.edb.gov.hk/en;sc/926;en.txt\n",
      "/home/kevin/github/ParallelCorpus/texts/www.edb.gov.hk/en;sc/927;en.txt\n",
      "/home/kevin/github/ParallelCorpus/texts/www.edb.gov.hk/en;sc/928;en.txt\n",
      "/home/kevin/github/ParallelCorpus/texts/www.edb.gov.hk/en;sc/929;en.txt\n",
      "/home/kevin/github/ParallelCorpus/texts/www.edb.gov.hk/en;sc/930;en.txt\n",
      "/home/kevin/github/ParallelCorpus/texts/www.edb.gov.hk/en;sc/931;en.txt\n",
      "/home/kevin/github/ParallelCorpus/texts/www.edb.gov.hk/en;sc/932;en.txt\n",
      "/home/kevin/github/ParallelCorpus/texts/www.edb.gov.hk/en;sc/933;en.txt\n",
      "/home/kevin/github/ParallelCorpus/texts/www.edb.gov.hk/en;sc/934;en.txt\n",
      "/home/kevin/github/ParallelCorpus/texts/www.edb.gov.hk/en;sc/935;en.txt\n",
      "/home/kevin/github/ParallelCorpus/texts/www.edb.gov.hk/en;sc/936;en.txt\n",
      "/home/kevin/github/ParallelCorpus/texts/www.edb.gov.hk/en;sc/937;en.txt\n",
      "/home/kevin/github/ParallelCorpus/texts/www.edb.gov.hk/en;sc/938;en.txt\n",
      "/home/kevin/github/ParallelCorpus/texts/www.edb.gov.hk/en;sc/939;en.txt\n",
      "/home/kevin/github/ParallelCorpus/texts/www.edb.gov.hk/en;sc/940;en.txt\n",
      "/home/kevin/github/ParallelCorpus/texts/www.edb.gov.hk/en;sc/941;en.txt\n",
      "/home/kevin/github/ParallelCorpus/texts/www.edb.gov.hk/en;sc/942;en.txt\n",
      "/home/kevin/github/ParallelCorpus/texts/www.edb.gov.hk/en;sc/943;en.txt\n",
      "/home/kevin/github/ParallelCorpus/texts/www.edb.gov.hk/en;sc/944;en.txt\n"
     ]
    }
   ],
   "source": [
    "\n",
    "\n",
    "\n",
    "\n",
    "enList = glob.glob(\"/home/kevin/github/ParallelCorpus/texts/www.edb.gov.hk/en;sc/*;en.txt\")\n",
    "t = sorted(enList, key=reversed_cmp)\n",
    "# enList.sort()\n",
    "for a in t:\n",
    "    print(a)"
   ]
  },
  {
   "cell_type": "code",
   "execution_count": 34,
   "metadata": {},
   "outputs": [
    {
     "data": {
      "text/plain": [
       "[5, 9, 12, 21, 36]"
      ]
     },
     "execution_count": 34,
     "metadata": {},
     "output_type": "execute_result"
    }
   ],
   "source": [
    "\n",
    "sorted([36, 5, 12, 9, 21], key=reversed_cmp,reverse=True)"
   ]
  },
  {
   "cell_type": "code",
   "execution_count": 40,
   "metadata": {},
   "outputs": [
    {
     "name": "stdout",
     "output_type": "stream",
     "text": [
      "/home/kevin/github/ParallelCorpus/texts/www.edb.gov.hk/en;sc/416;en.tx\n"
     ]
    }
   ],
   "source": [
    "print( '/home/kevin/github/ParallelCorpus/texts/www.edb.gov.hk/en;sc/416;en.tx')"
   ]
  },
  {
   "cell_type": "code",
   "execution_count": 44,
   "metadata": {},
   "outputs": [
    {
     "name": "stdout",
     "output_type": "stream",
     "text": [
      "(0, 3)\n",
      "<_sre.SRE_Match object; span=(0, 3), match='www'>\n"
     ]
    }
   ],
   "source": [
    "print(re.match('www', 'www.runoob.com').span())  # 在起始位置匹配\n",
    "print(re.match('www', 'www.runoob.com'))"
   ]
  },
  {
   "cell_type": "code",
   "execution_count": null,
   "metadata": {},
   "outputs": [],
   "source": []
  }
 ],
 "metadata": {
  "kernelspec": {
   "display_name": "Python 3",
   "language": "python",
   "name": "python3"
  },
  "language_info": {
   "codemirror_mode": {
    "name": "ipython",
    "version": 3
   },
   "file_extension": ".py",
   "mimetype": "text/x-python",
   "name": "python",
   "nbconvert_exporter": "python",
   "pygments_lexer": "ipython3",
   "version": "3.6.4"
  }
 },
 "nbformat": 4,
 "nbformat_minor": 2
}
