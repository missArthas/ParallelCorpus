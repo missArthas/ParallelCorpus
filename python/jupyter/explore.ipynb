{
 "cells": [
  {
   "cell_type": "code",
   "execution_count": 2,
   "metadata": {
    "ExecuteTime": {
     "end_time": "2018-02-26T08:02:30.119002Z",
     "start_time": "2018-02-26T08:02:29.167462Z"
    },
    "collapsed": true
   },
   "outputs": [],
   "source": [
    "#coding=utf-8\n",
    "from bs4 import BeautifulSoup\n",
    "import pandas as pd\n",
    "import numpy as np\n",
    "import sys\n",
    "import random\n",
    "import math\n",
    "import os\n",
    "import glob"
   ]
  },
  {
   "cell_type": "code",
   "execution_count": 3,
   "metadata": {
    "ExecuteTime": {
     "end_time": "2018-02-26T08:02:30.125226Z",
     "start_time": "2018-02-26T08:02:30.121524Z"
    },
    "collapsed": true
   },
   "outputs": [],
   "source": [
    "web_path = '/Users/nali/github/ParallelCorpus/websites/'\n",
    "text_path = '/Users/nali/github/ParallelCorpus/texts/'"
   ]
  },
  {
   "cell_type": "code",
   "execution_count": 38,
   "metadata": {
    "ExecuteTime": {
     "end_time": "2018-02-27T06:30:07.066085Z",
     "start_time": "2018-02-27T06:30:07.050345Z"
    },
    "collapsed": true
   },
   "outputs": [],
   "source": [
    "from pyltp import Segmentor\n",
    "from pyltp import NamedEntityRecognizer\n",
    "from pyltp import Postagger\n",
    "from pyltp import SentenceSplitter\n"
   ]
  },
  {
   "cell_type": "code",
   "execution_count": 39,
   "metadata": {
    "ExecuteTime": {
     "end_time": "2018-02-27T06:30:11.637600Z",
     "start_time": "2018-02-27T06:30:10.558790Z"
    }
   },
   "outputs": [
    {
     "name": "stdout",
     "output_type": "stream",
     "text": [
      "元芳你怎么看？\n",
      "['共和国', '反腐', '第一', '案', '，', '刘青山', '之', '子', '口述', '父亲', '枪毙', '内情', 'in', 'the', 'world']\n",
      "['n', 'v', 'm', 'n', 'wp', 'nh', 'u', 'n', 'v', 'n', 'v', 'n', 'ws', 'ws', 'ws']\n",
      "['O', 'O', 'O', 'O', 'O', 'S-Nh', 'O', 'O', 'O', 'O', 'O', 'O', 'O', 'O', 'O']\n"
     ]
    }
   ],
   "source": [
    "LTP_DATA_DIR = '/Users/nali/nlp/pyltp/ltp_data_v3.4.0/'  # ltp模型目录的路径\n",
    "cws_model_path = os.path.join(LTP_DATA_DIR, 'cws.model')  # 分词模型路径，模型名称为`cws.model`\n",
    "ner_model_path = os.path.join(LTP_DATA_DIR, 'ner.model')  # 命名实体识别模型路径，模型名称为`pos.model`\n",
    "pos_model_path = os.path.join(LTP_DATA_DIR, 'pos.model')\n",
    "\n",
    "segmentor = Segmentor()  # 初始化实例\n",
    "segmentor.load(cws_model_path)  # 加载模型\n",
    "\n",
    "recognizer = NamedEntityRecognizer() # 初始化实例\n",
    "recognizer.load(ner_model_path)  # 加载模型\n",
    "\n",
    "postagger = Postagger() # 初始化实例\n",
    "postagger.load(pos_model_path)  # 加载模型\n",
    "\n",
    "sents = SentenceSplitter.split('元芳你怎么看？')  # 分句\n",
    "print('\\n'.join(sents))\n",
    "\n",
    "sentence = '共和国反腐第一案，刘青山之子口述父亲枪毙内情in the world'\n",
    "sentence2 = 'The first case of anti corruption in the Republic, the son of Liu Qingshan dictates the death of his father.'\n",
    "words = segmentor.segment(sentence)  # 分词\n",
    "print(list(words))\n",
    "postags = postagger.postag(segmentor.segment(sentence))\n",
    "print(list(postags))\n",
    "netags = recognizer.recognize(words, postags)  # 命名实体识别\n",
    "print(list(netags))\n",
    "recognizer.release()  # 释放模型"
   ]
  },
  {
   "cell_type": "code",
   "execution_count": 40,
   "metadata": {
    "ExecuteTime": {
     "end_time": "2018-02-27T06:30:14.455145Z",
     "start_time": "2018-02-27T06:30:14.439959Z"
    },
    "collapsed": true
   },
   "outputs": [],
   "source": [
    "import nltk  \n",
    "import nltk.data  \n",
    "from nltk.tokenize import WordPunctTokenizer    \n",
    "  \n",
    "def wordtokenizer(sentence):  \n",
    "    #分段  \n",
    "    words = WordPunctTokenizer().tokenize(sentence)  \n",
    "    return words \n",
    "  \n",
    "def splitSentence(paragraph):  \n",
    "    tokenizer = nltk.data.load('tokenizers/punkt/english.pickle')  \n",
    "    sentences = tokenizer.tokenize(paragraph)  \n",
    "    return sentences  \n",
    "  "
   ]
  },
  {
   "cell_type": "code",
   "execution_count": 41,
   "metadata": {
    "ExecuteTime": {
     "end_time": "2018-02-27T06:30:17.155964Z",
     "start_time": "2018-02-27T06:30:17.135745Z"
    }
   },
   "outputs": [
    {
     "name": "stdout",
     "output_type": "stream",
     "text": [
      "['My name is Tom.', 'I am a boy.', 'I like soccer!']\n"
     ]
    }
   ],
   "source": [
    "sentences = splitSentence(\"My name is Tom. I am a boy. I like soccer!\")\n",
    "print(sentences)"
   ]
  },
  {
   "cell_type": "code",
   "execution_count": 42,
   "metadata": {
    "ExecuteTime": {
     "end_time": "2018-02-27T06:30:19.530318Z",
     "start_time": "2018-02-27T06:30:19.518785Z"
    }
   },
   "outputs": [
    {
     "name": "stdout",
     "output_type": "stream",
     "text": [
      "['My', 'name', 'is', 'Tom', '.']\n",
      "['I', 'am', 'a', 'boy', '.']\n",
      "['I', 'like', 'soccer', '!']\n"
     ]
    }
   ],
   "source": [
    "for sentence in sentences:\n",
    "    print(wordtokenizer(sentence))"
   ]
  },
  {
   "cell_type": "code",
   "execution_count": 94,
   "metadata": {
    "ExecuteTime": {
     "end_time": "2018-02-28T02:45:15.224827Z",
     "start_time": "2018-02-28T02:45:15.192261Z"
    }
   },
   "outputs": [
    {
     "name": "stdout",
     "output_type": "stream",
     "text": [
      "2572\n"
     ]
    }
   ],
   "source": [
    "lst = glob.glob(r'/Users/nali/github/ParallelCorpus/texts/www.edb.gov.hk/en;sc/*.txt')\n",
    "print(len(lst))"
   ]
  },
  {
   "cell_type": "code",
   "execution_count": 32,
   "metadata": {
    "ExecuteTime": {
     "end_time": "2018-02-26T08:05:09.552181Z",
     "start_time": "2018-02-26T08:05:09.532772Z"
    }
   },
   "outputs": [
    {
     "ename": "IndexError",
     "evalue": "list index out of range",
     "output_type": "error",
     "traceback": [
      "\u001b[0;31m---------------------------------------------------------------------------\u001b[0m",
      "\u001b[0;31mIndexError\u001b[0m                                Traceback (most recent call last)",
      "\u001b[0;32m<ipython-input-32-c1ff8b3e6184>\u001b[0m in \u001b[0;36m<module>\u001b[0;34m()\u001b[0m\n\u001b[0;32m----> 1\u001b[0;31m \u001b[0mscfile\u001b[0m \u001b[0;34m=\u001b[0m \u001b[0mopen\u001b[0m\u001b[0;34m(\u001b[0m\u001b[0mlst\u001b[0m\u001b[0;34m[\u001b[0m\u001b[0;36m1\u001b[0m\u001b[0;34m]\u001b[0m\u001b[0;34m,\u001b[0m \u001b[0;34m'r'\u001b[0m\u001b[0;34m)\u001b[0m\u001b[0;34m\u001b[0m\u001b[0m\n\u001b[0m\u001b[1;32m      2\u001b[0m \u001b[0;32mfor\u001b[0m \u001b[0mline\u001b[0m \u001b[0;32min\u001b[0m \u001b[0mscfile\u001b[0m\u001b[0;34m.\u001b[0m\u001b[0mreadlines\u001b[0m\u001b[0;34m(\u001b[0m\u001b[0;34m)\u001b[0m\u001b[0;34m:\u001b[0m\u001b[0;34m\u001b[0m\u001b[0m\n\u001b[1;32m      3\u001b[0m     \u001b[0mlineStr\u001b[0m \u001b[0;34m=\u001b[0m \u001b[0mline\u001b[0m\u001b[0;34m.\u001b[0m\u001b[0mstrip\u001b[0m\u001b[0;34m(\u001b[0m\u001b[0;34m)\u001b[0m \u001b[0;31m# 把末尾的'\\n'删掉\u001b[0m\u001b[0;34m\u001b[0m\u001b[0m\n\u001b[1;32m      4\u001b[0m \u001b[0;31m#     print(lineStr)\u001b[0m\u001b[0;34m\u001b[0m\u001b[0;34m\u001b[0m\u001b[0m\n\u001b[1;32m      5\u001b[0m     \u001b[0msentences\u001b[0m \u001b[0;34m=\u001b[0m \u001b[0mSentenceSplitter\u001b[0m\u001b[0;34m.\u001b[0m\u001b[0msplit\u001b[0m\u001b[0;34m(\u001b[0m\u001b[0mlineStr\u001b[0m\u001b[0;34m)\u001b[0m\u001b[0;34m\u001b[0m\u001b[0m\n",
      "\u001b[0;31mIndexError\u001b[0m: list index out of range"
     ]
    }
   ],
   "source": [
    "scfile = open(lst[1], 'r')\n",
    "for line in scfile.readlines():\n",
    "    lineStr = line.strip() # 把末尾的'\\n'删掉\n",
    "#     print(lineStr)\n",
    "    sentences = SentenceSplitter.split(lineStr)\n",
    "    for sentence in sentences:\n",
    "        words = segmentor.segment(sentence)\n",
    "        postags = postagger.postag(words)\n",
    "        netags = recognizer.recognize(words, postags)  # 命名实体识别\n",
    "        \n",
    "        print(list(words))\n",
    "        print(list(postags))\n",
    "        print(list(netags))\n",
    "    "
   ]
  },
  {
   "cell_type": "code",
   "execution_count": 44,
   "metadata": {
    "ExecuteTime": {
     "end_time": "2018-02-27T06:30:41.132404Z",
     "start_time": "2018-02-27T06:30:41.128726Z"
    },
    "collapsed": true
   },
   "outputs": [],
   "source": [
    "from pytrie import SortedStringTrie as Trie"
   ]
  },
  {
   "cell_type": "code",
   "execution_count": 45,
   "metadata": {
    "ExecuteTime": {
     "end_time": "2018-02-27T06:30:42.732601Z",
     "start_time": "2018-02-27T06:30:42.721944Z"
    },
    "collapsed": true
   },
   "outputs": [],
   "source": [
    "t = Trie(a='哈', ab='哈哈', aba='我', c='特征', abc='123', aloe=5, are=6, be=7)"
   ]
  },
  {
   "cell_type": "code",
   "execution_count": 46,
   "metadata": {
    "ExecuteTime": {
     "end_time": "2018-02-27T06:30:43.242844Z",
     "start_time": "2018-02-27T06:30:43.237226Z"
    }
   },
   "outputs": [
    {
     "data": {
      "text/plain": [
       "['a', 'ab', 'aba', 'abc', 'aloe', 'are']"
      ]
     },
     "execution_count": 46,
     "metadata": {},
     "output_type": "execute_result"
    }
   ],
   "source": [
    "t.keys(prefix='a')"
   ]
  },
  {
   "cell_type": "code",
   "execution_count": 47,
   "metadata": {
    "ExecuteTime": {
     "end_time": "2018-02-27T06:30:45.797312Z",
     "start_time": "2018-02-27T06:30:45.793039Z"
    }
   },
   "outputs": [
    {
     "data": {
      "text/plain": [
       "'哈哈'"
      ]
     },
     "execution_count": 47,
     "metadata": {},
     "output_type": "execute_result"
    }
   ],
   "source": [
    "t.longest_prefix_value('abd', default='N/A')"
   ]
  },
  {
   "cell_type": "code",
   "execution_count": 48,
   "metadata": {
    "ExecuteTime": {
     "end_time": "2018-02-27T06:30:46.524622Z",
     "start_time": "2018-02-27T06:30:46.513988Z"
    },
    "collapsed": true
   },
   "outputs": [],
   "source": [
    "t = Trie({'a':{'啊','?'}, 'ab':'哈哈', 'aba':'我', 'c':'特征', 'abc':'123', 'aloe':5, 'are':6, 'be':7})"
   ]
  },
  {
   "cell_type": "code",
   "execution_count": 49,
   "metadata": {
    "ExecuteTime": {
     "end_time": "2018-02-27T06:30:48.338353Z",
     "start_time": "2018-02-27T06:30:48.333620Z"
    }
   },
   "outputs": [
    {
     "data": {
      "text/plain": [
       "'我'"
      ]
     },
     "execution_count": 49,
     "metadata": {},
     "output_type": "execute_result"
    }
   ],
   "source": [
    "t.longest_prefix_value('aba', default='N/A')\n",
    "# t.get('aba')"
   ]
  },
  {
   "cell_type": "code",
   "execution_count": 50,
   "metadata": {
    "ExecuteTime": {
     "end_time": "2018-02-27T06:30:51.071633Z",
     "start_time": "2018-02-27T06:30:50.967405Z"
    },
    "collapsed": true
   },
   "outputs": [],
   "source": [
    "import re\n",
    "write_file = open('/Users/nali/Downloads/final_dict.txt', 'w')\n",
    "\n",
    "with open(\"/Users/nali/Downloads/汉英词典_utf_8.txt\", 'r') as file:\n",
    "    lines =  file.readlines()\n",
    "    flag = 0 \n",
    "    for line in lines:\n",
    "        flag += 1\n",
    "        \n",
    "        words = line.split(\"\\t\")\n",
    "#         print(words[0])\n",
    "        if(len(words)>1):\n",
    "            trans = words[1].split(';')\n",
    "            w = \"\"\n",
    "            for i in trans:\n",
    "                w += (i.strip()+\";\")\n",
    "            write_file.write(words[0]+\"\\t\"+w+\"\\n\")    \n",
    "        else:\n",
    "            write_file.write(words[0]+\"\\n\")\n",
    "\n",
    "write_file.close()"
   ]
  },
  {
   "cell_type": "code",
   "execution_count": 91,
   "metadata": {
    "ExecuteTime": {
     "end_time": "2018-02-22T06:18:45.968938Z",
     "start_time": "2018-02-22T06:18:45.761800Z"
    },
    "collapsed": true
   },
   "outputs": [],
   "source": [
    "# write_file = open('/Users/nali/Downloads/汉英词典_utf_8_2.txt', 'w')\n",
    "\n",
    "# with open(\"/Users/nali/Downloads/汉英词典_utf_8.txt\", 'r') as file:\n",
    "#     lines = file.readlines()\n",
    "#     for line in lines:\n",
    "#         words = ' '.join(filter(lambda x: x, line.split(' ')))\n",
    "#         words = words.replace(\"\\\\n\",\" \")\n",
    "#         words = re.sub(r'\\(.*\\)', \"\", words)\n",
    "#         words = re.sub(r'<.*>', \"\", words)\n",
    "#         words = ' '.join(filter(lambda x: x, words.split(' ')))\n",
    "#         write_file.write(words)\n",
    "# #     write_file.writelines(lines)\n",
    "# write_file.close()"
   ]
  },
  {
   "cell_type": "code",
   "execution_count": 51,
   "metadata": {
    "ExecuteTime": {
     "end_time": "2018-02-27T06:31:26.432777Z",
     "start_time": "2018-02-27T06:31:26.429574Z"
    },
    "collapsed": true
   },
   "outputs": [],
   "source": [
    "word = '; ; word; ;'"
   ]
  },
  {
   "cell_type": "code",
   "execution_count": 51,
   "metadata": {
    "ExecuteTime": {
     "end_time": "2018-02-22T03:09:54.469827Z",
     "start_time": "2018-02-22T03:09:54.463706Z"
    }
   },
   "outputs": [
    {
     "data": {
      "text/plain": [
       "['', ' ', ' word', ' ', '']"
      ]
     },
     "execution_count": 51,
     "metadata": {},
     "output_type": "execute_result"
    }
   ],
   "source": [
    "l = word.split(';')\n",
    "l\n",
    "\n"
   ]
  },
  {
   "cell_type": "code",
   "execution_count": 56,
   "metadata": {
    "ExecuteTime": {
     "end_time": "2018-02-22T03:14:07.576342Z",
     "start_time": "2018-02-22T03:14:07.567723Z"
    }
   },
   "outputs": [
    {
     "data": {
      "text/plain": [
       "['word']"
      ]
     },
     "execution_count": 56,
     "metadata": {},
     "output_type": "execute_result"
    }
   ],
   "source": [
    "for i in range(len(l)):\n",
    "    l[i] = l[i].strip()\n",
    "    if (l[i] == '' or l[i] == ' '):\n",
    "        del l[i]\n",
    "#         i=i-1\n",
    "l"
   ]
  },
  {
   "cell_type": "code",
   "execution_count": 20,
   "metadata": {
    "ExecuteTime": {
     "end_time": "2018-02-26T08:03:29.167602Z",
     "start_time": "2018-02-26T08:03:29.161121Z"
    }
   },
   "outputs": [
    {
     "name": "stdout",
     "output_type": "stream",
     "text": [
      "Kong\n"
     ]
    }
   ],
   "source": [
    "from pytrie import SortedStringTrie as Trie\n",
    "t = Trie()\n",
    "t.get('a')\n",
    "\n",
    "if(t.get('a')==None):\n",
    "    print('Kong')\n",
    "else:\n",
    "    print('not null')"
   ]
  },
  {
   "cell_type": "code",
   "execution_count": 21,
   "metadata": {
    "ExecuteTime": {
     "end_time": "2018-02-26T08:03:31.345786Z",
     "start_time": "2018-02-26T08:03:31.338727Z"
    }
   },
   "outputs": [
    {
     "data": {
      "text/plain": [
       "SortedStringTrie({'ab': {'b', 'a', 'c'}})"
      ]
     },
     "execution_count": 21,
     "metadata": {},
     "output_type": "execute_result"
    }
   ],
   "source": [
    "t['ab']=set(['a','b'])\n",
    "# t['a']={'啊'}\n",
    "tmp=['b','a']\n",
    "t['ab'].add('c')\n",
    "t['ab'].add('b')\n",
    "t"
   ]
  },
  {
   "cell_type": "code",
   "execution_count": 22,
   "metadata": {
    "ExecuteTime": {
     "end_time": "2018-02-26T08:03:32.678971Z",
     "start_time": "2018-02-26T08:03:32.673864Z"
    }
   },
   "outputs": [
    {
     "data": {
      "text/plain": [
       "SortedStringTrie({'ab': {'b', 'a', 'c'}})"
      ]
     },
     "execution_count": 22,
     "metadata": {},
     "output_type": "execute_result"
    }
   ],
   "source": [
    "t"
   ]
  },
  {
   "cell_type": "code",
   "execution_count": 23,
   "metadata": {
    "ExecuteTime": {
     "end_time": "2018-02-26T08:03:35.825044Z",
     "start_time": "2018-02-26T08:03:35.818013Z"
    }
   },
   "outputs": [
    {
     "name": "stdout",
     "output_type": "stream",
     "text": [
      "['haha', 'h', '']\n"
     ]
    },
    {
     "data": {
      "text/plain": [
       "True"
      ]
     },
     "execution_count": 23,
     "metadata": {},
     "output_type": "execute_result"
    }
   ],
   "source": [
    "t = 'haha;h;'.split(';')\n",
    "print(t)\n",
    "t[2]==''"
   ]
  },
  {
   "cell_type": "code",
   "execution_count": 52,
   "metadata": {
    "ExecuteTime": {
     "end_time": "2018-02-27T06:32:39.799515Z",
     "start_time": "2018-02-27T06:32:35.192094Z"
    },
    "collapsed": true
   },
   "outputs": [],
   "source": [
    "from pytrie import SortedStringTrie as Trie\n",
    "trie = Trie()\n",
    "\n",
    "with open(\"/Users/nali/Downloads/final_dict.txt\", 'r') as file:\n",
    "    lines = file.readlines()\n",
    "    flag = 0\n",
    "    for line in lines:\n",
    "        flag +=1\n",
    "        parts = line.strip().split('\\t')\n",
    "        if(len(parts)>1):\n",
    "            words = parts[1].split(';')\n",
    "            for word in words:\n",
    "                if(word != ''):\n",
    "                    if(trie.get(word) == None):\n",
    "                        trie[word]=set()\n",
    "                        trie[word].add(parts[0])\n",
    "                    else:\n",
    "                        trie[word].add(parts[0])\n",
    "    "
   ]
  },
  {
   "cell_type": "code",
   "execution_count": null,
   "metadata": {
    "ExecuteTime": {
     "end_time": "2018-02-27T06:32:42.772335Z",
     "start_time": "2018-02-27T06:32:42.210087Z"
    }
   },
   "outputs": [],
   "source": []
  },
  {
   "cell_type": "code",
   "execution_count": 54,
   "metadata": {
    "ExecuteTime": {
     "end_time": "2018-02-27T06:32:47.986927Z",
     "start_time": "2018-02-27T06:32:47.982472Z"
    }
   },
   "outputs": [
    {
     "data": {
      "text/plain": [
       "{'典', '字典', '词典'}"
      ]
     },
     "execution_count": 54,
     "metadata": {},
     "output_type": "execute_result"
    }
   ],
   "source": [
    "trie.get('dictionary')"
   ]
  },
  {
   "cell_type": "code",
   "execution_count": 384,
   "metadata": {
    "ExecuteTime": {
     "end_time": "2018-02-24T06:26:57.570280Z",
     "start_time": "2018-02-24T06:26:57.553197Z"
    }
   },
   "outputs": [
    {
     "name": "stdout",
     "output_type": "stream",
     "text": [
      "333\n",
      "333\n",
      "Contact Us\n",
      "\n",
      "联络我们\n",
      "\n"
     ]
    }
   ],
   "source": [
    "en = open(\"/Users/nali/github/ParallelCorpus/texts/www.edb.gov.hk/en;sc/1;en.txt\", 'r')\n",
    "sc = open(\"/Users/nali/github/ParallelCorpus/texts/www.edb.gov.hk/en;sc/1;sc.txt\", 'r')\n",
    "enLines = en.readlines()\n",
    "scLines = sc.readlines()\n",
    "print(len(enLines))\n",
    "print(len(scLines))\n",
    "print(enLines[10])\n",
    "print(scLines[10])"
   ]
  },
  {
   "cell_type": "code",
   "execution_count": 105,
   "metadata": {
    "ExecuteTime": {
     "end_time": "2018-02-28T03:04:33.015564Z",
     "start_time": "2018-02-28T03:04:32.997169Z"
    }
   },
   "outputs": [
    {
     "name": "stdout",
     "output_type": "stream",
     "text": [
      "73\n",
      "78\n",
      "True\n",
      "中文\n",
      "\n",
      "Wechat\n",
      "\n",
      "Wechat\n",
      "\n",
      "\n"
     ]
    }
   ],
   "source": [
    "\n",
    "en = open(\"/Users/nali/github/ParallelCorpus/texts/www.interface.com.cn/lang=en;lang=zh-cn/1;lang=zh-cn.txt\", 'r')\n",
    "sc = open(\"/Users/nali/github/ParallelCorpus/texts/www.interface.com.cn/lang=en;lang=zh-cn/1;lang=en.txt\", 'r')\n",
    "enLines = en.readlines()\n",
    "scLines = sc.readlines()\n",
    "print(len(enLines))\n",
    "print(len(scLines))\n",
    "print(enLines[1]==scLines[1])\n",
    "print(scLines[1])\n",
    "print(enLines[-3])\n",
    "print(scLines[-3])"
   ]
  },
  {
   "cell_type": "code",
   "execution_count": 58,
   "metadata": {
    "ExecuteTime": {
     "end_time": "2018-02-27T06:33:37.096632Z",
     "start_time": "2018-02-27T06:33:37.080792Z"
    },
    "collapsed": true
   },
   "outputs": [],
   "source": [
    "left = 1\n",
    "right =1 \n",
    "while(left + right >0 ):\n",
    "    if(scLines[0]==enLines[0]):\n",
    "        del(scLines[0])\n",
    "        del(enLines[0])\n",
    "    else:\n",
    "        left = 0\n",
    "    \n",
    "    if(scLines[-1]==enLines[-1]):\n",
    "        del(scLines[-1])\n",
    "        del(enLines[-1])\n",
    "    else:\n",
    "        right = 0"
   ]
  },
  {
   "cell_type": "code",
   "execution_count": 59,
   "metadata": {
    "ExecuteTime": {
     "end_time": "2018-02-27T06:33:41.749381Z",
     "start_time": "2018-02-27T06:33:41.742114Z"
    }
   },
   "outputs": [
    {
     "name": "stdout",
     "output_type": "stream",
     "text": [
      "72\n",
      "67\n",
      "Samples\n",
      "\n",
      "样品袋\n",
      "\n",
      "Pinterest\n",
      "\n",
      "图片平台\n",
      "\n"
     ]
    }
   ],
   "source": [
    "print(len(scLines))\n",
    "print(len(enLines))\n",
    "print(scLines[0])\n",
    "print(enLines[0])\n",
    "print(scLines[-1])\n",
    "print(enLines[-1])"
   ]
  },
  {
   "cell_type": "code",
   "execution_count": 84,
   "metadata": {
    "ExecuteTime": {
     "end_time": "2018-02-28T02:40:56.610295Z",
     "start_time": "2018-02-28T02:40:56.599423Z"
    }
   },
   "outputs": [
    {
     "name": "stdout",
     "output_type": "stream",
     "text": [
      "333\n"
     ]
    }
   ],
   "source": [
    "print(len(open(\"/Users/nali/github/ParallelCorpus/texts/www.edb.gov.hk/en;sc/1;en.txt\", 'r').readlines()))"
   ]
  },
  {
   "cell_type": "code",
   "execution_count": 85,
   "metadata": {
    "ExecuteTime": {
     "end_time": "2018-02-28T02:40:58.636549Z",
     "start_time": "2018-02-28T02:40:58.630863Z"
    }
   },
   "outputs": [
    {
     "name": "stdout",
     "output_type": "stream",
     "text": [
      "0\n",
      "0\n"
     ]
    }
   ],
   "source": [
    "l1 = len(en.readlines())\n",
    "l2 = len(sc.readlines())\n",
    "print(l1)\n",
    "print(l2)"
   ]
  },
  {
   "cell_type": "code",
   "execution_count": 86,
   "metadata": {
    "ExecuteTime": {
     "end_time": "2018-02-28T02:41:00.628373Z",
     "start_time": "2018-02-28T02:41:00.621931Z"
    }
   },
   "outputs": [
    {
     "name": "stdout",
     "output_type": "stream",
     "text": [
      "4\n",
      "6\n"
     ]
    }
   ],
   "source": [
    "print(len(\"haha\"))\n",
    "print(len(\"哈哈haha\"))"
   ]
  },
  {
   "cell_type": "code",
   "execution_count": 80,
   "metadata": {
    "ExecuteTime": {
     "end_time": "2018-02-28T02:21:04.303836Z",
     "start_time": "2018-02-28T02:21:03.894212Z"
    }
   },
   "outputs": [],
   "source": [
    "LTP_DATA_DIR = '/Users/nali/nlp/pyltp/ltp_data_v3.4.0/'  # ltp模型目录的路径\n",
    "cws_model_path = os.path.join(LTP_DATA_DIR, 'cws.model')  # 分词模型路径，模型名称为`cws.model`\n",
    "ner_model_path = os.path.join(LTP_DATA_DIR, 'ner.model')  # 命名实体识别模型路径，模型名称为`pos.model`\n",
    "pos_model_path = os.path.join(LTP_DATA_DIR, 'pos.model')\n",
    "\n",
    "segmentor = Segmentor()  # 初始化实例\n",
    "segmentor.load(cws_model_path)  # 加载模型\n",
    "\n",
    "en = open(\"/Users/nali/github/ParallelCorpus/texts/www.edb.gov.hk/en;sc/1;en.txt\", 'r').read()\n",
    "sc = open(\"/Users/nali/github/ParallelCorpus/texts/www.edb.gov.hk/en;sc/1;sc.txt\", 'r').read()\n",
    "en_words = segmentor.segment(en)  # 分词\n",
    "sc_words = segmentor.segment(sc)"
   ]
  },
  {
   "cell_type": "code",
   "execution_count": 189,
   "metadata": {
    "ExecuteTime": {
     "end_time": "2018-03-01T09:22:49.053508Z",
     "start_time": "2018-03-01T09:22:48.947572Z"
    }
   },
   "outputs": [],
   "source": [
    "# for word in list(en_words):\n",
    "#     print(word, ':',trie.get(word), ',', trie.get(word.lower()))\n",
    "# #     print(word,trie.get(word))\n",
    "\n"
   ]
  },
  {
   "cell_type": "code",
   "execution_count": 79,
   "metadata": {
    "ExecuteTime": {
     "end_time": "2018-02-27T06:44:52.244337Z",
     "start_time": "2018-02-27T06:44:52.236444Z"
    }
   },
   "outputs": [
    {
     "name": "stdout",
     "output_type": "stream",
     "text": [
      "2125\n",
      "None\n",
      "{'教学', '教育'}\n",
      "None\n",
      "{'教学', '教育'}\n",
      "represent\n"
     ]
    }
   ],
   "source": [
    "print(len(words))\n",
    "print(trie.get('Education', default='None'))\n",
    "print(trie.get('education', default='None'))\n",
    "print(trie.longest_prefix_value('Education', default='None'))\n",
    "print(trie.longest_prefix_value('education', default='None'))\n",
    "print(trie.longest_prefix('representation'))"
   ]
  },
  {
   "cell_type": "code",
   "execution_count": 192,
   "metadata": {
    "ExecuteTime": {
     "end_time": "2018-03-01T09:31:19.865753Z",
     "start_time": "2018-03-01T09:24:47.878621Z"
    }
   },
   "outputs": [],
   "source": [
    "LTP_DATA_DIR = '/Users/nali/nlp/pyltp/ltp_data_v3.4.0/'  # ltp模型目录的路径\n",
    "cws_model_path = os.path.join(LTP_DATA_DIR, 'cws.model')  # 分词模型路径，模型名称为`cws.model`\n",
    "ner_model_path = os.path.join(LTP_DATA_DIR, 'ner.model')  # 命名实体识别模型路径，模型名称为`pos.model`\n",
    "pos_model_path = os.path.join(LTP_DATA_DIR, 'pos.model')\n",
    "segmentor = Segmentor()  # 初始化实例\n",
    "segmentor.load(cws_model_path)  # 加载模型\n",
    "\n",
    "with open(\"/Users/nali/jupyter/parallel_corpus.csv\",\"a+\") as csvfile: \n",
    "    writer = csv.writer(csvfile)\n",
    "    \n",
    "    enList = glob.glob(\"/Users/nali/github/ParallelCorpus/texts/www.interface.com.cn/lang=en;lang=zh-cn/*;lang=en.txt\")\n",
    "    scList = glob.glob(\"/Users/nali/github/ParallelCorpus/texts/www.interface.com.cn/lang=en;lang=zh-cn/*;lang=zh-cn.txt\")\n",
    "\n",
    "#     enList = glob.glob(\"/Users/nali/github/ParallelCorpus/texts/www.edb.gov.hk/en;sc/*;en.txt\")\n",
    "#     scList = glob.glob(\"/Users/nali/github/ParallelCorpus/texts/www.edb.gov.hk/en;sc/*;sc.txt\")\n",
    "\n",
    "    for index in range(len(enList)):\n",
    "        lineCmp = .0\n",
    "        enLineLength = 1\n",
    "        sameLineCmp = 0\n",
    "        charCmp = .0\n",
    "        wordCmp = .0\n",
    "        dictCmp = .0\n",
    "        \n",
    "        enLines = open(enList[index], 'r').readlines()\n",
    "        scLines = open(scList[index], 'r').readlines()\n",
    "        \n",
    "        enStr = open(enList[index], 'r').read()\n",
    "        scStr = open(scList[index], 'r').read()\n",
    "        \n",
    "        enLineLength = len(enLines)\n",
    "        scLineLength = len(scLines)\n",
    "        \n",
    "#         print(enList[index])\n",
    "        lineCmp = enLineLength * 1.0 / scLineLength\n",
    "        \n",
    "        left = 1\n",
    "        right =1\n",
    "        while(left + right >0 ):\n",
    "            if(len(scLines)>0):\n",
    "                if(scLines[0]==enLines[0]):\n",
    "                    sameLineCmp += 1\n",
    "                    del(scLines[0])\n",
    "                    del(enLines[0])\n",
    "                else:\n",
    "                    left = 0\n",
    "            else:\n",
    "                break \n",
    "            if(len(scLines)>0):\n",
    "                if(scLines[-1]==enLines[-1]):\n",
    "                    sameLineCmp += 1\n",
    "                    del(scLines[-1])\n",
    "                    del(enLines[-1])\n",
    "                else:\n",
    "                    right = 0\n",
    "            else:\n",
    "                break\n",
    "        sameLineCmp = sameLineCmp*1.0 / enLineLength\n",
    "        charCmp = len(enStr)*1.0 / len(scStr) \n",
    "        \n",
    "        en_words = segmentor.segment(enStr)  # 分词\n",
    "        sc_words = segmentor.segment(scStr)\n",
    "        \n",
    "        wordCmp = len(list(en_words))/len(list(sc_words))\n",
    "        \n",
    "#         writer.writerows([[1, lineCmp, sameLineCmp, charCmp, wordCmp, 1]])\n",
    "#         if(lineCmp>5):\n",
    "#             print(\"!!!\")\n",
    "#             print(1, lineCmp, sameLineCmp, charCmp, wordCmp)\n",
    "#         print(1, lineCmp, sameLineCmp, charCmp, wordCmp)\n",
    "            "
   ]
  },
  {
   "cell_type": "code",
   "execution_count": 184,
   "metadata": {
    "ExecuteTime": {
     "end_time": "2018-03-01T06:35:49.514430Z",
     "start_time": "2018-03-01T06:35:49.505121Z"
    },
    "collapsed": true
   },
   "outputs": [],
   "source": [
    "enLines = open(\"/Users/nali/github/ParallelCorpus/texts/www.edb.gov.hk/en;sc/795;en.txt\", 'r').readlines()\n",
    "scLines = open(\"/Users/nali/github/ParallelCorpus/texts/www.edb.gov.hk/en;sc/795;sc.txt\", 'r').readlines()"
   ]
  },
  {
   "cell_type": "code",
   "execution_count": 185,
   "metadata": {
    "ExecuteTime": {
     "end_time": "2018-03-01T06:35:50.080005Z",
     "start_time": "2018-03-01T06:35:50.074899Z"
    }
   },
   "outputs": [
    {
     "name": "stdout",
     "output_type": "stream",
     "text": [
      "142\n",
      "151\n"
     ]
    }
   ],
   "source": [
    "print(len(enLines))\n",
    "print(len(scLines))"
   ]
  },
  {
   "cell_type": "code",
   "execution_count": 155,
   "metadata": {
    "ExecuteTime": {
     "end_time": "2018-02-28T07:56:57.772120Z",
     "start_time": "2018-02-28T07:56:57.752715Z"
    }
   },
   "outputs": [
    {
     "name": "stdout",
     "output_type": "stream",
     "text": [
      "0\n"
     ]
    }
   ],
   "source": [
    "left = 1\n",
    "right =1\n",
    "count = 0\n",
    "while(left + right >0):\n",
    "    if(len(scLines) > 0):\n",
    "        if(scLines[0]==enLines[0]):\n",
    "            sameLineCmp += 1\n",
    "            del(scLines[0])\n",
    "            del(enLines[0])\n",
    "            count+=1\n",
    "        else:\n",
    "            left = 0\n",
    "            \n",
    "        if(scLines[-1]==enLines[-1]):\n",
    "            count += 1\n",
    "            del(scLines[-1])\n",
    "            del(enLines[-1])\n",
    "        else:\n",
    "            right = 0\n",
    "    else:\n",
    "        break\n",
    "print(count)"
   ]
  },
  {
   "cell_type": "code",
   "execution_count": 157,
   "metadata": {
    "ExecuteTime": {
     "end_time": "2018-02-28T07:57:14.051094Z",
     "start_time": "2018-02-28T07:57:14.045639Z"
    }
   },
   "outputs": [
    {
     "name": "stdout",
     "output_type": "stream",
     "text": [
      "Important Notices\n",
      "\n",
      "重要告示\n",
      "\n"
     ]
    }
   ],
   "source": [
    "print(enLines[0])\n",
    "print(scLines[0])"
   ]
  },
  {
   "cell_type": "code",
   "execution_count": 160,
   "metadata": {
    "ExecuteTime": {
     "end_time": "2018-02-28T07:57:57.318349Z",
     "start_time": "2018-02-28T07:57:57.313406Z"
    }
   },
   "outputs": [
    {
     "data": {
      "text/plain": [
       "{'要', '要紧', '重大', '重要'}"
      ]
     },
     "execution_count": 160,
     "metadata": {},
     "output_type": "execute_result"
    }
   ],
   "source": [
    "trie.get(\"important\")"
   ]
  },
  {
   "cell_type": "code",
   "execution_count": 173,
   "metadata": {
    "ExecuteTime": {
     "end_time": "2018-02-28T09:12:44.064751Z",
     "start_time": "2018-02-28T09:12:44.051570Z"
    }
   },
   "outputs": [],
   "source": [
    "import csv\n",
    "\n",
    "#python2可以用file替代open\n",
    "with open(\"/Users/nali/jupyter/parallel_corpus.csv\",\"w+\") as csvfile: \n",
    "    writer = csv.writer(csvfile)\n",
    "\n",
    "    #先写入columns_name\n",
    "    writer.writerow([\"urlPattern\", \"lineCmp\", \"sameLineCmp\", \"charCmp\", \"wordCmp\", \"label\"])\n",
    "    #写入多行用writerows\n",
    "#     writer.writerows([[1, 1.0421052631578946, 0.0, 2.577777777777778, 1.1812865497076024, 1]])"
   ]
  },
  {
   "cell_type": "code",
   "execution_count": 178,
   "metadata": {
    "ExecuteTime": {
     "end_time": "2018-03-01T03:27:03.012858Z",
     "start_time": "2018-03-01T03:27:02.278672Z"
    }
   },
   "outputs": [
    {
     "name": "stdout",
     "output_type": "stream",
     "text": [
      "1 0.6153846153846154 0.0 5.889900662251655 2.494485294117647\n",
      "1 0.7204301075268817 0.0 1.263157894736842 0.543509272467903\n",
      "1 0.6382978723404256 0.0 1.9966442953020134 1.129251700680272\n",
      "1 0.9148936170212766 0.0 2.228476821192053 1.3221476510067114\n",
      "1 0.6595744680851063 0.0 3.9411764705882355 2.0067567567567566\n",
      "1 0.47692307692307695 0.0 1.2081673306772909 0.5277280858676208\n",
      "1 0.6626506024096386 0.0 5.149212233549583 1.934256055363322\n",
      "1 0.5645161290322581 0.0 1.309278350515464 0.5528571428571428\n",
      "1 1.5106382978723405 0.0 4.8105590062111805 2.3311258278145695\n",
      "1 1.8360655737704918 0.0 11.104166666666666 4.570707070707071\n",
      "1 0.19939577039274925 0.0 2.360031104199067 1.358649789029536\n",
      "1 2.359375 0.0 6.417035398230088 3.4066985645933014\n",
      "1 0.13142857142857142 0.0 0.42975451049985214 0.20507166482910694\n",
      "1 1.2340425531914894 0.0 5.397590361445783 2.758169934640523\n",
      "1 0.2920353982300885 0.0 0.6672171758876961 0.4053601340033501\n",
      "1 0.5535714285714286 0.0 1.745721271393643 1.0103626943005182\n",
      "1 0.4307692307692308 0.0 0.7885952712100139 0.42782152230971127\n"
     ]
    }
   ],
   "source": [
    "LTP_DATA_DIR = '/Users/nali/nlp/pyltp/ltp_data_v3.4.0/'  # ltp模型目录的路径\n",
    "cws_model_path = os.path.join(LTP_DATA_DIR, 'cws.model')  # 分词模型路径，模型名称为`cws.model`\n",
    "ner_model_path = os.path.join(LTP_DATA_DIR, 'ner.model')  # 命名实体识别模型路径，模型名称为`pos.model`\n",
    "pos_model_path = os.path.join(LTP_DATA_DIR, 'pos.model')\n",
    "segmentor = Segmentor()  # 初始化实例\n",
    "segmentor.load(cws_model_path)  # 加载模型\n",
    "\n",
    "with open(\"/Users/nali/jupyter/parallel_corpus.csv\",\"a+\") as csvfile: \n",
    "    writer = csv.writer(csvfile)\n",
    "    \n",
    "#     enList = glob.glob(\"/Users/nali/github/ParallelCorpus/texts/www.interface.com.cn/lang=en;lang=zh-cn/*;lang=en.txt\")\n",
    "#     scList = glob.glob(\"/Users/nali/github/ParallelCorpus/texts/www.interface.com.cn/lang=en;lang=zh-cn/*;lang=zh-cn.txt\")\n",
    "\n",
    "    enList = glob.glob(\"/Users/nali/github/ParallelCorpus/texts/www.lcsd.gov.hk/en_US;zh_CN/*;en_US.txt\")\n",
    "    scList = glob.glob(\"/Users/nali/github/ParallelCorpus/texts/www.edb.gov.hk/en;sc/*;sc.txt\")\n",
    "\n",
    "    for index in range(17):\n",
    "        lineCmp = .0\n",
    "        enLineLength = 1\n",
    "        sameLineCmp = 0\n",
    "        charCmp = .0\n",
    "        wordCmp = .0\n",
    "        dictCmp = .0\n",
    "        \n",
    "        enLines = open(enList[index], 'r').readlines()\n",
    "        scLines = open(scList[index], 'r').readlines()\n",
    "        \n",
    "        enStr = open(enList[index], 'r').read()\n",
    "        scStr = open(scList[index], 'r').read()\n",
    "        \n",
    "        enLineLength = len(enLines)\n",
    "        scLineLength = len(scLines)\n",
    "        \n",
    "    #     print(enList[index])\n",
    "        lineCmp = enLineLength * 1.0 / scLineLength\n",
    "        \n",
    "        left = 1\n",
    "        right =1\n",
    "        while(left + right >0 ):\n",
    "            if(len(scLines)>0):\n",
    "                if(scLines[0]==enLines[0]):\n",
    "                    sameLineCmp += 1\n",
    "                    del(scLines[0])\n",
    "                    del(enLines[0])\n",
    "                else:\n",
    "                    left = 0\n",
    "            else:\n",
    "                break \n",
    "            if(len(scLines)>0):\n",
    "                if(scLines[-1]==enLines[-1]):\n",
    "                    sameLineCmp += 1\n",
    "                    del(scLines[-1])\n",
    "                    del(enLines[-1])\n",
    "                else:\n",
    "                    right = 0\n",
    "            else:\n",
    "                break\n",
    "        sameLineCmp = sameLineCmp*1.0 / enLineLength\n",
    "        charCmp = len(enStr)*1.0 / len(scStr) \n",
    "        \n",
    "        en_words = segmentor.segment(enStr)  # 分词\n",
    "        sc_words = segmentor.segment(scStr)\n",
    "        \n",
    "        wordCmp = len(list(en_words))/len(list(sc_words))\n",
    "        \n",
    "        \n",
    "#         writer.writerows([[1, lineCmp, sameLineCmp, charCmp, wordCmp, 0]])\n",
    "        print(lineCmp, sameLineCmp, charCmp, wordCmp)\n",
    "            "
   ]
  },
  {
   "cell_type": "code",
   "execution_count": null,
   "metadata": {
    "collapsed": true
   },
   "outputs": [],
   "source": []
  }
 ],
 "metadata": {
  "kernelspec": {
   "display_name": "Python 3",
   "language": "python",
   "name": "python3"
  },
  "language_info": {
   "codemirror_mode": {
    "name": "ipython",
    "version": 3
   },
   "file_extension": ".py",
   "mimetype": "text/x-python",
   "name": "python",
   "nbconvert_exporter": "python",
   "pygments_lexer": "ipython3",
   "version": "3.6.3"
  }
 },
 "nbformat": 4,
 "nbformat_minor": 2
}
